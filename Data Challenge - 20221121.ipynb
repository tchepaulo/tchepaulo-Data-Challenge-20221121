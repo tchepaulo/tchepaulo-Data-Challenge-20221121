{
 "cells": [
  {
   "cell_type": "markdown",
   "id": "9b58b1e0",
   "metadata": {},
   "source": [
    " #  Data Challenge - 20221121"
   ]
  },
  {
   "cell_type": "raw",
   "id": "1b3b1658",
   "metadata": {},
   "source": [
    "# Attributes for both netflix_titles.csv and amazon_prime_titles.csv datasets:\n",
    "1 show_id - Unique ID for every Movie / Tv Show\n",
    "2 type - Identifier - A Movie or TV Show\n",
    "3 title - Title of the Movie / Tv Show\n",
    "4 director - Director of the Movie\n",
    "5 cast - Actors involved in the movie / show\n",
    "6 country - Country where the movie / show was produced\n",
    "7 data_added - Date it was added on Netflix or Amazon Prime \n",
    "8 release_year - Actual Release year of the move / show\n",
    "9 rating - TV Rating of the movie / show \n",
    "10 duration - Total Duration - in minutes or number of seasons\n"
   ]
  },
  {
   "cell_type": "code",
   "execution_count": 1,
   "id": "889501dc",
   "metadata": {
    "ExecuteTime": {
     "end_time": "2023-03-24T11:53:08.854044Z",
     "start_time": "2023-03-24T11:53:08.421633Z"
    }
   },
   "outputs": [],
   "source": [
    "import pandas as pd\n",
    "import numpy as np"
   ]
  },
  {
   "cell_type": "code",
   "execution_count": 2,
   "id": "8f05a062",
   "metadata": {
    "ExecuteTime": {
     "end_time": "2023-03-24T11:53:08.934925Z",
     "start_time": "2023-03-24T11:53:08.854044Z"
    }
   },
   "outputs": [],
   "source": [
    "df_amazon = pd.read_csv('Data/amazon_prime_titles.csv')"
   ]
  },
  {
   "cell_type": "code",
   "execution_count": 3,
   "id": "c9fcc4cc",
   "metadata": {
    "ExecuteTime": {
     "end_time": "2023-03-24T11:53:08.958847Z",
     "start_time": "2023-03-24T11:53:08.934925Z"
    }
   },
   "outputs": [
    {
     "data": {
      "text/html": [
       "<div>\n",
       "<style scoped>\n",
       "    .dataframe tbody tr th:only-of-type {\n",
       "        vertical-align: middle;\n",
       "    }\n",
       "\n",
       "    .dataframe tbody tr th {\n",
       "        vertical-align: top;\n",
       "    }\n",
       "\n",
       "    .dataframe thead th {\n",
       "        text-align: right;\n",
       "    }\n",
       "</style>\n",
       "<table border=\"1\" class=\"dataframe\">\n",
       "  <thead>\n",
       "    <tr style=\"text-align: right;\">\n",
       "      <th></th>\n",
       "      <th>show_id</th>\n",
       "      <th>type</th>\n",
       "      <th>title</th>\n",
       "      <th>director</th>\n",
       "      <th>cast</th>\n",
       "      <th>country</th>\n",
       "      <th>date_added</th>\n",
       "      <th>release_year</th>\n",
       "      <th>rating</th>\n",
       "      <th>duration</th>\n",
       "      <th>listed_in</th>\n",
       "      <th>description</th>\n",
       "    </tr>\n",
       "  </thead>\n",
       "  <tbody>\n",
       "    <tr>\n",
       "      <th>0</th>\n",
       "      <td>s1</td>\n",
       "      <td>Movie</td>\n",
       "      <td>The Grand Seduction</td>\n",
       "      <td>Don McKellar</td>\n",
       "      <td>Brendan Gleeson, Taylor Kitsch, Gordon Pinsent</td>\n",
       "      <td>Canada</td>\n",
       "      <td>March 30, 2021</td>\n",
       "      <td>2014</td>\n",
       "      <td>NaN</td>\n",
       "      <td>113 min</td>\n",
       "      <td>Comedy, Drama</td>\n",
       "      <td>A small fishing village must procure a local d...</td>\n",
       "    </tr>\n",
       "    <tr>\n",
       "      <th>1</th>\n",
       "      <td>s2</td>\n",
       "      <td>Movie</td>\n",
       "      <td>Take Care Good Night</td>\n",
       "      <td>Girish Joshi</td>\n",
       "      <td>Mahesh Manjrekar, Abhay Mahajan, Sachin Khedekar</td>\n",
       "      <td>India</td>\n",
       "      <td>March 30, 2021</td>\n",
       "      <td>2018</td>\n",
       "      <td>13+</td>\n",
       "      <td>110 min</td>\n",
       "      <td>Drama, International</td>\n",
       "      <td>A Metro Family decides to fight a Cyber Crimin...</td>\n",
       "    </tr>\n",
       "    <tr>\n",
       "      <th>2</th>\n",
       "      <td>s3</td>\n",
       "      <td>Movie</td>\n",
       "      <td>Secrets of Deception</td>\n",
       "      <td>Josh Webber</td>\n",
       "      <td>Tom Sizemore, Lorenzo Lamas, Robert LaSardo, R...</td>\n",
       "      <td>United States</td>\n",
       "      <td>March 30, 2021</td>\n",
       "      <td>2017</td>\n",
       "      <td>NaN</td>\n",
       "      <td>74 min</td>\n",
       "      <td>Action, Drama, Suspense</td>\n",
       "      <td>After a man discovers his wife is cheating on ...</td>\n",
       "    </tr>\n",
       "    <tr>\n",
       "      <th>3</th>\n",
       "      <td>s4</td>\n",
       "      <td>Movie</td>\n",
       "      <td>Pink: Staying True</td>\n",
       "      <td>Sonia Anderson</td>\n",
       "      <td>Interviews with: Pink, Adele, Beyoncé, Britney...</td>\n",
       "      <td>United States</td>\n",
       "      <td>March 30, 2021</td>\n",
       "      <td>2014</td>\n",
       "      <td>NaN</td>\n",
       "      <td>69 min</td>\n",
       "      <td>Documentary</td>\n",
       "      <td>Pink breaks the mold once again, bringing her ...</td>\n",
       "    </tr>\n",
       "    <tr>\n",
       "      <th>4</th>\n",
       "      <td>s5</td>\n",
       "      <td>Movie</td>\n",
       "      <td>Monster Maker</td>\n",
       "      <td>Giles Foster</td>\n",
       "      <td>Harry Dean Stanton, Kieran O'Brien, George Cos...</td>\n",
       "      <td>United Kingdom</td>\n",
       "      <td>March 30, 2021</td>\n",
       "      <td>1989</td>\n",
       "      <td>NaN</td>\n",
       "      <td>45 min</td>\n",
       "      <td>Drama, Fantasy</td>\n",
       "      <td>Teenage Matt Banting wants to work with a famo...</td>\n",
       "    </tr>\n",
       "  </tbody>\n",
       "</table>\n",
       "</div>"
      ],
      "text/plain": [
       "  show_id   type                 title        director  \\\n",
       "0      s1  Movie   The Grand Seduction    Don McKellar   \n",
       "1      s2  Movie  Take Care Good Night    Girish Joshi   \n",
       "2      s3  Movie  Secrets of Deception     Josh Webber   \n",
       "3      s4  Movie    Pink: Staying True  Sonia Anderson   \n",
       "4      s5  Movie         Monster Maker    Giles Foster   \n",
       "\n",
       "                                                cast         country  \\\n",
       "0     Brendan Gleeson, Taylor Kitsch, Gordon Pinsent          Canada   \n",
       "1   Mahesh Manjrekar, Abhay Mahajan, Sachin Khedekar           India   \n",
       "2  Tom Sizemore, Lorenzo Lamas, Robert LaSardo, R...   United States   \n",
       "3  Interviews with: Pink, Adele, Beyoncé, Britney...   United States   \n",
       "4  Harry Dean Stanton, Kieran O'Brien, George Cos...  United Kingdom   \n",
       "\n",
       "       date_added  release_year rating duration                listed_in  \\\n",
       "0  March 30, 2021          2014    NaN  113 min            Comedy, Drama   \n",
       "1  March 30, 2021          2018    13+  110 min     Drama, International   \n",
       "2  March 30, 2021          2017    NaN   74 min  Action, Drama, Suspense   \n",
       "3  March 30, 2021          2014    NaN   69 min              Documentary   \n",
       "4  March 30, 2021          1989    NaN   45 min           Drama, Fantasy   \n",
       "\n",
       "                                         description  \n",
       "0  A small fishing village must procure a local d...  \n",
       "1  A Metro Family decides to fight a Cyber Crimin...  \n",
       "2  After a man discovers his wife is cheating on ...  \n",
       "3  Pink breaks the mold once again, bringing her ...  \n",
       "4  Teenage Matt Banting wants to work with a famo...  "
      ]
     },
     "execution_count": 3,
     "metadata": {},
     "output_type": "execute_result"
    }
   ],
   "source": [
    "# Verificando as 5 primeiras linhas do df\n",
    "df_amazon.head()"
   ]
  },
  {
   "cell_type": "code",
   "execution_count": 4,
   "id": "61ef669a",
   "metadata": {
    "ExecuteTime": {
     "end_time": "2023-03-24T11:53:08.974848Z",
     "start_time": "2023-03-24T11:53:08.958847Z"
    }
   },
   "outputs": [
    {
     "data": {
      "text/plain": [
       "(9668, 12)"
      ]
     },
     "execution_count": 4,
     "metadata": {},
     "output_type": "execute_result"
    }
   ],
   "source": [
    "# Total linhas e colunas\n",
    "df_amazon.shape"
   ]
  },
  {
   "cell_type": "code",
   "execution_count": 5,
   "id": "f58e5e4a",
   "metadata": {
    "ExecuteTime": {
     "end_time": "2023-03-24T11:53:08.990851Z",
     "start_time": "2023-03-24T11:53:08.974848Z"
    }
   },
   "outputs": [
    {
     "data": {
      "text/plain": [
       "Index(['show_id', 'type', 'title', 'director', 'cast', 'country', 'date_added',\n",
       "       'release_year', 'rating', 'duration', 'listed_in', 'description'],\n",
       "      dtype='object')"
      ]
     },
     "execution_count": 5,
     "metadata": {},
     "output_type": "execute_result"
    }
   ],
   "source": [
    "# Verificando as colunas\n",
    "df_amazon.columns"
   ]
  },
  {
   "cell_type": "code",
   "execution_count": 6,
   "id": "1f53b1ee",
   "metadata": {
    "ExecuteTime": {
     "end_time": "2023-03-24T11:53:09.029697Z",
     "start_time": "2023-03-24T11:53:08.990851Z"
    }
   },
   "outputs": [
    {
     "name": "stdout",
     "output_type": "stream",
     "text": [
      "<class 'pandas.core.frame.DataFrame'>\n",
      "RangeIndex: 9668 entries, 0 to 9667\n",
      "Data columns (total 12 columns):\n",
      " #   Column        Non-Null Count  Dtype \n",
      "---  ------        --------------  ----- \n",
      " 0   show_id       9668 non-null   object\n",
      " 1   type          9668 non-null   object\n",
      " 2   title         9668 non-null   object\n",
      " 3   director      7586 non-null   object\n",
      " 4   cast          8435 non-null   object\n",
      " 5   country       672 non-null    object\n",
      " 6   date_added    155 non-null    object\n",
      " 7   release_year  9668 non-null   int64 \n",
      " 8   rating        9331 non-null   object\n",
      " 9   duration      9668 non-null   object\n",
      " 10  listed_in     9668 non-null   object\n",
      " 11  description   9668 non-null   object\n",
      "dtypes: int64(1), object(11)\n",
      "memory usage: 906.5+ KB\n"
     ]
    }
   ],
   "source": [
    "# Verficando os tipos das colunas\n",
    "df_amazon.info()"
   ]
  },
  {
   "cell_type": "code",
   "execution_count": 7,
   "id": "8463de9e",
   "metadata": {
    "ExecuteTime": {
     "end_time": "2023-03-24T11:53:09.138658Z",
     "start_time": "2023-03-24T11:53:09.029697Z"
    }
   },
   "outputs": [],
   "source": [
    "df_netflix = pd.read_csv('Data/netflix_titles.csv')"
   ]
  },
  {
   "cell_type": "code",
   "execution_count": 8,
   "id": "fe83c8bd",
   "metadata": {
    "ExecuteTime": {
     "end_time": "2023-03-24T11:53:09.162704Z",
     "start_time": "2023-03-24T11:53:09.138658Z"
    }
   },
   "outputs": [
    {
     "data": {
      "text/html": [
       "<div>\n",
       "<style scoped>\n",
       "    .dataframe tbody tr th:only-of-type {\n",
       "        vertical-align: middle;\n",
       "    }\n",
       "\n",
       "    .dataframe tbody tr th {\n",
       "        vertical-align: top;\n",
       "    }\n",
       "\n",
       "    .dataframe thead th {\n",
       "        text-align: right;\n",
       "    }\n",
       "</style>\n",
       "<table border=\"1\" class=\"dataframe\">\n",
       "  <thead>\n",
       "    <tr style=\"text-align: right;\">\n",
       "      <th></th>\n",
       "      <th>show_id</th>\n",
       "      <th>type</th>\n",
       "      <th>title</th>\n",
       "      <th>director</th>\n",
       "      <th>cast</th>\n",
       "      <th>country</th>\n",
       "      <th>date_added</th>\n",
       "      <th>release_year</th>\n",
       "      <th>rating</th>\n",
       "      <th>duration</th>\n",
       "      <th>listed_in</th>\n",
       "      <th>description</th>\n",
       "    </tr>\n",
       "  </thead>\n",
       "  <tbody>\n",
       "    <tr>\n",
       "      <th>0</th>\n",
       "      <td>s1</td>\n",
       "      <td>Movie</td>\n",
       "      <td>Dick Johnson Is Dead</td>\n",
       "      <td>Kirsten Johnson</td>\n",
       "      <td>NaN</td>\n",
       "      <td>United States</td>\n",
       "      <td>September 25, 2021</td>\n",
       "      <td>2020</td>\n",
       "      <td>PG-13</td>\n",
       "      <td>90 min</td>\n",
       "      <td>Documentaries</td>\n",
       "      <td>As her father nears the end of his life, filmm...</td>\n",
       "    </tr>\n",
       "    <tr>\n",
       "      <th>1</th>\n",
       "      <td>s2</td>\n",
       "      <td>TV Show</td>\n",
       "      <td>Blood &amp; Water</td>\n",
       "      <td>NaN</td>\n",
       "      <td>Ama Qamata, Khosi Ngema, Gail Mabalane, Thaban...</td>\n",
       "      <td>South Africa</td>\n",
       "      <td>September 24, 2021</td>\n",
       "      <td>2021</td>\n",
       "      <td>TV-MA</td>\n",
       "      <td>2 Seasons</td>\n",
       "      <td>International TV Shows, TV Dramas, TV Mysteries</td>\n",
       "      <td>After crossing paths at a party, a Cape Town t...</td>\n",
       "    </tr>\n",
       "    <tr>\n",
       "      <th>2</th>\n",
       "      <td>s3</td>\n",
       "      <td>TV Show</td>\n",
       "      <td>Ganglands</td>\n",
       "      <td>Julien Leclercq</td>\n",
       "      <td>Sami Bouajila, Tracy Gotoas, Samuel Jouy, Nabi...</td>\n",
       "      <td>NaN</td>\n",
       "      <td>September 24, 2021</td>\n",
       "      <td>2021</td>\n",
       "      <td>TV-MA</td>\n",
       "      <td>1 Season</td>\n",
       "      <td>Crime TV Shows, International TV Shows, TV Act...</td>\n",
       "      <td>To protect his family from a powerful drug lor...</td>\n",
       "    </tr>\n",
       "    <tr>\n",
       "      <th>3</th>\n",
       "      <td>s4</td>\n",
       "      <td>TV Show</td>\n",
       "      <td>Jailbirds New Orleans</td>\n",
       "      <td>NaN</td>\n",
       "      <td>NaN</td>\n",
       "      <td>NaN</td>\n",
       "      <td>September 24, 2021</td>\n",
       "      <td>2021</td>\n",
       "      <td>TV-MA</td>\n",
       "      <td>1 Season</td>\n",
       "      <td>Docuseries, Reality TV</td>\n",
       "      <td>Feuds, flirtations and toilet talk go down amo...</td>\n",
       "    </tr>\n",
       "    <tr>\n",
       "      <th>4</th>\n",
       "      <td>s5</td>\n",
       "      <td>TV Show</td>\n",
       "      <td>Kota Factory</td>\n",
       "      <td>NaN</td>\n",
       "      <td>Mayur More, Jitendra Kumar, Ranjan Raj, Alam K...</td>\n",
       "      <td>India</td>\n",
       "      <td>September 24, 2021</td>\n",
       "      <td>2021</td>\n",
       "      <td>TV-MA</td>\n",
       "      <td>2 Seasons</td>\n",
       "      <td>International TV Shows, Romantic TV Shows, TV ...</td>\n",
       "      <td>In a city of coaching centers known to train I...</td>\n",
       "    </tr>\n",
       "  </tbody>\n",
       "</table>\n",
       "</div>"
      ],
      "text/plain": [
       "  show_id     type                  title         director  \\\n",
       "0      s1    Movie   Dick Johnson Is Dead  Kirsten Johnson   \n",
       "1      s2  TV Show          Blood & Water              NaN   \n",
       "2      s3  TV Show              Ganglands  Julien Leclercq   \n",
       "3      s4  TV Show  Jailbirds New Orleans              NaN   \n",
       "4      s5  TV Show           Kota Factory              NaN   \n",
       "\n",
       "                                                cast        country  \\\n",
       "0                                                NaN  United States   \n",
       "1  Ama Qamata, Khosi Ngema, Gail Mabalane, Thaban...   South Africa   \n",
       "2  Sami Bouajila, Tracy Gotoas, Samuel Jouy, Nabi...            NaN   \n",
       "3                                                NaN            NaN   \n",
       "4  Mayur More, Jitendra Kumar, Ranjan Raj, Alam K...          India   \n",
       "\n",
       "           date_added  release_year rating   duration  \\\n",
       "0  September 25, 2021          2020  PG-13     90 min   \n",
       "1  September 24, 2021          2021  TV-MA  2 Seasons   \n",
       "2  September 24, 2021          2021  TV-MA   1 Season   \n",
       "3  September 24, 2021          2021  TV-MA   1 Season   \n",
       "4  September 24, 2021          2021  TV-MA  2 Seasons   \n",
       "\n",
       "                                           listed_in  \\\n",
       "0                                      Documentaries   \n",
       "1    International TV Shows, TV Dramas, TV Mysteries   \n",
       "2  Crime TV Shows, International TV Shows, TV Act...   \n",
       "3                             Docuseries, Reality TV   \n",
       "4  International TV Shows, Romantic TV Shows, TV ...   \n",
       "\n",
       "                                         description  \n",
       "0  As her father nears the end of his life, filmm...  \n",
       "1  After crossing paths at a party, a Cape Town t...  \n",
       "2  To protect his family from a powerful drug lor...  \n",
       "3  Feuds, flirtations and toilet talk go down amo...  \n",
       "4  In a city of coaching centers known to train I...  "
      ]
     },
     "execution_count": 8,
     "metadata": {},
     "output_type": "execute_result"
    }
   ],
   "source": [
    "# Verificando as 5 primeiras linhas do df\n",
    "df_netflix.head()"
   ]
  },
  {
   "cell_type": "code",
   "execution_count": 9,
   "id": "6f8c0061",
   "metadata": {
    "ExecuteTime": {
     "end_time": "2023-03-24T11:53:09.179022Z",
     "start_time": "2023-03-24T11:53:09.163391Z"
    }
   },
   "outputs": [
    {
     "data": {
      "text/plain": [
       "(8807, 12)"
      ]
     },
     "execution_count": 9,
     "metadata": {},
     "output_type": "execute_result"
    }
   ],
   "source": [
    "# Total linhas e colunas\n",
    "df_netflix.shape"
   ]
  },
  {
   "cell_type": "code",
   "execution_count": 10,
   "id": "330a511c",
   "metadata": {
    "ExecuteTime": {
     "end_time": "2023-03-24T11:53:09.194950Z",
     "start_time": "2023-03-24T11:53:09.179022Z"
    }
   },
   "outputs": [
    {
     "data": {
      "text/plain": [
       "Index(['show_id', 'type', 'title', 'director', 'cast', 'country', 'date_added',\n",
       "       'release_year', 'rating', 'duration', 'listed_in', 'description'],\n",
       "      dtype='object')"
      ]
     },
     "execution_count": 10,
     "metadata": {},
     "output_type": "execute_result"
    }
   ],
   "source": [
    "# Verificando as colunas\n",
    "df_netflix.columns"
   ]
  },
  {
   "cell_type": "code",
   "execution_count": 11,
   "id": "24187288",
   "metadata": {
    "ExecuteTime": {
     "end_time": "2023-03-24T11:53:09.227447Z",
     "start_time": "2023-03-24T11:53:09.196757Z"
    }
   },
   "outputs": [
    {
     "name": "stdout",
     "output_type": "stream",
     "text": [
      "<class 'pandas.core.frame.DataFrame'>\n",
      "RangeIndex: 8807 entries, 0 to 8806\n",
      "Data columns (total 12 columns):\n",
      " #   Column        Non-Null Count  Dtype \n",
      "---  ------        --------------  ----- \n",
      " 0   show_id       8807 non-null   object\n",
      " 1   type          8807 non-null   object\n",
      " 2   title         8807 non-null   object\n",
      " 3   director      6173 non-null   object\n",
      " 4   cast          7982 non-null   object\n",
      " 5   country       7976 non-null   object\n",
      " 6   date_added    8797 non-null   object\n",
      " 7   release_year  8807 non-null   int64 \n",
      " 8   rating        8803 non-null   object\n",
      " 9   duration      8804 non-null   object\n",
      " 10  listed_in     8807 non-null   object\n",
      " 11  description   8807 non-null   object\n",
      "dtypes: int64(1), object(11)\n",
      "memory usage: 825.8+ KB\n"
     ]
    }
   ],
   "source": [
    "# Verficando os tipos das colunas\n",
    "df_netflix.info()"
   ]
  },
  {
   "cell_type": "markdown",
   "id": "9df4a8b9",
   "metadata": {},
   "source": [
    "#  Mesclando os df_netflix e df_amazon"
   ]
  },
  {
   "cell_type": "code",
   "execution_count": 12,
   "id": "7548605a",
   "metadata": {
    "ExecuteTime": {
     "end_time": "2023-03-24T11:53:09.259367Z",
     "start_time": "2023-03-24T11:53:09.227447Z"
    }
   },
   "outputs": [],
   "source": [
    "# Juntando os df\n",
    "df = pd.merge(df_amazon, df_netflix, how='outer', on='show_id', suffixes=('_amazon', '_netflix'))"
   ]
  },
  {
   "cell_type": "code",
   "execution_count": 13,
   "id": "51edf3f6",
   "metadata": {
    "ExecuteTime": {
     "end_time": "2023-03-24T11:53:09.275633Z",
     "start_time": "2023-03-24T11:53:09.260392Z"
    }
   },
   "outputs": [
    {
     "data": {
      "text/html": [
       "<div>\n",
       "<style scoped>\n",
       "    .dataframe tbody tr th:only-of-type {\n",
       "        vertical-align: middle;\n",
       "    }\n",
       "\n",
       "    .dataframe tbody tr th {\n",
       "        vertical-align: top;\n",
       "    }\n",
       "\n",
       "    .dataframe thead th {\n",
       "        text-align: right;\n",
       "    }\n",
       "</style>\n",
       "<table border=\"1\" class=\"dataframe\">\n",
       "  <thead>\n",
       "    <tr style=\"text-align: right;\">\n",
       "      <th></th>\n",
       "      <th>show_id</th>\n",
       "      <th>type_amazon</th>\n",
       "      <th>title_amazon</th>\n",
       "      <th>director_amazon</th>\n",
       "      <th>cast_amazon</th>\n",
       "      <th>country_amazon</th>\n",
       "      <th>date_added_amazon</th>\n",
       "      <th>release_year_amazon</th>\n",
       "      <th>rating_amazon</th>\n",
       "      <th>duration_amazon</th>\n",
       "      <th>...</th>\n",
       "      <th>title_netflix</th>\n",
       "      <th>director_netflix</th>\n",
       "      <th>cast_netflix</th>\n",
       "      <th>country_netflix</th>\n",
       "      <th>date_added_netflix</th>\n",
       "      <th>release_year_netflix</th>\n",
       "      <th>rating_netflix</th>\n",
       "      <th>duration_netflix</th>\n",
       "      <th>listed_in_netflix</th>\n",
       "      <th>description_netflix</th>\n",
       "    </tr>\n",
       "  </thead>\n",
       "  <tbody>\n",
       "    <tr>\n",
       "      <th>0</th>\n",
       "      <td>s1</td>\n",
       "      <td>Movie</td>\n",
       "      <td>The Grand Seduction</td>\n",
       "      <td>Don McKellar</td>\n",
       "      <td>Brendan Gleeson, Taylor Kitsch, Gordon Pinsent</td>\n",
       "      <td>Canada</td>\n",
       "      <td>March 30, 2021</td>\n",
       "      <td>2014</td>\n",
       "      <td>NaN</td>\n",
       "      <td>113 min</td>\n",
       "      <td>...</td>\n",
       "      <td>Dick Johnson Is Dead</td>\n",
       "      <td>Kirsten Johnson</td>\n",
       "      <td>NaN</td>\n",
       "      <td>United States</td>\n",
       "      <td>September 25, 2021</td>\n",
       "      <td>2020.0</td>\n",
       "      <td>PG-13</td>\n",
       "      <td>90 min</td>\n",
       "      <td>Documentaries</td>\n",
       "      <td>As her father nears the end of his life, filmm...</td>\n",
       "    </tr>\n",
       "    <tr>\n",
       "      <th>1</th>\n",
       "      <td>s2</td>\n",
       "      <td>Movie</td>\n",
       "      <td>Take Care Good Night</td>\n",
       "      <td>Girish Joshi</td>\n",
       "      <td>Mahesh Manjrekar, Abhay Mahajan, Sachin Khedekar</td>\n",
       "      <td>India</td>\n",
       "      <td>March 30, 2021</td>\n",
       "      <td>2018</td>\n",
       "      <td>13+</td>\n",
       "      <td>110 min</td>\n",
       "      <td>...</td>\n",
       "      <td>Blood &amp; Water</td>\n",
       "      <td>NaN</td>\n",
       "      <td>Ama Qamata, Khosi Ngema, Gail Mabalane, Thaban...</td>\n",
       "      <td>South Africa</td>\n",
       "      <td>September 24, 2021</td>\n",
       "      <td>2021.0</td>\n",
       "      <td>TV-MA</td>\n",
       "      <td>2 Seasons</td>\n",
       "      <td>International TV Shows, TV Dramas, TV Mysteries</td>\n",
       "      <td>After crossing paths at a party, a Cape Town t...</td>\n",
       "    </tr>\n",
       "    <tr>\n",
       "      <th>2</th>\n",
       "      <td>s3</td>\n",
       "      <td>Movie</td>\n",
       "      <td>Secrets of Deception</td>\n",
       "      <td>Josh Webber</td>\n",
       "      <td>Tom Sizemore, Lorenzo Lamas, Robert LaSardo, R...</td>\n",
       "      <td>United States</td>\n",
       "      <td>March 30, 2021</td>\n",
       "      <td>2017</td>\n",
       "      <td>NaN</td>\n",
       "      <td>74 min</td>\n",
       "      <td>...</td>\n",
       "      <td>Ganglands</td>\n",
       "      <td>Julien Leclercq</td>\n",
       "      <td>Sami Bouajila, Tracy Gotoas, Samuel Jouy, Nabi...</td>\n",
       "      <td>NaN</td>\n",
       "      <td>September 24, 2021</td>\n",
       "      <td>2021.0</td>\n",
       "      <td>TV-MA</td>\n",
       "      <td>1 Season</td>\n",
       "      <td>Crime TV Shows, International TV Shows, TV Act...</td>\n",
       "      <td>To protect his family from a powerful drug lor...</td>\n",
       "    </tr>\n",
       "    <tr>\n",
       "      <th>3</th>\n",
       "      <td>s4</td>\n",
       "      <td>Movie</td>\n",
       "      <td>Pink: Staying True</td>\n",
       "      <td>Sonia Anderson</td>\n",
       "      <td>Interviews with: Pink, Adele, Beyoncé, Britney...</td>\n",
       "      <td>United States</td>\n",
       "      <td>March 30, 2021</td>\n",
       "      <td>2014</td>\n",
       "      <td>NaN</td>\n",
       "      <td>69 min</td>\n",
       "      <td>...</td>\n",
       "      <td>Jailbirds New Orleans</td>\n",
       "      <td>NaN</td>\n",
       "      <td>NaN</td>\n",
       "      <td>NaN</td>\n",
       "      <td>September 24, 2021</td>\n",
       "      <td>2021.0</td>\n",
       "      <td>TV-MA</td>\n",
       "      <td>1 Season</td>\n",
       "      <td>Docuseries, Reality TV</td>\n",
       "      <td>Feuds, flirtations and toilet talk go down amo...</td>\n",
       "    </tr>\n",
       "    <tr>\n",
       "      <th>4</th>\n",
       "      <td>s5</td>\n",
       "      <td>Movie</td>\n",
       "      <td>Monster Maker</td>\n",
       "      <td>Giles Foster</td>\n",
       "      <td>Harry Dean Stanton, Kieran O'Brien, George Cos...</td>\n",
       "      <td>United Kingdom</td>\n",
       "      <td>March 30, 2021</td>\n",
       "      <td>1989</td>\n",
       "      <td>NaN</td>\n",
       "      <td>45 min</td>\n",
       "      <td>...</td>\n",
       "      <td>Kota Factory</td>\n",
       "      <td>NaN</td>\n",
       "      <td>Mayur More, Jitendra Kumar, Ranjan Raj, Alam K...</td>\n",
       "      <td>India</td>\n",
       "      <td>September 24, 2021</td>\n",
       "      <td>2021.0</td>\n",
       "      <td>TV-MA</td>\n",
       "      <td>2 Seasons</td>\n",
       "      <td>International TV Shows, Romantic TV Shows, TV ...</td>\n",
       "      <td>In a city of coaching centers known to train I...</td>\n",
       "    </tr>\n",
       "  </tbody>\n",
       "</table>\n",
       "<p>5 rows × 23 columns</p>\n",
       "</div>"
      ],
      "text/plain": [
       "  show_id type_amazon          title_amazon director_amazon  \\\n",
       "0      s1       Movie   The Grand Seduction    Don McKellar   \n",
       "1      s2       Movie  Take Care Good Night    Girish Joshi   \n",
       "2      s3       Movie  Secrets of Deception     Josh Webber   \n",
       "3      s4       Movie    Pink: Staying True  Sonia Anderson   \n",
       "4      s5       Movie         Monster Maker    Giles Foster   \n",
       "\n",
       "                                         cast_amazon  country_amazon  \\\n",
       "0     Brendan Gleeson, Taylor Kitsch, Gordon Pinsent          Canada   \n",
       "1   Mahesh Manjrekar, Abhay Mahajan, Sachin Khedekar           India   \n",
       "2  Tom Sizemore, Lorenzo Lamas, Robert LaSardo, R...   United States   \n",
       "3  Interviews with: Pink, Adele, Beyoncé, Britney...   United States   \n",
       "4  Harry Dean Stanton, Kieran O'Brien, George Cos...  United Kingdom   \n",
       "\n",
       "  date_added_amazon  release_year_amazon rating_amazon duration_amazon  ...  \\\n",
       "0    March 30, 2021                 2014           NaN         113 min  ...   \n",
       "1    March 30, 2021                 2018           13+         110 min  ...   \n",
       "2    March 30, 2021                 2017           NaN          74 min  ...   \n",
       "3    March 30, 2021                 2014           NaN          69 min  ...   \n",
       "4    March 30, 2021                 1989           NaN          45 min  ...   \n",
       "\n",
       "           title_netflix director_netflix  \\\n",
       "0   Dick Johnson Is Dead  Kirsten Johnson   \n",
       "1          Blood & Water              NaN   \n",
       "2              Ganglands  Julien Leclercq   \n",
       "3  Jailbirds New Orleans              NaN   \n",
       "4           Kota Factory              NaN   \n",
       "\n",
       "                                        cast_netflix country_netflix  \\\n",
       "0                                                NaN   United States   \n",
       "1  Ama Qamata, Khosi Ngema, Gail Mabalane, Thaban...    South Africa   \n",
       "2  Sami Bouajila, Tracy Gotoas, Samuel Jouy, Nabi...             NaN   \n",
       "3                                                NaN             NaN   \n",
       "4  Mayur More, Jitendra Kumar, Ranjan Raj, Alam K...           India   \n",
       "\n",
       "   date_added_netflix release_year_netflix rating_netflix duration_netflix  \\\n",
       "0  September 25, 2021               2020.0          PG-13           90 min   \n",
       "1  September 24, 2021               2021.0          TV-MA        2 Seasons   \n",
       "2  September 24, 2021               2021.0          TV-MA         1 Season   \n",
       "3  September 24, 2021               2021.0          TV-MA         1 Season   \n",
       "4  September 24, 2021               2021.0          TV-MA        2 Seasons   \n",
       "\n",
       "                                   listed_in_netflix  \\\n",
       "0                                      Documentaries   \n",
       "1    International TV Shows, TV Dramas, TV Mysteries   \n",
       "2  Crime TV Shows, International TV Shows, TV Act...   \n",
       "3                             Docuseries, Reality TV   \n",
       "4  International TV Shows, Romantic TV Shows, TV ...   \n",
       "\n",
       "                                 description_netflix  \n",
       "0  As her father nears the end of his life, filmm...  \n",
       "1  After crossing paths at a party, a Cape Town t...  \n",
       "2  To protect his family from a powerful drug lor...  \n",
       "3  Feuds, flirtations and toilet talk go down amo...  \n",
       "4  In a city of coaching centers known to train I...  \n",
       "\n",
       "[5 rows x 23 columns]"
      ]
     },
     "execution_count": 13,
     "metadata": {},
     "output_type": "execute_result"
    }
   ],
   "source": [
    "# Verificando as 5 primeiras linhas do df\n",
    "df.head()"
   ]
  },
  {
   "cell_type": "code",
   "execution_count": 14,
   "id": "d36a647b",
   "metadata": {
    "ExecuteTime": {
     "end_time": "2023-03-24T11:53:09.290839Z",
     "start_time": "2023-03-24T11:53:09.277119Z"
    }
   },
   "outputs": [
    {
     "data": {
      "text/plain": [
       "(9668, 23)"
      ]
     },
     "execution_count": 14,
     "metadata": {},
     "output_type": "execute_result"
    }
   ],
   "source": [
    "# Total linhas e colunas\n",
    "df.shape"
   ]
  },
  {
   "cell_type": "markdown",
   "id": "47aee5f7",
   "metadata": {},
   "source": [
    "#  Top 10 atores/atrizes considerando todos os dados;"
   ]
  },
  {
   "cell_type": "code",
   "execution_count": 15,
   "id": "57bb6118",
   "metadata": {
    "ExecuteTime": {
     "end_time": "2023-03-24T11:53:09.299075Z",
     "start_time": "2023-03-24T11:53:09.290839Z"
    }
   },
   "outputs": [],
   "source": [
    "# Separando base para filtrar os top 10 atores / atrizes\n",
    "df_top10 = df"
   ]
  },
  {
   "cell_type": "code",
   "execution_count": 16,
   "id": "df28d9f7",
   "metadata": {
    "ExecuteTime": {
     "end_time": "2023-03-24T11:53:09.412161Z",
     "start_time": "2023-03-24T11:53:09.299075Z"
    }
   },
   "outputs": [],
   "source": [
    "# Separando individualmente os nomes dos atores/ atrizes Amazon\n",
    "df_top10['cast_amazon'] =  df_top10['cast_amazon'].str.split(', ')\n",
    "df_top10 = df_top10.explode('cast_amazon')"
   ]
  },
  {
   "cell_type": "code",
   "execution_count": 17,
   "id": "ddd1d3e3",
   "metadata": {
    "ExecuteTime": {
     "end_time": "2023-03-24T11:53:09.988135Z",
     "start_time": "2023-03-24T11:53:09.412161Z"
    }
   },
   "outputs": [],
   "source": [
    "# Separando individualmente os nomes dos atores/ atrizes Netflix\n",
    "df_top10['cast_netflix'] =  df_top10['cast_netflix'].str.split(', ')\n",
    "df_top10 = df_top10.explode('cast_netflix')"
   ]
  },
  {
   "cell_type": "code",
   "execution_count": 18,
   "id": "da8bc3a7",
   "metadata": {
    "ExecuteTime": {
     "end_time": "2023-03-24T11:53:09.998137Z",
     "start_time": "2023-03-24T11:53:09.988135Z"
    }
   },
   "outputs": [
    {
     "data": {
      "text/plain": [
       "(307032, 23)"
      ]
     },
     "execution_count": 18,
     "metadata": {},
     "output_type": "execute_result"
    }
   ],
   "source": [
    "df_top10.shape"
   ]
  },
  {
   "cell_type": "code",
   "execution_count": 19,
   "id": "1d026d6c",
   "metadata": {
    "ExecuteTime": {
     "end_time": "2023-03-24T11:53:10.037245Z",
     "start_time": "2023-03-24T11:53:09.998137Z"
    }
   },
   "outputs": [],
   "source": [
    "# Contagem dos nomes dos atores/ atrizes Amazon\n",
    "df_top10_amazon = df_top10['cast_amazon'].value_counts()"
   ]
  },
  {
   "cell_type": "code",
   "execution_count": 20,
   "id": "e0f89519",
   "metadata": {
    "ExecuteTime": {
     "end_time": "2023-03-24T11:53:10.053172Z",
     "start_time": "2023-03-24T11:53:10.037245Z"
    }
   },
   "outputs": [
    {
     "data": {
      "text/plain": [
       "Maggie Binkley        386\n",
       "1                     227\n",
       "Roy Rogers            213\n",
       "Gene Autry            185\n",
       "Anne-Marie Newland    182\n",
       "Danny Trejo           177\n",
       "Erin Webbs            175\n",
       "Grace Tamayo          165\n",
       "Anjali                165\n",
       "Prakash Raj           164\n",
       "Name: cast_amazon, dtype: int64"
      ]
     },
     "execution_count": 20,
     "metadata": {},
     "output_type": "execute_result"
    }
   ],
   "source": [
    "df_top10_amazon.head(10)"
   ]
  },
  {
   "cell_type": "code",
   "execution_count": 21,
   "id": "ea8a116c",
   "metadata": {
    "ExecuteTime": {
     "end_time": "2023-03-24T11:53:10.111082Z",
     "start_time": "2023-03-24T11:53:10.054058Z"
    }
   },
   "outputs": [],
   "source": [
    "# Contagem dos nomes dos atores/ atrizes Netflix\n",
    "df_top10_netflix = df_top10['cast_netflix'].value_counts()"
   ]
  },
  {
   "cell_type": "code",
   "execution_count": 22,
   "id": "4b597d60",
   "metadata": {
    "ExecuteTime": {
     "end_time": "2023-03-24T11:53:10.127654Z",
     "start_time": "2023-03-24T11:53:10.112009Z"
    }
   },
   "outputs": [
    {
     "data": {
      "text/plain": [
       "Anupam Kher         218\n",
       "Amitabh Bachchan    181\n",
       "Julie Tejwani       167\n",
       "Rupa Bhimani        163\n",
       "Yuki Kaji           161\n",
       "Shah Rukh Khan      159\n",
       "Tara Strong         159\n",
       "Akshay Kumar        153\n",
       "Takahiro Sakurai    146\n",
       "Gulshan Grover      145\n",
       "Name: cast_netflix, dtype: int64"
      ]
     },
     "execution_count": 22,
     "metadata": {},
     "output_type": "execute_result"
    }
   ],
   "source": [
    "df_top10_netflix.head(10)"
   ]
  },
  {
   "cell_type": "code",
   "execution_count": 23,
   "id": "c783fa09",
   "metadata": {
    "ExecuteTime": {
     "end_time": "2023-03-24T11:53:10.220179Z",
     "start_time": "2023-03-24T11:53:10.127654Z"
    }
   },
   "outputs": [
    {
     "data": {
      "text/html": [
       "<div>\n",
       "<style scoped>\n",
       "    .dataframe tbody tr th:only-of-type {\n",
       "        vertical-align: middle;\n",
       "    }\n",
       "\n",
       "    .dataframe tbody tr th {\n",
       "        vertical-align: top;\n",
       "    }\n",
       "\n",
       "    .dataframe thead th {\n",
       "        text-align: right;\n",
       "    }\n",
       "</style>\n",
       "<table border=\"1\" class=\"dataframe\">\n",
       "  <thead>\n",
       "    <tr style=\"text-align: right;\">\n",
       "      <th></th>\n",
       "      <th>cast_netflix</th>\n",
       "      <th>cast_amazon</th>\n",
       "    </tr>\n",
       "  </thead>\n",
       "  <tbody>\n",
       "    <tr>\n",
       "      <th>Anupam Kher</th>\n",
       "      <td>218.0</td>\n",
       "      <td>83.0</td>\n",
       "    </tr>\n",
       "    <tr>\n",
       "      <th>Amitabh Bachchan</th>\n",
       "      <td>181.0</td>\n",
       "      <td>150.0</td>\n",
       "    </tr>\n",
       "    <tr>\n",
       "      <th>Julie Tejwani</th>\n",
       "      <td>167.0</td>\n",
       "      <td>NaN</td>\n",
       "    </tr>\n",
       "    <tr>\n",
       "      <th>Rupa Bhimani</th>\n",
       "      <td>163.0</td>\n",
       "      <td>NaN</td>\n",
       "    </tr>\n",
       "    <tr>\n",
       "      <th>Yuki Kaji</th>\n",
       "      <td>161.0</td>\n",
       "      <td>4.0</td>\n",
       "    </tr>\n",
       "    <tr>\n",
       "      <th>Shah Rukh Khan</th>\n",
       "      <td>159.0</td>\n",
       "      <td>97.0</td>\n",
       "    </tr>\n",
       "    <tr>\n",
       "      <th>Tara Strong</th>\n",
       "      <td>159.0</td>\n",
       "      <td>34.0</td>\n",
       "    </tr>\n",
       "    <tr>\n",
       "      <th>Akshay Kumar</th>\n",
       "      <td>153.0</td>\n",
       "      <td>81.0</td>\n",
       "    </tr>\n",
       "    <tr>\n",
       "      <th>Takahiro Sakurai</th>\n",
       "      <td>146.0</td>\n",
       "      <td>1.0</td>\n",
       "    </tr>\n",
       "    <tr>\n",
       "      <th>Gulshan Grover</th>\n",
       "      <td>145.0</td>\n",
       "      <td>39.0</td>\n",
       "    </tr>\n",
       "  </tbody>\n",
       "</table>\n",
       "</div>"
      ],
      "text/plain": [
       "                  cast_netflix  cast_amazon\n",
       "Anupam Kher              218.0         83.0\n",
       "Amitabh Bachchan         181.0        150.0\n",
       "Julie Tejwani            167.0          NaN\n",
       "Rupa Bhimani             163.0          NaN\n",
       "Yuki Kaji                161.0          4.0\n",
       "Shah Rukh Khan           159.0         97.0\n",
       "Tara Strong              159.0         34.0\n",
       "Akshay Kumar             153.0         81.0\n",
       "Takahiro Sakurai         146.0          1.0\n",
       "Gulshan Grover           145.0         39.0"
      ]
     },
     "execution_count": 23,
     "metadata": {},
     "output_type": "execute_result"
    }
   ],
   "source": [
    "#1- Top 10 atores/atrizes considerando todos os dados;\n",
    "\n",
    "top_10_final = pd.concat([pd.Series(df_top10_netflix), pd.Series(df_top10_amazon)], axis = 1, sort=False)\n",
    "top_10_final.head(10)"
   ]
  },
  {
   "cell_type": "markdown",
   "id": "27b69779",
   "metadata": {
    "ExecuteTime": {
     "end_time": "2023-03-21T03:03:05.852810Z",
     "start_time": "2023-03-21T03:03:05.842813Z"
    }
   },
   "source": [
    "# Top 5 países produtores de conteúdos considerando todos os dados e comparando as duas plataformas;"
   ]
  },
  {
   "cell_type": "code",
   "execution_count": 24,
   "id": "619f6009",
   "metadata": {
    "ExecuteTime": {
     "end_time": "2023-03-24T11:53:10.247291Z",
     "start_time": "2023-03-24T11:53:10.221008Z"
    }
   },
   "outputs": [
    {
     "data": {
      "text/html": [
       "<div>\n",
       "<style scoped>\n",
       "    .dataframe tbody tr th:only-of-type {\n",
       "        vertical-align: middle;\n",
       "    }\n",
       "\n",
       "    .dataframe tbody tr th {\n",
       "        vertical-align: top;\n",
       "    }\n",
       "\n",
       "    .dataframe thead th {\n",
       "        text-align: right;\n",
       "    }\n",
       "</style>\n",
       "<table border=\"1\" class=\"dataframe\">\n",
       "  <thead>\n",
       "    <tr style=\"text-align: right;\">\n",
       "      <th></th>\n",
       "      <th>show_id</th>\n",
       "      <th>type_amazon</th>\n",
       "      <th>title_amazon</th>\n",
       "      <th>director_amazon</th>\n",
       "      <th>cast_amazon</th>\n",
       "      <th>country_amazon</th>\n",
       "      <th>date_added_amazon</th>\n",
       "      <th>release_year_amazon</th>\n",
       "      <th>rating_amazon</th>\n",
       "      <th>duration_amazon</th>\n",
       "      <th>...</th>\n",
       "      <th>title_netflix</th>\n",
       "      <th>director_netflix</th>\n",
       "      <th>cast_netflix</th>\n",
       "      <th>country_netflix</th>\n",
       "      <th>date_added_netflix</th>\n",
       "      <th>release_year_netflix</th>\n",
       "      <th>rating_netflix</th>\n",
       "      <th>duration_netflix</th>\n",
       "      <th>listed_in_netflix</th>\n",
       "      <th>description_netflix</th>\n",
       "    </tr>\n",
       "  </thead>\n",
       "  <tbody>\n",
       "    <tr>\n",
       "      <th>0</th>\n",
       "      <td>s1</td>\n",
       "      <td>Movie</td>\n",
       "      <td>The Grand Seduction</td>\n",
       "      <td>Don McKellar</td>\n",
       "      <td>[Brendan Gleeson, Taylor Kitsch, Gordon Pinsent]</td>\n",
       "      <td>Canada</td>\n",
       "      <td>March 30, 2021</td>\n",
       "      <td>2014</td>\n",
       "      <td>NaN</td>\n",
       "      <td>113 min</td>\n",
       "      <td>...</td>\n",
       "      <td>Dick Johnson Is Dead</td>\n",
       "      <td>Kirsten Johnson</td>\n",
       "      <td>NaN</td>\n",
       "      <td>United States</td>\n",
       "      <td>September 25, 2021</td>\n",
       "      <td>2020.0</td>\n",
       "      <td>PG-13</td>\n",
       "      <td>90 min</td>\n",
       "      <td>Documentaries</td>\n",
       "      <td>As her father nears the end of his life, filmm...</td>\n",
       "    </tr>\n",
       "    <tr>\n",
       "      <th>1</th>\n",
       "      <td>s2</td>\n",
       "      <td>Movie</td>\n",
       "      <td>Take Care Good Night</td>\n",
       "      <td>Girish Joshi</td>\n",
       "      <td>[Mahesh Manjrekar, Abhay Mahajan, Sachin Khede...</td>\n",
       "      <td>India</td>\n",
       "      <td>March 30, 2021</td>\n",
       "      <td>2018</td>\n",
       "      <td>13+</td>\n",
       "      <td>110 min</td>\n",
       "      <td>...</td>\n",
       "      <td>Blood &amp; Water</td>\n",
       "      <td>NaN</td>\n",
       "      <td>Ama Qamata, Khosi Ngema, Gail Mabalane, Thaban...</td>\n",
       "      <td>South Africa</td>\n",
       "      <td>September 24, 2021</td>\n",
       "      <td>2021.0</td>\n",
       "      <td>TV-MA</td>\n",
       "      <td>2 Seasons</td>\n",
       "      <td>International TV Shows, TV Dramas, TV Mysteries</td>\n",
       "      <td>After crossing paths at a party, a Cape Town t...</td>\n",
       "    </tr>\n",
       "    <tr>\n",
       "      <th>2</th>\n",
       "      <td>s3</td>\n",
       "      <td>Movie</td>\n",
       "      <td>Secrets of Deception</td>\n",
       "      <td>Josh Webber</td>\n",
       "      <td>[Tom Sizemore, Lorenzo Lamas, Robert LaSardo, ...</td>\n",
       "      <td>United States</td>\n",
       "      <td>March 30, 2021</td>\n",
       "      <td>2017</td>\n",
       "      <td>NaN</td>\n",
       "      <td>74 min</td>\n",
       "      <td>...</td>\n",
       "      <td>Ganglands</td>\n",
       "      <td>Julien Leclercq</td>\n",
       "      <td>Sami Bouajila, Tracy Gotoas, Samuel Jouy, Nabi...</td>\n",
       "      <td>NaN</td>\n",
       "      <td>September 24, 2021</td>\n",
       "      <td>2021.0</td>\n",
       "      <td>TV-MA</td>\n",
       "      <td>1 Season</td>\n",
       "      <td>Crime TV Shows, International TV Shows, TV Act...</td>\n",
       "      <td>To protect his family from a powerful drug lor...</td>\n",
       "    </tr>\n",
       "    <tr>\n",
       "      <th>3</th>\n",
       "      <td>s4</td>\n",
       "      <td>Movie</td>\n",
       "      <td>Pink: Staying True</td>\n",
       "      <td>Sonia Anderson</td>\n",
       "      <td>[Interviews with: Pink, Adele, Beyoncé, Britne...</td>\n",
       "      <td>United States</td>\n",
       "      <td>March 30, 2021</td>\n",
       "      <td>2014</td>\n",
       "      <td>NaN</td>\n",
       "      <td>69 min</td>\n",
       "      <td>...</td>\n",
       "      <td>Jailbirds New Orleans</td>\n",
       "      <td>NaN</td>\n",
       "      <td>NaN</td>\n",
       "      <td>NaN</td>\n",
       "      <td>September 24, 2021</td>\n",
       "      <td>2021.0</td>\n",
       "      <td>TV-MA</td>\n",
       "      <td>1 Season</td>\n",
       "      <td>Docuseries, Reality TV</td>\n",
       "      <td>Feuds, flirtations and toilet talk go down amo...</td>\n",
       "    </tr>\n",
       "    <tr>\n",
       "      <th>4</th>\n",
       "      <td>s5</td>\n",
       "      <td>Movie</td>\n",
       "      <td>Monster Maker</td>\n",
       "      <td>Giles Foster</td>\n",
       "      <td>[Harry Dean Stanton, Kieran O'Brien, George Co...</td>\n",
       "      <td>United Kingdom</td>\n",
       "      <td>March 30, 2021</td>\n",
       "      <td>1989</td>\n",
       "      <td>NaN</td>\n",
       "      <td>45 min</td>\n",
       "      <td>...</td>\n",
       "      <td>Kota Factory</td>\n",
       "      <td>NaN</td>\n",
       "      <td>Mayur More, Jitendra Kumar, Ranjan Raj, Alam K...</td>\n",
       "      <td>India</td>\n",
       "      <td>September 24, 2021</td>\n",
       "      <td>2021.0</td>\n",
       "      <td>TV-MA</td>\n",
       "      <td>2 Seasons</td>\n",
       "      <td>International TV Shows, Romantic TV Shows, TV ...</td>\n",
       "      <td>In a city of coaching centers known to train I...</td>\n",
       "    </tr>\n",
       "  </tbody>\n",
       "</table>\n",
       "<p>5 rows × 23 columns</p>\n",
       "</div>"
      ],
      "text/plain": [
       "  show_id type_amazon          title_amazon director_amazon  \\\n",
       "0      s1       Movie   The Grand Seduction    Don McKellar   \n",
       "1      s2       Movie  Take Care Good Night    Girish Joshi   \n",
       "2      s3       Movie  Secrets of Deception     Josh Webber   \n",
       "3      s4       Movie    Pink: Staying True  Sonia Anderson   \n",
       "4      s5       Movie         Monster Maker    Giles Foster   \n",
       "\n",
       "                                         cast_amazon  country_amazon  \\\n",
       "0   [Brendan Gleeson, Taylor Kitsch, Gordon Pinsent]          Canada   \n",
       "1  [Mahesh Manjrekar, Abhay Mahajan, Sachin Khede...           India   \n",
       "2  [Tom Sizemore, Lorenzo Lamas, Robert LaSardo, ...   United States   \n",
       "3  [Interviews with: Pink, Adele, Beyoncé, Britne...   United States   \n",
       "4  [Harry Dean Stanton, Kieran O'Brien, George Co...  United Kingdom   \n",
       "\n",
       "  date_added_amazon  release_year_amazon rating_amazon duration_amazon  ...  \\\n",
       "0    March 30, 2021                 2014           NaN         113 min  ...   \n",
       "1    March 30, 2021                 2018           13+         110 min  ...   \n",
       "2    March 30, 2021                 2017           NaN          74 min  ...   \n",
       "3    March 30, 2021                 2014           NaN          69 min  ...   \n",
       "4    March 30, 2021                 1989           NaN          45 min  ...   \n",
       "\n",
       "           title_netflix director_netflix  \\\n",
       "0   Dick Johnson Is Dead  Kirsten Johnson   \n",
       "1          Blood & Water              NaN   \n",
       "2              Ganglands  Julien Leclercq   \n",
       "3  Jailbirds New Orleans              NaN   \n",
       "4           Kota Factory              NaN   \n",
       "\n",
       "                                        cast_netflix country_netflix  \\\n",
       "0                                                NaN   United States   \n",
       "1  Ama Qamata, Khosi Ngema, Gail Mabalane, Thaban...    South Africa   \n",
       "2  Sami Bouajila, Tracy Gotoas, Samuel Jouy, Nabi...             NaN   \n",
       "3                                                NaN             NaN   \n",
       "4  Mayur More, Jitendra Kumar, Ranjan Raj, Alam K...           India   \n",
       "\n",
       "   date_added_netflix release_year_netflix rating_netflix duration_netflix  \\\n",
       "0  September 25, 2021               2020.0          PG-13           90 min   \n",
       "1  September 24, 2021               2021.0          TV-MA        2 Seasons   \n",
       "2  September 24, 2021               2021.0          TV-MA         1 Season   \n",
       "3  September 24, 2021               2021.0          TV-MA         1 Season   \n",
       "4  September 24, 2021               2021.0          TV-MA        2 Seasons   \n",
       "\n",
       "                                   listed_in_netflix  \\\n",
       "0                                      Documentaries   \n",
       "1    International TV Shows, TV Dramas, TV Mysteries   \n",
       "2  Crime TV Shows, International TV Shows, TV Act...   \n",
       "3                             Docuseries, Reality TV   \n",
       "4  International TV Shows, Romantic TV Shows, TV ...   \n",
       "\n",
       "                                 description_netflix  \n",
       "0  As her father nears the end of his life, filmm...  \n",
       "1  After crossing paths at a party, a Cape Town t...  \n",
       "2  To protect his family from a powerful drug lor...  \n",
       "3  Feuds, flirtations and toilet talk go down amo...  \n",
       "4  In a city of coaching centers known to train I...  \n",
       "\n",
       "[5 rows x 23 columns]"
      ]
     },
     "execution_count": 24,
     "metadata": {},
     "output_type": "execute_result"
    }
   ],
   "source": [
    "# Separando base para filtrar os top 5 países\n",
    "df_pais_5 = df\n",
    "df_pais_5.head()"
   ]
  },
  {
   "cell_type": "code",
   "execution_count": 25,
   "id": "0d2905e7",
   "metadata": {
    "ExecuteTime": {
     "end_time": "2023-03-24T11:53:10.262070Z",
     "start_time": "2023-03-24T11:53:10.248059Z"
    }
   },
   "outputs": [
    {
     "data": {
      "text/plain": [
       "United States                            253\n",
       "India                                    229\n",
       "United Kingdom                            28\n",
       "Canada                                    16\n",
       "United Kingdom, United States             12\n",
       "                                        ... \n",
       "United States, Germany, Brazil, Italy      1\n",
       "South Africa                               1\n",
       "Australia, United States, Germany          1\n",
       "Germany, Austria, United States            1\n",
       "Italy, Spain                               1\n",
       "Name: country_amazon, Length: 86, dtype: int64"
      ]
     },
     "execution_count": 25,
     "metadata": {},
     "output_type": "execute_result"
    }
   ],
   "source": [
    "# Contando os paises com mais filmes na plataforma Amazon\n",
    "df_5_amazon = df_pais_5['country_amazon'].value_counts()\n",
    "df_5_amazon"
   ]
  },
  {
   "cell_type": "code",
   "execution_count": 26,
   "id": "5ee20868",
   "metadata": {
    "ExecuteTime": {
     "end_time": "2023-03-24T11:53:10.286244Z",
     "start_time": "2023-03-24T11:53:10.262070Z"
    }
   },
   "outputs": [
    {
     "data": {
      "text/plain": [
       "United States                             2818\n",
       "India                                      972\n",
       "United Kingdom                             419\n",
       "Japan                                      245\n",
       "South Korea                                199\n",
       "                                          ... \n",
       "Romania, Bulgaria, Hungary                   1\n",
       "Uruguay, Guatemala                           1\n",
       "France, Senegal, Belgium                     1\n",
       "Mexico, United States, Spain, Colombia       1\n",
       "United Arab Emirates, Jordan                 1\n",
       "Name: country_netflix, Length: 748, dtype: int64"
      ]
     },
     "execution_count": 26,
     "metadata": {},
     "output_type": "execute_result"
    }
   ],
   "source": [
    "# Contando os paises com mais filmes na plataforma Netflix\n",
    "df_5_netflix = df_pais_5['country_netflix'].value_counts()\n",
    "df_5_netflix"
   ]
  },
  {
   "cell_type": "code",
   "execution_count": 27,
   "id": "0f14dced",
   "metadata": {
    "ExecuteTime": {
     "end_time": "2023-03-24T11:53:10.310592Z",
     "start_time": "2023-03-24T11:53:10.286982Z"
    }
   },
   "outputs": [
    {
     "data": {
      "text/html": [
       "<div>\n",
       "<style scoped>\n",
       "    .dataframe tbody tr th:only-of-type {\n",
       "        vertical-align: middle;\n",
       "    }\n",
       "\n",
       "    .dataframe tbody tr th {\n",
       "        vertical-align: top;\n",
       "    }\n",
       "\n",
       "    .dataframe thead th {\n",
       "        text-align: right;\n",
       "    }\n",
       "</style>\n",
       "<table border=\"1\" class=\"dataframe\">\n",
       "  <thead>\n",
       "    <tr style=\"text-align: right;\">\n",
       "      <th></th>\n",
       "      <th>country_netflix</th>\n",
       "      <th>country_amazon</th>\n",
       "    </tr>\n",
       "  </thead>\n",
       "  <tbody>\n",
       "    <tr>\n",
       "      <th>United States</th>\n",
       "      <td>2818.0</td>\n",
       "      <td>253.0</td>\n",
       "    </tr>\n",
       "    <tr>\n",
       "      <th>India</th>\n",
       "      <td>972.0</td>\n",
       "      <td>229.0</td>\n",
       "    </tr>\n",
       "    <tr>\n",
       "      <th>United Kingdom</th>\n",
       "      <td>419.0</td>\n",
       "      <td>28.0</td>\n",
       "    </tr>\n",
       "    <tr>\n",
       "      <th>Japan</th>\n",
       "      <td>245.0</td>\n",
       "      <td>2.0</td>\n",
       "    </tr>\n",
       "    <tr>\n",
       "      <th>South Korea</th>\n",
       "      <td>199.0</td>\n",
       "      <td>NaN</td>\n",
       "    </tr>\n",
       "  </tbody>\n",
       "</table>\n",
       "</div>"
      ],
      "text/plain": [
       "                country_netflix  country_amazon\n",
       "United States            2818.0           253.0\n",
       "India                     972.0           229.0\n",
       "United Kingdom            419.0            28.0\n",
       "Japan                     245.0             2.0\n",
       "South Korea               199.0             NaN"
      ]
     },
     "execution_count": 27,
     "metadata": {},
     "output_type": "execute_result"
    }
   ],
   "source": [
    "# Top 5 paises com mais filmes nas 2 plataformas\n",
    "\n",
    "top_5_paises = pd.concat([pd.Series(df_5_netflix), pd.Series(df_5_amazon)], axis=1)\n",
    "top_5_paises.head()"
   ]
  },
  {
   "cell_type": "markdown",
   "id": "023ae159",
   "metadata": {
    "ExecuteTime": {
     "end_time": "2023-03-21T03:45:07.045369Z",
     "start_time": "2023-03-21T03:45:07.036213Z"
    }
   },
   "source": [
    "# Mês no qual há mais adições de filmes na plataforma Netflix;"
   ]
  },
  {
   "cell_type": "code",
   "execution_count": 28,
   "id": "6f0e3360",
   "metadata": {
    "ExecuteTime": {
     "end_time": "2023-03-24T11:53:10.328867Z",
     "start_time": "2023-03-24T11:53:10.312333Z"
    }
   },
   "outputs": [],
   "source": [
    "# Separando base para filtrar o mês com mais filmes adicionados na Netflix\n",
    "df_mes = df"
   ]
  },
  {
   "cell_type": "code",
   "execution_count": 29,
   "id": "b8c3d724",
   "metadata": {
    "ExecuteTime": {
     "end_time": "2023-03-24T11:53:10.517134Z",
     "start_time": "2023-03-24T11:53:10.328867Z"
    }
   },
   "outputs": [],
   "source": [
    "# Convertendo a coluna data para datetime\n",
    "df_mes['date_added_netflix'] = pd.to_datetime(df_mes['date_added_netflix'])"
   ]
  },
  {
   "cell_type": "code",
   "execution_count": 30,
   "id": "e2be582e",
   "metadata": {
    "ExecuteTime": {
     "end_time": "2023-03-24T11:53:10.533135Z",
     "start_time": "2023-03-24T11:53:10.517134Z"
    }
   },
   "outputs": [
    {
     "data": {
      "text/plain": [
       "2020-01-01    110\n",
       "2019-11-01     91\n",
       "2018-03-01     75\n",
       "2019-12-31     74\n",
       "2018-10-01     71\n",
       "             ... \n",
       "2017-02-21      1\n",
       "2017-02-07      1\n",
       "2017-01-29      1\n",
       "2017-01-25      1\n",
       "2020-01-11      1\n",
       "Name: date_added_netflix, Length: 1714, dtype: int64"
      ]
     },
     "execution_count": 30,
     "metadata": {},
     "output_type": "execute_result"
    }
   ],
   "source": [
    "# Contando o valores\n",
    "df_mes['date_added_netflix'].value_counts()"
   ]
  },
  {
   "cell_type": "code",
   "execution_count": 31,
   "id": "e30a6aa7",
   "metadata": {
    "ExecuteTime": {
     "end_time": "2023-03-24T11:53:10.549351Z",
     "start_time": "2023-03-24T11:53:10.534264Z"
    }
   },
   "outputs": [],
   "source": [
    "# Criando uma nova coluna somente com a informaçao mês\n",
    "df_mes['mes'] = df_mes['date_added_netflix'].dt.month"
   ]
  },
  {
   "cell_type": "code",
   "execution_count": 32,
   "id": "2d029781",
   "metadata": {
    "ExecuteTime": {
     "end_time": "2023-03-24T11:53:10.561948Z",
     "start_time": "2023-03-24T11:53:10.552319Z"
    }
   },
   "outputs": [
    {
     "data": {
      "text/plain": [
       "7.0    827\n",
       "Name: mes, dtype: int64"
      ]
     },
     "execution_count": 32,
     "metadata": {},
     "output_type": "execute_result"
    }
   ],
   "source": [
    "# Contando os filmes adicionados por mês\n",
    "df_mes['mes'].value_counts().head(1)"
   ]
  },
  {
   "cell_type": "code",
   "execution_count": 33,
   "id": "bd602a85",
   "metadata": {
    "ExecuteTime": {
     "end_time": "2023-03-24T11:53:10.569954Z",
     "start_time": "2023-03-24T11:53:10.561948Z"
    }
   },
   "outputs": [
    {
     "name": "stdout",
     "output_type": "stream",
     "text": [
      "Julho foi o mês que teve mais filmes adicionados na plataforma Netflix.\n"
     ]
    }
   ],
   "source": [
    "print('Julho foi o mês que teve mais filmes adicionados na plataforma Netflix.')"
   ]
  },
  {
   "cell_type": "markdown",
   "id": "9b99e6f0",
   "metadata": {},
   "source": [
    "#  Quantidade de filmes listados como comédia"
   ]
  },
  {
   "cell_type": "code",
   "execution_count": 34,
   "id": "8b6980e1",
   "metadata": {
    "ExecuteTime": {
     "end_time": "2023-03-24T11:53:10.586648Z",
     "start_time": "2023-03-24T11:53:10.569954Z"
    }
   },
   "outputs": [],
   "source": [
    "# Separando base para filtrar os filmes de comédia\n",
    "df_comedia = df"
   ]
  },
  {
   "cell_type": "code",
   "execution_count": 35,
   "id": "af6f59ec",
   "metadata": {
    "ExecuteTime": {
     "end_time": "2023-03-24T11:53:10.598186Z",
     "start_time": "2023-03-24T11:53:10.586648Z"
    }
   },
   "outputs": [
    {
     "data": {
      "text/plain": [
       "Drama                                                                            986\n",
       "Comedy                                                                           536\n",
       "Drama, Suspense                                                                  399\n",
       "Comedy, Drama                                                                    377\n",
       "Animation, Kids                                                                  356\n",
       "                                                                                ... \n",
       "Arts, Entertainment, and Culture, Music Videos and Concerts, Special Interest      1\n",
       "Arts, Entertainment, and Culture, Comedy, Military and War                         1\n",
       "Comedy, Faith and Spirituality, Kids                                               1\n",
       "Arts, Entertainment, and Culture, Fantasy, Kids                                    1\n",
       "Anime, Comedy, Drama                                                               1\n",
       "Name: listed_in_amazon, Length: 518, dtype: int64"
      ]
     },
     "execution_count": 35,
     "metadata": {},
     "output_type": "execute_result"
    }
   ],
   "source": [
    "df_comedia['listed_in_amazon'].value_counts()"
   ]
  },
  {
   "cell_type": "code",
   "execution_count": 36,
   "id": "6c0ca338",
   "metadata": {
    "ExecuteTime": {
     "end_time": "2023-03-24T11:53:10.612110Z",
     "start_time": "2023-03-24T11:53:10.598186Z"
    }
   },
   "outputs": [
    {
     "data": {
      "text/plain": [
       "Dramas, International Movies                          362\n",
       "Documentaries                                         359\n",
       "Stand-Up Comedy                                       334\n",
       "Comedies, Dramas, International Movies                274\n",
       "Dramas, Independent Movies, International Movies      252\n",
       "                                                     ... \n",
       "Kids' TV, TV Action & Adventure, TV Dramas              1\n",
       "TV Comedies, TV Dramas, TV Horror                       1\n",
       "Children & Family Movies, Comedies, LGBTQ Movies        1\n",
       "Kids' TV, Spanish-Language TV Shows, Teen TV Shows      1\n",
       "Cult Movies, Dramas, Thrillers                          1\n",
       "Name: listed_in_netflix, Length: 514, dtype: int64"
      ]
     },
     "execution_count": 36,
     "metadata": {},
     "output_type": "execute_result"
    }
   ],
   "source": [
    "df_comedia['listed_in_netflix'].value_counts()"
   ]
  },
  {
   "cell_type": "code",
   "execution_count": 37,
   "id": "979e2ba3",
   "metadata": {
    "ExecuteTime": {
     "end_time": "2023-03-24T11:53:10.627850Z",
     "start_time": "2023-03-24T11:53:10.612110Z"
    }
   },
   "outputs": [],
   "source": [
    "# Selecionando oss filmes listados como comédia nas 2 plataformas\n",
    "comedia_total = df_comedia.loc[(df_comedia['listed_in_amazon'] == 'Comedy') | (df_comedia['listed_in_netflix'] == 'Comedies')]"
   ]
  },
  {
   "cell_type": "code",
   "execution_count": 38,
   "id": "43d20077",
   "metadata": {
    "ExecuteTime": {
     "end_time": "2023-03-24T11:53:10.641539Z",
     "start_time": "2023-03-24T11:53:10.628759Z"
    }
   },
   "outputs": [
    {
     "data": {
      "text/plain": [
       "(640, 24)"
      ]
     },
     "execution_count": 38,
     "metadata": {},
     "output_type": "execute_result"
    }
   ],
   "source": [
    "# Total de linhas apenas dos filmes classificados como comédia\n",
    "comedia_total.shape"
   ]
  },
  {
   "cell_type": "code",
   "execution_count": 39,
   "id": "0296c56f",
   "metadata": {
    "ExecuteTime": {
     "end_time": "2023-03-24T11:53:10.653576Z",
     "start_time": "2023-03-24T11:53:10.642142Z"
    }
   },
   "outputs": [
    {
     "name": "stdout",
     "output_type": "stream",
     "text": [
      "A quantidade de filmes listados como comédia é de 640 títulos.\n"
     ]
    }
   ],
   "source": [
    "print('A quantidade de filmes listados como comédia é de 640 títulos.')"
   ]
  },
  {
   "cell_type": "markdown",
   "id": "2bee0ba9",
   "metadata": {},
   "source": [
    "# Lista de todos os gêneros de filmes."
   ]
  },
  {
   "cell_type": "code",
   "execution_count": 40,
   "id": "d2e7c30c",
   "metadata": {
    "ExecuteTime": {
     "end_time": "2023-03-24T11:53:10.677767Z",
     "start_time": "2023-03-24T11:53:10.653576Z"
    }
   },
   "outputs": [],
   "source": [
    "# Separando base para filtrar os gêneros de filmes\n",
    "df_genero = df"
   ]
  },
  {
   "cell_type": "code",
   "execution_count": 41,
   "id": "50c0d7b9",
   "metadata": {
    "ExecuteTime": {
     "end_time": "2023-03-24T11:53:10.709896Z",
     "start_time": "2023-03-24T11:53:10.678480Z"
    }
   },
   "outputs": [
    {
     "data": {
      "text/html": [
       "<div>\n",
       "<style scoped>\n",
       "    .dataframe tbody tr th:only-of-type {\n",
       "        vertical-align: middle;\n",
       "    }\n",
       "\n",
       "    .dataframe tbody tr th {\n",
       "        vertical-align: top;\n",
       "    }\n",
       "\n",
       "    .dataframe thead th {\n",
       "        text-align: right;\n",
       "    }\n",
       "</style>\n",
       "<table border=\"1\" class=\"dataframe\">\n",
       "  <thead>\n",
       "    <tr style=\"text-align: right;\">\n",
       "      <th></th>\n",
       "      <th>show_id</th>\n",
       "      <th>type_amazon</th>\n",
       "      <th>title_amazon</th>\n",
       "      <th>director_amazon</th>\n",
       "      <th>cast_amazon</th>\n",
       "      <th>country_amazon</th>\n",
       "      <th>date_added_amazon</th>\n",
       "      <th>release_year_amazon</th>\n",
       "      <th>rating_amazon</th>\n",
       "      <th>duration_amazon</th>\n",
       "      <th>...</th>\n",
       "      <th>director_netflix</th>\n",
       "      <th>cast_netflix</th>\n",
       "      <th>country_netflix</th>\n",
       "      <th>date_added_netflix</th>\n",
       "      <th>release_year_netflix</th>\n",
       "      <th>rating_netflix</th>\n",
       "      <th>duration_netflix</th>\n",
       "      <th>listed_in_netflix</th>\n",
       "      <th>description_netflix</th>\n",
       "      <th>mes</th>\n",
       "    </tr>\n",
       "  </thead>\n",
       "  <tbody>\n",
       "    <tr>\n",
       "      <th>0</th>\n",
       "      <td>s1</td>\n",
       "      <td>Movie</td>\n",
       "      <td>The Grand Seduction</td>\n",
       "      <td>Don McKellar</td>\n",
       "      <td>[Brendan Gleeson, Taylor Kitsch, Gordon Pinsent]</td>\n",
       "      <td>Canada</td>\n",
       "      <td>March 30, 2021</td>\n",
       "      <td>2014</td>\n",
       "      <td>NaN</td>\n",
       "      <td>113 min</td>\n",
       "      <td>...</td>\n",
       "      <td>Kirsten Johnson</td>\n",
       "      <td>NaN</td>\n",
       "      <td>United States</td>\n",
       "      <td>2021-09-25</td>\n",
       "      <td>2020.0</td>\n",
       "      <td>PG-13</td>\n",
       "      <td>90 min</td>\n",
       "      <td>Documentaries</td>\n",
       "      <td>As her father nears the end of his life, filmm...</td>\n",
       "      <td>9.0</td>\n",
       "    </tr>\n",
       "    <tr>\n",
       "      <th>1</th>\n",
       "      <td>s2</td>\n",
       "      <td>Movie</td>\n",
       "      <td>Take Care Good Night</td>\n",
       "      <td>Girish Joshi</td>\n",
       "      <td>[Mahesh Manjrekar, Abhay Mahajan, Sachin Khede...</td>\n",
       "      <td>India</td>\n",
       "      <td>March 30, 2021</td>\n",
       "      <td>2018</td>\n",
       "      <td>13+</td>\n",
       "      <td>110 min</td>\n",
       "      <td>...</td>\n",
       "      <td>NaN</td>\n",
       "      <td>Ama Qamata, Khosi Ngema, Gail Mabalane, Thaban...</td>\n",
       "      <td>South Africa</td>\n",
       "      <td>2021-09-24</td>\n",
       "      <td>2021.0</td>\n",
       "      <td>TV-MA</td>\n",
       "      <td>2 Seasons</td>\n",
       "      <td>International TV Shows, TV Dramas, TV Mysteries</td>\n",
       "      <td>After crossing paths at a party, a Cape Town t...</td>\n",
       "      <td>9.0</td>\n",
       "    </tr>\n",
       "    <tr>\n",
       "      <th>2</th>\n",
       "      <td>s3</td>\n",
       "      <td>Movie</td>\n",
       "      <td>Secrets of Deception</td>\n",
       "      <td>Josh Webber</td>\n",
       "      <td>[Tom Sizemore, Lorenzo Lamas, Robert LaSardo, ...</td>\n",
       "      <td>United States</td>\n",
       "      <td>March 30, 2021</td>\n",
       "      <td>2017</td>\n",
       "      <td>NaN</td>\n",
       "      <td>74 min</td>\n",
       "      <td>...</td>\n",
       "      <td>Julien Leclercq</td>\n",
       "      <td>Sami Bouajila, Tracy Gotoas, Samuel Jouy, Nabi...</td>\n",
       "      <td>NaN</td>\n",
       "      <td>2021-09-24</td>\n",
       "      <td>2021.0</td>\n",
       "      <td>TV-MA</td>\n",
       "      <td>1 Season</td>\n",
       "      <td>Crime TV Shows, International TV Shows, TV Act...</td>\n",
       "      <td>To protect his family from a powerful drug lor...</td>\n",
       "      <td>9.0</td>\n",
       "    </tr>\n",
       "  </tbody>\n",
       "</table>\n",
       "<p>3 rows × 24 columns</p>\n",
       "</div>"
      ],
      "text/plain": [
       "  show_id type_amazon          title_amazon director_amazon  \\\n",
       "0      s1       Movie   The Grand Seduction    Don McKellar   \n",
       "1      s2       Movie  Take Care Good Night    Girish Joshi   \n",
       "2      s3       Movie  Secrets of Deception     Josh Webber   \n",
       "\n",
       "                                         cast_amazon country_amazon  \\\n",
       "0   [Brendan Gleeson, Taylor Kitsch, Gordon Pinsent]         Canada   \n",
       "1  [Mahesh Manjrekar, Abhay Mahajan, Sachin Khede...          India   \n",
       "2  [Tom Sizemore, Lorenzo Lamas, Robert LaSardo, ...  United States   \n",
       "\n",
       "  date_added_amazon  release_year_amazon rating_amazon duration_amazon  ...  \\\n",
       "0    March 30, 2021                 2014           NaN         113 min  ...   \n",
       "1    March 30, 2021                 2018           13+         110 min  ...   \n",
       "2    March 30, 2021                 2017           NaN          74 min  ...   \n",
       "\n",
       "  director_netflix                                       cast_netflix  \\\n",
       "0  Kirsten Johnson                                                NaN   \n",
       "1              NaN  Ama Qamata, Khosi Ngema, Gail Mabalane, Thaban...   \n",
       "2  Julien Leclercq  Sami Bouajila, Tracy Gotoas, Samuel Jouy, Nabi...   \n",
       "\n",
       "  country_netflix date_added_netflix release_year_netflix rating_netflix  \\\n",
       "0   United States         2021-09-25               2020.0          PG-13   \n",
       "1    South Africa         2021-09-24               2021.0          TV-MA   \n",
       "2             NaN         2021-09-24               2021.0          TV-MA   \n",
       "\n",
       "  duration_netflix                                  listed_in_netflix  \\\n",
       "0           90 min                                      Documentaries   \n",
       "1        2 Seasons    International TV Shows, TV Dramas, TV Mysteries   \n",
       "2         1 Season  Crime TV Shows, International TV Shows, TV Act...   \n",
       "\n",
       "                                 description_netflix  mes  \n",
       "0  As her father nears the end of his life, filmm...  9.0  \n",
       "1  After crossing paths at a party, a Cape Town t...  9.0  \n",
       "2  To protect his family from a powerful drug lor...  9.0  \n",
       "\n",
       "[3 rows x 24 columns]"
      ]
     },
     "execution_count": 41,
     "metadata": {},
     "output_type": "execute_result"
    }
   ],
   "source": [
    "# Lendo as 3 primeiras linhas\n",
    "df_genero.head(3)"
   ]
  },
  {
   "cell_type": "code",
   "execution_count": 42,
   "id": "d4db78ae",
   "metadata": {
    "ExecuteTime": {
     "end_time": "2023-03-24T11:53:10.725824Z",
     "start_time": "2023-03-24T11:53:10.711785Z"
    }
   },
   "outputs": [],
   "source": [
    "# Filtrando somente os filmes\n",
    "df_genero = df_genero.loc[(df_genero['type_amazon'] == 'Movie') & (df_genero['type_netflix'] == 'Movie')]"
   ]
  },
  {
   "cell_type": "code",
   "execution_count": 49,
   "id": "59c53d0b",
   "metadata": {
    "ExecuteTime": {
     "end_time": "2023-03-24T11:56:19.545916Z",
     "start_time": "2023-03-24T11:56:19.529918Z"
    }
   },
   "outputs": [],
   "source": [
    "# Selecionando valores únicos em cada categoria\n",
    "df_genero_amazon = df_genero['listed_in_amazon']\n",
    "df_genero_netflix = df_genero['listed_in_netflix']"
   ]
  },
  {
   "cell_type": "code",
   "execution_count": 52,
   "id": "b949c2a6",
   "metadata": {
    "ExecuteTime": {
     "end_time": "2023-03-24T11:57:49.684758Z",
     "start_time": "2023-03-24T11:57:49.660515Z"
    }
   },
   "outputs": [
    {
     "data": {
      "text/plain": [
       "array(['Comedy, Drama', 'Documentary, Special Interest', 'Comedy',\n",
       "       'Drama', 'Horror, Suspense', 'Documentary, Sports',\n",
       "       'Horror, Science Fiction',\n",
       "       'Arts, Entertainment, and Culture, Comedy, Drama',\n",
       "       'Fitness, Special Interest', 'Special Interest',\n",
       "       'Action, Military and War, Western', 'Drama, International',\n",
       "       'Fantasy, Science Fiction, Suspense', 'Suspense',\n",
       "       'Documentary, LGBTQ', 'Documentary', 'Kids', 'Action, Drama',\n",
       "       'Drama, Suspense', 'Action, Drama, Sports',\n",
       "       'Arts, Entertainment, and Culture, Comedy',\n",
       "       'Arts, Entertainment, and Culture, Comedy, Special Interest',\n",
       "       'Arts, Entertainment, and Culture', 'Action, Science Fiction',\n",
       "       'Documentary, Faith and Spirituality, Special Interest',\n",
       "       'Action, Drama, Special Interest', 'Animation, Kids',\n",
       "       'Drama, Young Adult Audience', 'Action, Adventure, Comedy',\n",
       "       'Military and War, Western', 'Action, Comedy, Drama', 'Anime',\n",
       "       'Comedy, International', 'Drama, Romance',\n",
       "       'Drama, Horror, Suspense', 'Action, Suspense',\n",
       "       'Arts, Entertainment, and Culture, Documentary', 'Science Fiction',\n",
       "       'Action, Science Fiction, Suspense',\n",
       "       'Action, Drama, International', 'Drama, Science Fiction, Suspense',\n",
       "       'Action, Documentary, Sports', 'Comedy, Horror',\n",
       "       'Action, Drama, Suspense', 'Music Videos and Concerts', 'Sports',\n",
       "       'Horror', 'Documentary, Science Fiction',\n",
       "       'Arts, Entertainment, and Culture, Documentary, Special Interest',\n",
       "       'Kids, Special Interest', 'Action, Comedy',\n",
       "       'Documentary, Drama, Sports', 'Comedy, Drama, Romance',\n",
       "       'Action, Drama, Kids',\n",
       "       'Drama, Faith and Spirituality, Special Interest', 'Western',\n",
       "       'Action, Drama, Western', 'Action, Adventure, Suspense',\n",
       "       'Documentary, International', 'Action', 'Adventure, Fantasy',\n",
       "       'Action, Romance, Western', 'Documentary, Talk Show and Variety',\n",
       "       'Comedy, Kids', 'Drama, International, Romance', 'Action, Western',\n",
       "       'Drama, Faith and Spirituality, Romance',\n",
       "       'Documentary, Music Videos and Concerts',\n",
       "       'Drama, Military and War', 'Documentary, Kids, Special Interest',\n",
       "       'Drama, Faith and Spirituality', 'Action, Drama, Horror',\n",
       "       'Action, Kids', 'Drama, Sports',\n",
       "       'Documentary, Drama, Special Interest',\n",
       "       'Documentary, International, Special Interest', 'Adventure, Drama',\n",
       "       'Comedy, Western', 'Comedy, Science Fiction',\n",
       "       'Documentary, Horror', 'Comedy, Suspense', 'Anime, Kids',\n",
       "       'Drama, Kids', 'Animation, Anime, Kids',\n",
       "       'Drama, Romance, Suspense',\n",
       "       'Drama, Faith and Spirituality, Suspense',\n",
       "       'Arthouse, Arts, Entertainment, and Culture, Drama', 'Adventure',\n",
       "       'Action, Special Interest', 'Drama, Science Fiction',\n",
       "       'Documentary, Drama',\n",
       "       'Arts, Entertainment, and Culture, Comedy, Romance',\n",
       "       'Action, Kids, Science Fiction', 'Animation, Comedy, Kids',\n",
       "       'Action, Military and War', 'Action, Adventure, Drama',\n",
       "       'Action, Animation, Kids', 'Adventure, Drama, Military and War',\n",
       "       'Comedy, Drama, LGBTQ', 'Action, Adventure',\n",
       "       'Arthouse, Drama, Suspense', 'Comedy, Drama, International',\n",
       "       'Comedy, International, Young Adult Audience',\n",
       "       'Music Videos and Concerts, Special Interest',\n",
       "       'Arts, Entertainment, and Culture, Drama',\n",
       "       'Documentary, Special Interest, Suspense',\n",
       "       'Animation, Documentary, Kids', 'Animation, Kids, Sports',\n",
       "       'Arthouse, Drama, Romance', 'Action, Young Adult Audience',\n",
       "       'Drama, Faith and Spirituality, Kids',\n",
       "       'Adventure, Animation, Kids', 'Adventure, Drama, Western',\n",
       "       'Arts, Entertainment, and Culture, Comedy, Military and War',\n",
       "       'Drama, Horror', 'Fantasy, Kids',\n",
       "       'Arts, Entertainment, and Culture, Drama, Western',\n",
       "       'Comedy, Drama, Suspense', 'Kids, Science Fiction',\n",
       "       'Adventure, Comedy, Kids', 'Drama, LGBTQ',\n",
       "       'Fantasy, Science Fiction', 'Arthouse, Comedy',\n",
       "       'Documentary, Special Interest, Sports',\n",
       "       'Arts, Entertainment, and Culture, Comedy, Documentary',\n",
       "       'Adventure, Drama, Suspense', 'Action, Comedy, Horror',\n",
       "       'Action, Horror, Science Fiction', 'Drama, Kids, Romance',\n",
       "       'Action, Adventure, International',\n",
       "       'Action, Military and War, Suspense', 'Action, International',\n",
       "       'Horror, Science Fiction, Suspense',\n",
       "       'Adventure, Drama, Faith and Spirituality',\n",
       "       'Arts, Entertainment, and Culture, Drama, Kids',\n",
       "       'Comedy, Drama, Special Interest', 'Suspense, Western',\n",
       "       'Comedy, Romance', 'Arthouse, Special Interest',\n",
       "       'Drama, International, Suspense',\n",
       "       'Arthouse, Arts, Entertainment, and Culture, Comedy',\n",
       "       'Action, Adventure, Science Fiction', 'Romance',\n",
       "       'Drama, Horror, Special Interest', 'Comedy, Young Adult Audience',\n",
       "       'LGBTQ, Special Interest', 'Comedy, Drama, Kids',\n",
       "       'Action, Romance', 'LGBTQ, Romance', 'Horror, International',\n",
       "       'Drama, Fantasy, Suspense', 'Romance, Suspense',\n",
       "       'Drama, Historical, International',\n",
       "       'Drama, Fantasy, Science Fiction', 'Action, Documentary',\n",
       "       'Action, Drama, Science Fiction', 'Comedy, LGBTQ, Romance',\n",
       "       'International', 'Action, Documentary, Faith and Spirituality',\n",
       "       'Documentary, Suspense', 'Drama, Special Interest',\n",
       "       'Action, Horror',\n",
       "       'Arts, Entertainment, and Culture, Music Videos and Concerts',\n",
       "       'Arthouse, Drama', 'Action, Adventure, Documentary',\n",
       "       'Action, Arthouse, Arts, Entertainment, and Culture',\n",
       "       'Faith and Spirituality', 'Comedy, LGBTQ',\n",
       "       'Arthouse, Comedy, Drama', 'Adventure, Comedy, Drama',\n",
       "       'Fantasy, Kids, Suspense', 'Arthouse, Comedy, Romance',\n",
       "       'Comedy, Sports', 'Action, Comedy, Fantasy',\n",
       "       'Action, Adventure, Kids', 'Drama, Horror, Science Fiction',\n",
       "       'Comedy, Documentary, Special Interest',\n",
       "       'Action, Special Interest, Sports',\n",
       "       'Arts, Entertainment, and Culture, Comedy, LGBTQ',\n",
       "       'Drama, Western', 'Action, Comedy, LGBTQ',\n",
       "       'Special Interest, Western', 'Kids, Western',\n",
       "       'Comedy, Special Interest', 'Action, Drama, Military and War',\n",
       "       'International, Romance', 'Adventure, Drama, Kids',\n",
       "       'Arts, Entertainment, and Culture, Drama, Young Adult Audience',\n",
       "       'International, Suspense', 'Drama, International, Sports',\n",
       "       'Comedy, Horror, Suspense', 'Comedy, International, Romance',\n",
       "       'Adventure, Comedy', 'Arthouse, Documentary',\n",
       "       'Arts, Entertainment, and Culture, Drama, International',\n",
       "       'Adventure, Documentary, Special Interest', 'Action, Sports',\n",
       "       'Comedy, Drama, Science Fiction',\n",
       "       'Drama, LGBTQ, Young Adult Audience', 'Comedy, Fantasy, Kids',\n",
       "       'Drama, Horror, Young Adult Audience',\n",
       "       'Adventure, Kids, Science Fiction',\n",
       "       'Horror, Suspense, Young Adult Audience',\n",
       "       'Documentary, Drama, Suspense', 'Action, Drama, Romance',\n",
       "       'Historical, Horror, Western', 'Drama, Historical, Suspense',\n",
       "       'Action, Animation, Fantasy', 'Kids, Sports',\n",
       "       'Faith and Spirituality, Special Interest',\n",
       "       'Action, Comedy, Military and War', 'Animation',\n",
       "       'Documentary, LGBTQ, Special Interest',\n",
       "       'Fantasy, Horror, Science Fiction', 'Comedy, Drama, Sports',\n",
       "       'Comedy, Music Videos and Concerts', 'LGBTQ, Romance, Sports',\n",
       "       'Action, Comedy, International', 'Documentary, Kids',\n",
       "       'Action, Fantasy', 'Action, Comedy, Kids',\n",
       "       'Military and War, Special Interest',\n",
       "       'Animation, Kids, Music Videos and Concerts',\n",
       "       'Arts, Entertainment, and Culture, Comedy, Science Fiction',\n",
       "       'Science Fiction, Suspense', 'Adventure, Fantasy, Kids',\n",
       "       'Arts, Entertainment, and Culture, International',\n",
       "       'Action, Horror, Suspense', 'Comedy, Horror, Young Adult Audience',\n",
       "       'Action, International, Science Fiction', 'Fitness', 'Historical',\n",
       "       'Arts, Entertainment, and Culture, Horror, Suspense',\n",
       "       'Comedy, Sports, Young Adult Audience',\n",
       "       'Documentary, Science Fiction, Special Interest',\n",
       "       'Animation, Kids, Special Interest', 'Drama, LGBTQ, Suspense',\n",
       "       'Animation, Comedy, Science Fiction',\n",
       "       'Arts, Entertainment, and Culture, Fantasy, Kids',\n",
       "       'Comedy, International, LGBTQ', 'Adventure, Suspense',\n",
       "       'Action, Drama, Historical', 'Anime, Kids, Science Fiction',\n",
       "       'Action, Drama, Faith and Spirituality', 'Animation, Suspense',\n",
       "       'Drama, Romance, Western', 'Adventure, Western',\n",
       "       'Adventure, Drama, Romance', 'Documentary, Drama, Horror',\n",
       "       'Action, Comedy, Suspense', 'Animation, Music Videos and Concerts',\n",
       "       'Comedy, Kids, LGBTQ',\n",
       "       'Arts, Entertainment, and Culture, LGBTQ, Romance',\n",
       "       'Horror, Romance, Science Fiction', 'Drama, LGBTQ, Romance',\n",
       "       'Drama, Military and War, Suspense', 'Fantasy, Horror',\n",
       "       'Animation, Drama, Science Fiction',\n",
       "       'Comedy, Drama, Young Adult Audience',\n",
       "       'Faith and Spirituality, Music Videos and Concerts',\n",
       "       'Documentary, Faith and Spirituality, Music Videos and Concerts',\n",
       "       'Comedy, Military and War, Suspense',\n",
       "       'Faith and Spirituality, Kids, Special Interest',\n",
       "       'Kids, Young Adult Audience', 'Animation, Drama, Kids',\n",
       "       'Animation, Comedy, Drama', 'Comedy, Kids, Science Fiction',\n",
       "       'Action, Adventure, Faith and Spirituality',\n",
       "       'Arthouse, LGBTQ, Romance',\n",
       "       'Action, Documentary, Special Interest',\n",
       "       'Comedy, Drama, Military and War',\n",
       "       'Documentary, Horror, Special Interest',\n",
       "       'Horror, Young Adult Audience', 'Comedy, Drama, Fantasy',\n",
       "       'Action, Comedy, Documentary', 'Arthouse, Drama, LGBTQ',\n",
       "       'Drama, International, Special Interest',\n",
       "       'Action, Documentary, Drama', 'Drama, Historical',\n",
       "       'Arts, Entertainment, and Culture, Kids', 'Comedy, Unscripted',\n",
       "       'Arts, Entertainment, and Culture, Drama, Science Fiction',\n",
       "       'Arthouse, LGBTQ, Suspense', 'Drama, International, Kids',\n",
       "       'Drama, Horror, Romance', 'Action, Arthouse, Romance',\n",
       "       'Action, Arthouse, Drama', 'Drama, Special Interest, Suspense',\n",
       "       'Arts, Entertainment, and Culture, Kids, Science Fiction',\n",
       "       'Horror, International, Science Fiction',\n",
       "       'Action, Romance, Suspense',\n",
       "       'Arts, Entertainment, and Culture, Comedy, Suspense',\n",
       "       'Action, Adventure, Horror',\n",
       "       'Drama, Suspense, Young Adult Audience',\n",
       "       'Action, Adventure, Special Interest',\n",
       "       'Action, Comedy, Science Fiction',\n",
       "       'Comedy, Fantasy, Young Adult Audience', 'Arthouse, Comedy, LGBTQ',\n",
       "       'Action, Adventure, Animation',\n",
       "       'Arthouse, Comedy, Special Interest',\n",
       "       'Drama, Romance, Science Fiction',\n",
       "       'Animation, Kids, Science Fiction', 'Comedy, Horror, Romance',\n",
       "       'Drama, Kids, Special Interest',\n",
       "       'Animation, Kids, Young Adult Audience',\n",
       "       'Comedy, Romance, Young Adult Audience',\n",
       "       'International, LGBTQ, Suspense',\n",
       "       'Arts, Entertainment, and Culture, LGBTQ',\n",
       "       'Arts, Entertainment, and Culture, Documentary, International',\n",
       "       'Action, Adventure, Fantasy', 'Action, Comedy, Western',\n",
       "       'Comedy, Drama, Music Videos and Concerts',\n",
       "       'Comedy, Drama, Western', 'Arthouse, Young Adult Audience',\n",
       "       'Action, International, Suspense', 'Animation, Comedy',\n",
       "       'Action, International, Romance',\n",
       "       'Arthouse, Horror, Science Fiction',\n",
       "       'Action, Arts, Entertainment, and Culture', 'Arthouse',\n",
       "       'Arthouse, Comedy, Horror', 'Action, Kids, Young Adult Audience',\n",
       "       'Drama, Romance, Special Interest', 'Animation, Horror',\n",
       "       'Horror, Romance, Western', 'Adventure, Kids',\n",
       "       'Arts, Entertainment, and Culture, Comedy, Horror',\n",
       "       'Drama, Horror, Western',\n",
       "       'Arts, Entertainment, and Culture, Young Adult Audience',\n",
       "       'Arthouse, Drama, Horror', 'Horror, Romance',\n",
       "       'Action, Arts, Entertainment, and Culture, Drama',\n",
       "       'Comedy, Documentary', 'Arthouse, Horror',\n",
       "       'Kids, Special Interest, Sports', 'Action, Animation, Drama',\n",
       "       'Animation, Anime', 'Action, Animation, Science Fiction',\n",
       "       'Comedy, Romance, Special Interest',\n",
       "       'Arthouse, Drama, Science Fiction', 'Arthouse, Horror, Suspense',\n",
       "       'Arts, Entertainment, and Culture, Drama, LGBTQ',\n",
       "       'Action, Sports, Suspense', 'Animation, Drama',\n",
       "       'Animation, Special Interest', 'Romance, Suspense, Western',\n",
       "       'Drama, International, Western', 'Comedy, Horror, Science Fiction',\n",
       "       'Arts, Entertainment, and Culture, Comedy, Kids',\n",
       "       'Arts, Entertainment, and Culture, Romance',\n",
       "       'Drama, Science Fiction, Special Interest',\n",
       "       'Arts, Entertainment, and Culture, Comedy, Faith and Spirituality',\n",
       "       'Action, Special Interest, Suspense',\n",
       "       'Romance, Science Fiction, Suspense', 'Romance, Science Fiction',\n",
       "       'Arts, Entertainment, and Culture, Drama, Suspense',\n",
       "       'Arthouse, Arts, Entertainment, and Culture', 'Action, Animation',\n",
       "       'Action, Arts, Entertainment, and Culture, Comedy',\n",
       "       'Fantasy, Suspense',\n",
       "       'Arts, Entertainment, and Culture, Drama, Horror',\n",
       "       'Horror, Western', 'Romance, Western',\n",
       "       'Arthouse, Comedy, International', 'Comedy, Drama, Horror',\n",
       "       'Faith and Spirituality, Kids, Western',\n",
       "       'Adventure, Arthouse, Horror', 'Comedy, Fantasy',\n",
       "       'Arthouse, Horror, Romance',\n",
       "       'Arthouse, Arts, Entertainment, and Culture, Horror',\n",
       "       'Animation, Anime, Romance', 'Military and War',\n",
       "       'Arthouse, Drama, Kids', 'Action, Anime, Drama', 'Documentaries',\n",
       "       'Children & Family Movies',\n",
       "       'Dramas, Independent Movies, International Movies',\n",
       "       'Comedies, Dramas', 'Dramas, International Movies',\n",
       "       'Children & Family Movies, Comedies',\n",
       "       'Documentaries, International Movies',\n",
       "       'Comedies, International Movies',\n",
       "       'Comedies, International Movies, Romantic Movies',\n",
       "       'Action & Adventure, Dramas, International Movies',\n",
       "       'Action & Adventure, Dramas',\n",
       "       'Action & Adventure, Classic Movies, Dramas',\n",
       "       'Action & Adventure, Horror Movies, Thrillers',\n",
       "       'Action & Adventure', 'Dramas, Thrillers',\n",
       "       'Action & Adventure, Anime Features, International Movies',\n",
       "       'Documentaries, International Movies, Sports Movies',\n",
       "       'Comedies, Dramas, International Movies',\n",
       "       'Documentaries, Sports Movies', 'Sci-Fi & Fantasy, Thrillers',\n",
       "       'Dramas, International Movies, Romantic Movies',\n",
       "       'Documentaries, Music & Musicals',\n",
       "       'Dramas, International Movies, Thrillers',\n",
       "       'Action & Adventure, Comedies, Dramas',\n",
       "       'Children & Family Movies, Dramas', 'Comedies, Romantic Movies',\n",
       "       'Comedies, Dramas, Independent Movies', 'Thrillers',\n",
       "       'Action & Adventure, Sci-Fi & Fantasy', 'Dramas, Romantic Movies',\n",
       "       'Classic Movies, Comedies, Dramas', 'Dramas',\n",
       "       'Comedies, Cult Movies', 'Comedies, Music & Musicals',\n",
       "       'Action & Adventure, International Movies', 'Comedies',\n",
       "       'Action & Adventure, Children & Family Movies, Cult Movies',\n",
       "       'Comedies, Dramas, Romantic Movies',\n",
       "       'Comedies, Cult Movies, Sci-Fi & Fantasy',\n",
       "       'Action & Adventure, Comedies', 'Classic Movies, Dramas',\n",
       "       'Action & Adventure, Children & Family Movies, Comedies',\n",
       "       'Documentaries, LGBTQ Movies',\n",
       "       'Action & Adventure, Classic Movies',\n",
       "       'Action & Adventure, Comedies, International Movies',\n",
       "       'Action & Adventure, Horror Movies, International Movies',\n",
       "       'Comedies, International Movies, Music & Musicals',\n",
       "       'Comedies, International Movies, Sci-Fi & Fantasy',\n",
       "       'Action & Adventure, International Movies, Music & Musicals',\n",
       "       'Dramas, International Movies, Music & Musicals',\n",
       "       'Horror Movies, International Movies',\n",
       "       'Dramas, Independent Movies, Romantic Movies',\n",
       "       'Documentaries, LGBTQ Movies, Sports Movies',\n",
       "       'Horror Movies, International Movies, Thrillers',\n",
       "       'Children & Family Movies, Comedies, Music & Musicals',\n",
       "       'International Movies, Thrillers', 'Comedies, Independent Movies',\n",
       "       'Action & Adventure, Anime Features, Children & Family Movies',\n",
       "       'International Movies, Music & Musicals',\n",
       "       'Horror Movies, Independent Movies, International Movies',\n",
       "       'Comedies, Cult Movies, International Movies',\n",
       "       'Classic Movies, Dramas, International Movies', 'Horror Movies',\n",
       "       'Action & Adventure, Horror Movies, Sci-Fi & Fantasy',\n",
       "       'Classic Movies, Comedies, Cult Movies',\n",
       "       'Action & Adventure, Sci-Fi & Fantasy, Thrillers',\n",
       "       'Dramas, Independent Movies',\n",
       "       'Children & Family Movies, Comedies, Dramas',\n",
       "       'Children & Family Movies, Comedies, Sci-Fi & Fantasy',\n",
       "       'Action & Adventure, Dramas, Sci-Fi & Fantasy',\n",
       "       'Action & Adventure, Comedies, Cult Movies',\n",
       "       'Dramas, Independent Movies, Thrillers',\n",
       "       'Children & Family Movies, Sports Movies',\n",
       "       'Anime Features, Children & Family Movies, International Movies',\n",
       "       'Horror Movies, LGBTQ Movies',\n",
       "       'Action & Adventure, Dramas, Romantic Movies',\n",
       "       'Documentaries, International Movies, Music & Musicals',\n",
       "       'Children & Family Movies, Dramas, International Movies',\n",
       "       'Comedies, Documentaries, International Movies',\n",
       "       'International Movies, Romantic Movies, Thrillers',\n",
       "       'Action & Adventure, Cult Movies, International Movies',\n",
       "       'Horror Movies, Sci-Fi & Fantasy', 'Action & Adventure, Thrillers',\n",
       "       'Dramas, Faith & Spirituality, International Movies',\n",
       "       'Action & Adventure, Classic Movies, Comedies',\n",
       "       'Action & Adventure, Comedies, Sports Movies',\n",
       "       'Action & Adventure, Children & Family Movies, Classic Movies',\n",
       "       'Horror Movies, Thrillers', 'Action & Adventure, Romantic Movies',\n",
       "       'Dramas, Romantic Movies, Sci-Fi & Fantasy',\n",
       "       'International Movies, Music & Musicals, Romantic Movies',\n",
       "       'Action & Adventure, Anime Features, Classic Movies', 'Movies',\n",
       "       'Anime Features, Documentaries', 'Comedies, Horror Movies',\n",
       "       'Action & Adventure, Comedies, Sci-Fi & Fantasy',\n",
       "       'Children & Family Movies, Documentaries, International Movies',\n",
       "       'Dramas, Faith & Spirituality, Romantic Movies',\n",
       "       'Comedies, Independent Movies, LGBTQ Movies',\n",
       "       'Action & Adventure, Cult Movies, Sci-Fi & Fantasy',\n",
       "       'Dramas, Sports Movies',\n",
       "       'Action & Adventure, Dramas, Sports Movies',\n",
       "       'Dramas, International Movies, LGBTQ Movies', 'Stand-Up Comedy',\n",
       "       'Children & Family Movies, Dramas, Faith & Spirituality',\n",
       "       'Action & Adventure, Horror Movies',\n",
       "       'Documentaries, International Movies, LGBTQ Movies',\n",
       "       'Dramas, Independent Movies, Sci-Fi & Fantasy',\n",
       "       'Comedies, Independent Movies, International Movies',\n",
       "       'Independent Movies, International Movies, Thrillers',\n",
       "       'Independent Movies, Thrillers', 'Documentaries, Dramas',\n",
       "       'Action & Adventure, Sports Movies',\n",
       "       'Children & Family Movies, Music & Musicals',\n",
       "       'Comedies, Independent Movies, Romantic Movies',\n",
       "       'Horror Movies, Romantic Movies, Sci-Fi & Fantasy',\n",
       "       'Cult Movies, Dramas, Music & Musicals',\n",
       "       'Comedies, International Movies, Sports Movies',\n",
       "       'Horror Movies, Independent Movies',\n",
       "       'Comedies, Dramas, Music & Musicals',\n",
       "       'Comedies, Cult Movies, Music & Musicals',\n",
       "       'Comedies, Romantic Movies, Sports Movies',\n",
       "       'Children & Family Movies, Dramas, Sports Movies',\n",
       "       'Action & Adventure, Dramas, Independent Movies',\n",
       "       'Dramas, LGBTQ Movies',\n",
       "       'Action & Adventure, Dramas, Faith & Spirituality',\n",
       "       'International Movies, Romantic Movies',\n",
       "       'Action & Adventure, Comedies, Independent Movies',\n",
       "       'Music & Musicals', 'Dramas, Music & Musicals',\n",
       "       'Dramas, Independent Movies, Sports Movies',\n",
       "       'Comedies, LGBTQ Movies, Music & Musicals',\n",
       "       'Dramas, International Movies, Sports Movies',\n",
       "       'Comedies, International Movies, LGBTQ Movies',\n",
       "       'Comedies, International Movies, Thrillers',\n",
       "       'Music & Musicals, Romantic Movies',\n",
       "       'Children & Family Movies, Classic Movies, Comedies',\n",
       "       'Comedies, Sports Movies',\n",
       "       'Action & Adventure, Children & Family Movies, Dramas',\n",
       "       'Anime Features, International Movies',\n",
       "       'Dramas, Faith & Spirituality',\n",
       "       'Documentaries, Faith & Spirituality, International Movies',\n",
       "       'LGBTQ Movies, Thrillers',\n",
       "       'Action & Adventure, International Movies, Romantic Movies',\n",
       "       'Children & Family Movies, Dramas, Independent Movies',\n",
       "       'Comedies, Music & Musicals, Romantic Movies',\n",
       "       'Classic Movies, Dramas, Independent Movies',\n",
       "       'Anime Features, Children & Family Movies',\n",
       "       'Children & Family Movies, Documentaries',\n",
       "       'Comedies, Horror Movies, International Movies',\n",
       "       'Action & Adventure, Comedies, Romantic Movies',\n",
       "       'Children & Family Movies, Comedies, International Movies',\n",
       "       'International Movies, Sci-Fi & Fantasy',\n",
       "       'International Movies, Sci-Fi & Fantasy, Thrillers',\n",
       "       'Children & Family Movies, Dramas, Romantic Movies',\n",
       "       'Comedies, Dramas, LGBTQ Movies',\n",
       "       'Action & Adventure, Independent Movies, International Movies',\n",
       "       'Children & Family Movies, Comedies, Sports Movies',\n",
       "       'Action & Adventure, Children & Family Movies, Sci-Fi & Fantasy',\n",
       "       'Independent Movies, Sci-Fi & Fantasy, Thrillers',\n",
       "       'Comedies, Faith & Spirituality, Romantic Movies',\n",
       "       'Action & Adventure, Independent Movies',\n",
       "       'Dramas, International Movies, Sci-Fi & Fantasy',\n",
       "       'Anime Features, Romantic Movies',\n",
       "       'Horror Movies, Sci-Fi & Fantasy, Thrillers',\n",
       "       'Children & Family Movies, Comedies, Romantic Movies',\n",
       "       'Anime Features, International Movies, Romantic Movies',\n",
       "       'International Movies', 'Documentaries, Stand-Up Comedy',\n",
       "       'Children & Family Movies, Comedies, LGBTQ Movies',\n",
       "       'Horror Movies, International Movies, Romantic Movies',\n",
       "       'Action & Adventure, International Movies, Sci-Fi & Fantasy',\n",
       "       'Dramas, Independent Movies, Music & Musicals',\n",
       "       'International Movies, Music & Musicals, Thrillers',\n",
       "       'Comedies, Horror Movies, Independent Movies',\n",
       "       'Children & Family Movies, Sci-Fi & Fantasy',\n",
       "       'Action & Adventure, International Movies, Sports Movies',\n",
       "       'Action & Adventure, Independent Movies, Sci-Fi & Fantasy',\n",
       "       'Horror Movies, LGBTQ Movies, Music & Musicals',\n",
       "       'Comedies, Music & Musicals, Sports Movies',\n",
       "       'Dramas, Sci-Fi & Fantasy, Thrillers',\n",
       "       'International Movies, Romantic Movies, Sci-Fi & Fantasy',\n",
       "       'Dramas, Sci-Fi & Fantasy', 'Music & Musicals, Stand-Up Comedy',\n",
       "       'Horror Movies, Independent Movies, Thrillers',\n",
       "       'Horror Movies, International Movies, Sci-Fi & Fantasy',\n",
       "       'Cult Movies, Horror Movies, Independent Movies',\n",
       "       'Comedies, Documentaries',\n",
       "       'Dramas, Independent Movies, LGBTQ Movies',\n",
       "       'Action & Adventure, Anime Features, Sci-Fi & Fantasy',\n",
       "       'Dramas, Faith & Spirituality, Independent Movies',\n",
       "       'Documentaries, Faith & Spirituality',\n",
       "       'Dramas, Music & Musicals, Romantic Movies',\n",
       "       'Comedies, Dramas, Faith & Spirituality',\n",
       "       'Dramas, Romantic Movies, Sports Movies',\n",
       "       'Comedies, Independent Movies, Music & Musicals',\n",
       "       'Children & Family Movies, Dramas, Music & Musicals',\n",
       "       'Comedies, Cult Movies, Independent Movies',\n",
       "       'Documentaries, Dramas, International Movies',\n",
       "       'Children & Family Movies, Documentaries, Sports Movies',\n",
       "       'Sports Movies', 'Sci-Fi & Fantasy', 'Comedies, LGBTQ Movies',\n",
       "       'Comedies, Independent Movies, Thrillers',\n",
       "       'Classic Movies, Cult Movies, Dramas',\n",
       "       'Action & Adventure, Children & Family Movies, Independent Movies',\n",
       "       'Action & Adventure, Documentaries, International Movies',\n",
       "       'Children & Family Movies, Independent Movies',\n",
       "       'Comedies, Cult Movies, Dramas', 'Classic Movies, Thrillers',\n",
       "       'Documentaries, LGBTQ Movies, Music & Musicals',\n",
       "       'Classic Movies, Dramas, Romantic Movies',\n",
       "       'Cult Movies, Horror Movies',\n",
       "       'Dramas, LGBTQ Movies, Romantic Movies',\n",
       "       'Classic Movies, Cult Movies, Horror Movies',\n",
       "       'Action & Adventure, International Movies, Thrillers',\n",
       "       'Children & Family Movies, Classic Movies',\n",
       "       'Classic Movies, Comedies, International Movies',\n",
       "       'Comedies, Sci-Fi & Fantasy',\n",
       "       'Action & Adventure, Cult Movies, Dramas',\n",
       "       'International Movies, Sports Movies',\n",
       "       'Children & Family Movies, Comedies, Faith & Spirituality',\n",
       "       'Classic Movies, Dramas, Music & Musicals',\n",
       "       'Cult Movies, Horror Movies, Thrillers',\n",
       "       'Action & Adventure, Classic Movies, Sci-Fi & Fantasy',\n",
       "       'Classic Movies, Comedies, Music & Musicals', 'Independent Movies',\n",
       "       'Documentaries, Horror Movies',\n",
       "       'Comedies, Faith & Spirituality, International Movies',\n",
       "       'Dramas, Horror Movies, Sci-Fi & Fantasy',\n",
       "       'Comedies, Cult Movies, Horror Movies',\n",
       "       'Comedies, Cult Movies, Sports Movies',\n",
       "       'Classic Movies, Documentaries',\n",
       "       'Action & Adventure, Faith & Spirituality, Sci-Fi & Fantasy',\n",
       "       'Action & Adventure, Children & Family Movies',\n",
       "       'Action & Adventure, Classic Movies, Cult Movies',\n",
       "       'Anime Features', 'Romantic Movies',\n",
       "       'Action & Adventure, Horror Movies, Independent Movies',\n",
       "       'Action & Adventure, Classic Movies, International Movies',\n",
       "       'Cult Movies, Independent Movies, Thrillers',\n",
       "       'Classic Movies, Cult Movies, Documentaries',\n",
       "       'Classic Movies, Dramas, LGBTQ Movies',\n",
       "       'Classic Movies, Dramas, Sports Movies',\n",
       "       'Action & Adventure, Cult Movies',\n",
       "       'Action & Adventure, Comedies, Music & Musicals',\n",
       "       'Classic Movies, Comedies, Independent Movies',\n",
       "       'Children & Family Movies, Classic Movies, Dramas',\n",
       "       'Dramas, Faith & Spirituality, Sports Movies',\n",
       "       'Classic Movies, Comedies, Romantic Movies',\n",
       "       'Dramas, Horror Movies, Music & Musicals',\n",
       "       'Classic Movies, Independent Movies, Thrillers',\n",
       "       'Children & Family Movies, Faith & Spirituality',\n",
       "       'Classic Movies, Comedies, Sports Movies',\n",
       "       'Comedies, Dramas, Sports Movies',\n",
       "       'Horror Movies, Independent Movies, Sci-Fi & Fantasy',\n",
       "       'Action & Adventure, Romantic Movies, Sci-Fi & Fantasy',\n",
       "       'Comedies, Cult Movies, LGBTQ Movies',\n",
       "       'Comedies, Horror Movies, Sci-Fi & Fantasy',\n",
       "       'Action & Adventure, Comedies, Horror Movies',\n",
       "       'Action & Adventure, Documentaries, Sports Movies',\n",
       "       'International Movies, LGBTQ Movies, Romantic Movies',\n",
       "       'Cult Movies, Dramas, Thrillers'], dtype=object)"
      ]
     },
     "execution_count": 52,
     "metadata": {},
     "output_type": "execute_result"
    }
   ],
   "source": [
    "# Concatenando os 2 df para gerar a lista total de categorias\n",
    "total_genero = pd.concat([df_genero['listed_in_amazon'], df_genero['listed_in_netflix']]).unique()\n",
    "total_genero"
   ]
  },
  {
   "cell_type": "code",
   "execution_count": null,
   "id": "ae7c30e3",
   "metadata": {},
   "outputs": [],
   "source": []
  },
  {
   "cell_type": "markdown",
   "id": "fe2e03b2",
   "metadata": {},
   "source": [
    "#  A frequência de \"TV Show\" de todos os dados e comparativamente em relação as duas plataformas"
   ]
  },
  {
   "cell_type": "code",
   "execution_count": 46,
   "id": "eb21ca84",
   "metadata": {
    "ExecuteTime": {
     "end_time": "2023-03-24T11:53:10.786522Z",
     "start_time": "2023-03-24T11:53:10.778512Z"
    }
   },
   "outputs": [],
   "source": [
    "# Separando base para filtrar a frequência de TV Show\n",
    "df_tv = df"
   ]
  },
  {
   "cell_type": "code",
   "execution_count": 47,
   "id": "6cf2c3ef",
   "metadata": {
    "ExecuteTime": {
     "end_time": "2023-03-24T11:53:10.808843Z",
     "start_time": "2023-03-24T11:53:10.786522Z"
    }
   },
   "outputs": [
    {
     "name": "stdout",
     "output_type": "stream",
     "text": [
      "O total de frequência de Tv Show na Amazon é: 1854\n"
     ]
    }
   ],
   "source": [
    "# Contando a frequência do Tv Show na Amazon\n",
    "df_tv_amazon = (df_tv['type_amazon'] == 'TV Show').sum()\n",
    "print(f'O total de frequência de Tv Show na Amazon é: {df_tv_amazon}')"
   ]
  },
  {
   "cell_type": "code",
   "execution_count": 48,
   "id": "fca6aa4b",
   "metadata": {
    "ExecuteTime": {
     "end_time": "2023-03-24T11:53:11.011858Z",
     "start_time": "2023-03-24T11:53:10.810420Z"
    }
   },
   "outputs": [
    {
     "ename": "NameError",
     "evalue": "name 'df_tv_netflix' is not defined",
     "output_type": "error",
     "traceback": [
      "\u001b[1;31m---------------------------------------------------------------------------\u001b[0m",
      "\u001b[1;31mNameError\u001b[0m                                 Traceback (most recent call last)",
      "\u001b[1;32m~\\AppData\\Local\\Temp\\ipykernel_66080\\1189675041.py\u001b[0m in \u001b[0;36m<module>\u001b[1;34m\u001b[0m\n\u001b[0;32m      1\u001b[0m \u001b[1;31m# Contando a frequência do Tv Show na Netflix\u001b[0m\u001b[1;33m\u001b[0m\u001b[1;33m\u001b[0m\u001b[0m\n\u001b[0;32m      2\u001b[0m \u001b[0mdf_tv_amazon\u001b[0m \u001b[1;33m=\u001b[0m \u001b[1;33m(\u001b[0m\u001b[0mdf_tv\u001b[0m\u001b[1;33m[\u001b[0m\u001b[1;34m'type_netflix'\u001b[0m\u001b[1;33m]\u001b[0m \u001b[1;33m==\u001b[0m \u001b[1;34m'TV Show'\u001b[0m\u001b[1;33m)\u001b[0m\u001b[1;33m.\u001b[0m\u001b[0msum\u001b[0m\u001b[1;33m(\u001b[0m\u001b[1;33m)\u001b[0m\u001b[1;33m\u001b[0m\u001b[1;33m\u001b[0m\u001b[0m\n\u001b[1;32m----> 3\u001b[1;33m \u001b[0mprint\u001b[0m\u001b[1;33m(\u001b[0m\u001b[1;34mf'O total de frequência de Tv Show na Netflix é: {df_tv_netflix}'\u001b[0m\u001b[1;33m)\u001b[0m\u001b[1;33m\u001b[0m\u001b[1;33m\u001b[0m\u001b[0m\n\u001b[0m",
      "\u001b[1;31mNameError\u001b[0m: name 'df_tv_netflix' is not defined"
     ]
    }
   ],
   "source": [
    "# Contando a frequência do Tv Show na Netflix\n",
    "df_tv_amazon = (df_tv['type_netflix'] == 'TV Show').sum()\n",
    "print(f'O total de frequência de Tv Show na Netflix é: {df_tv_netflix}')"
   ]
  },
  {
   "cell_type": "code",
   "execution_count": null,
   "id": "ded6ccbe",
   "metadata": {
    "ExecuteTime": {
     "end_time": "2023-03-24T11:53:11.014205Z",
     "start_time": "2023-03-24T11:53:11.014205Z"
    }
   },
   "outputs": [],
   "source": [
    "# Total Frequência nas duas plataformas\n",
    "total_frequencia = df_tv_amazon + df_tv_netflix\n",
    "print(f'O total de frequência de Tv Show nas duas plataformas é: {total_frequencia}')"
   ]
  },
  {
   "cell_type": "markdown",
   "id": "f26962d9",
   "metadata": {},
   "source": [
    "#  A frequência de \"Movies\" de todos os dados e comparativamente em relação as duas plataformas"
   ]
  },
  {
   "cell_type": "code",
   "execution_count": null,
   "id": "e20a3e64",
   "metadata": {
    "ExecuteTime": {
     "end_time": "2023-03-24T11:53:11.014205Z",
     "start_time": "2023-03-24T11:53:11.014205Z"
    }
   },
   "outputs": [],
   "source": [
    "# Separando base para filtrar a frequência de Movies\n",
    "df_movies = df"
   ]
  },
  {
   "cell_type": "code",
   "execution_count": null,
   "id": "73886835",
   "metadata": {
    "ExecuteTime": {
     "end_time": "2023-03-24T11:53:11.020209Z",
     "start_time": "2023-03-24T11:53:11.020209Z"
    }
   },
   "outputs": [],
   "source": [
    "df_movies.head(2)"
   ]
  },
  {
   "cell_type": "code",
   "execution_count": null,
   "id": "ac018984",
   "metadata": {
    "ExecuteTime": {
     "end_time": "2023-03-24T11:53:11.020209Z",
     "start_time": "2023-03-24T11:53:11.020209Z"
    }
   },
   "outputs": [],
   "source": [
    "# Contando a frequência de Movies na Amazon\n",
    "df_movie_amazon = (df_movies['type_amazon'] == 'Movie').sum()\n",
    "print(f'O total de frequência de Movie na Amazon é: {df_movie_amazon}')"
   ]
  },
  {
   "cell_type": "code",
   "execution_count": null,
   "id": "5b30ed2e",
   "metadata": {
    "ExecuteTime": {
     "end_time": "2023-03-24T11:53:11.022774Z",
     "start_time": "2023-03-24T11:53:11.022774Z"
    }
   },
   "outputs": [],
   "source": [
    "# Contando a frequência de Movies na Netflix\n",
    "df_movie_netflix = (df_movies['type_netflix'] == 'Movie').sum()\n",
    "print(f'O total de frequência de Movie na Netflix é: {df_movie_netflix}')"
   ]
  },
  {
   "cell_type": "code",
   "execution_count": null,
   "id": "50112d26",
   "metadata": {
    "ExecuteTime": {
     "end_time": "2023-03-24T11:53:11.022774Z",
     "start_time": "2023-03-24T11:53:11.022774Z"
    }
   },
   "outputs": [],
   "source": [
    "# Total Frequência de Movie nas duas plataformas\n",
    "total_frequencia_movie = df_movie_amazon + df_movie_netflix\n",
    "print(f'O total de frequência de Movie nas duas plataformas é: {total_frequencia_movie}')"
   ]
  },
  {
   "cell_type": "code",
   "execution_count": null,
   "id": "9c46b692",
   "metadata": {},
   "outputs": [],
   "source": []
  },
  {
   "cell_type": "code",
   "execution_count": null,
   "id": "6c8090ee",
   "metadata": {
    "ExecuteTime": {
     "end_time": "2023-03-24T11:53:11.022774Z",
     "start_time": "2023-03-24T11:53:11.022774Z"
    }
   },
   "outputs": [],
   "source": [
    "Paulo Choi\n",
    "https://www.linkedin.com/in/paulo-choi/\n",
    "https://github.com/tchepaulo/Data-Challenge-20221121"
   ]
  }
 ],
 "metadata": {
  "kernelspec": {
   "display_name": "Python 3 (ipykernel)",
   "language": "python",
   "name": "python3"
  },
  "language_info": {
   "codemirror_mode": {
    "name": "ipython",
    "version": 3
   },
   "file_extension": ".py",
   "mimetype": "text/x-python",
   "name": "python",
   "nbconvert_exporter": "python",
   "pygments_lexer": "ipython3",
   "version": "3.9.13"
  },
  "toc": {
   "base_numbering": 1,
   "nav_menu": {},
   "number_sections": true,
   "sideBar": true,
   "skip_h1_title": false,
   "title_cell": "Table of Contents",
   "title_sidebar": "Contents",
   "toc_cell": false,
   "toc_position": {},
   "toc_section_display": true,
   "toc_window_display": false
  },
  "varInspector": {
   "cols": {
    "lenName": 16,
    "lenType": 16,
    "lenVar": 40
   },
   "kernels_config": {
    "python": {
     "delete_cmd_postfix": "",
     "delete_cmd_prefix": "del ",
     "library": "var_list.py",
     "varRefreshCmd": "print(var_dic_list())"
    },
    "r": {
     "delete_cmd_postfix": ") ",
     "delete_cmd_prefix": "rm(",
     "library": "var_list.r",
     "varRefreshCmd": "cat(var_dic_list()) "
    }
   },
   "types_to_exclude": [
    "module",
    "function",
    "builtin_function_or_method",
    "instance",
    "_Feature"
   ],
   "window_display": false
  }
 },
 "nbformat": 4,
 "nbformat_minor": 5
}
