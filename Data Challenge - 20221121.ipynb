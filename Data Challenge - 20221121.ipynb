{
 "cells": [
  {
   "cell_type": "markdown",
   "id": "479b5006",
   "metadata": {},
   "source": [
    " #  Data Challenge - 20221121"
   ]
  },
  {
   "cell_type": "raw",
   "id": "711e2c3a",
   "metadata": {},
   "source": [
    "# Attributes for both netflix_titles.csv and amazon_prime_titles.csv datasets:\n",
    "1 show_id - Unique ID for every Movie / Tv Show\n",
    "2 type - Identifier - A Movie or TV Show\n",
    "3 title - Title of the Movie / Tv Show\n",
    "4 director - Director of the Movie\n",
    "5 cast - Actors involved in the movie / show\n",
    "6 country - Country where the movie / show was produced\n",
    "7 data_added - Date it was added on Netflix or Amazon Prime \n",
    "8 release_year - Actual Release year of the move / show\n",
    "9 rating - TV Rating of the movie / show \n",
    "10 duration - Total Duration - in minutes or number of seasons\n"
   ]
  },
  {
   "cell_type": "code",
   "execution_count": 17,
   "id": "832e1e5d",
   "metadata": {
    "ExecuteTime": {
     "end_time": "2023-03-20T17:29:57.276496Z",
     "start_time": "2023-03-20T17:29:57.270239Z"
    }
   },
   "outputs": [],
   "source": [
    "import pandas as pd\n",
    "import numpy as np"
   ]
  },
  {
   "cell_type": "code",
   "execution_count": 58,
   "id": "835ba706",
   "metadata": {
    "ExecuteTime": {
     "end_time": "2023-03-20T19:15:31.185587Z",
     "start_time": "2023-03-20T19:15:31.047547Z"
    }
   },
   "outputs": [],
   "source": [
    "df_amazon = pd.read_csv('Data/amazon_prime_titles.csv')"
   ]
  },
  {
   "cell_type": "code",
   "execution_count": 59,
   "id": "76fa91b7",
   "metadata": {
    "ExecuteTime": {
     "end_time": "2023-03-20T19:15:34.929553Z",
     "start_time": "2023-03-20T19:15:34.917047Z"
    }
   },
   "outputs": [
    {
     "data": {
      "text/html": [
       "<div>\n",
       "<style scoped>\n",
       "    .dataframe tbody tr th:only-of-type {\n",
       "        vertical-align: middle;\n",
       "    }\n",
       "\n",
       "    .dataframe tbody tr th {\n",
       "        vertical-align: top;\n",
       "    }\n",
       "\n",
       "    .dataframe thead th {\n",
       "        text-align: right;\n",
       "    }\n",
       "</style>\n",
       "<table border=\"1\" class=\"dataframe\">\n",
       "  <thead>\n",
       "    <tr style=\"text-align: right;\">\n",
       "      <th></th>\n",
       "      <th>show_id</th>\n",
       "      <th>type</th>\n",
       "      <th>title</th>\n",
       "      <th>director</th>\n",
       "      <th>cast</th>\n",
       "      <th>country</th>\n",
       "      <th>date_added</th>\n",
       "      <th>release_year</th>\n",
       "      <th>rating</th>\n",
       "      <th>duration</th>\n",
       "      <th>listed_in</th>\n",
       "      <th>description</th>\n",
       "    </tr>\n",
       "  </thead>\n",
       "  <tbody>\n",
       "    <tr>\n",
       "      <th>0</th>\n",
       "      <td>s1</td>\n",
       "      <td>Movie</td>\n",
       "      <td>The Grand Seduction</td>\n",
       "      <td>Don McKellar</td>\n",
       "      <td>Brendan Gleeson, Taylor Kitsch, Gordon Pinsent</td>\n",
       "      <td>Canada</td>\n",
       "      <td>March 30, 2021</td>\n",
       "      <td>2014</td>\n",
       "      <td>NaN</td>\n",
       "      <td>113 min</td>\n",
       "      <td>Comedy, Drama</td>\n",
       "      <td>A small fishing village must procure a local d...</td>\n",
       "    </tr>\n",
       "    <tr>\n",
       "      <th>1</th>\n",
       "      <td>s2</td>\n",
       "      <td>Movie</td>\n",
       "      <td>Take Care Good Night</td>\n",
       "      <td>Girish Joshi</td>\n",
       "      <td>Mahesh Manjrekar, Abhay Mahajan, Sachin Khedekar</td>\n",
       "      <td>India</td>\n",
       "      <td>March 30, 2021</td>\n",
       "      <td>2018</td>\n",
       "      <td>13+</td>\n",
       "      <td>110 min</td>\n",
       "      <td>Drama, International</td>\n",
       "      <td>A Metro Family decides to fight a Cyber Crimin...</td>\n",
       "    </tr>\n",
       "    <tr>\n",
       "      <th>2</th>\n",
       "      <td>s3</td>\n",
       "      <td>Movie</td>\n",
       "      <td>Secrets of Deception</td>\n",
       "      <td>Josh Webber</td>\n",
       "      <td>Tom Sizemore, Lorenzo Lamas, Robert LaSardo, R...</td>\n",
       "      <td>United States</td>\n",
       "      <td>March 30, 2021</td>\n",
       "      <td>2017</td>\n",
       "      <td>NaN</td>\n",
       "      <td>74 min</td>\n",
       "      <td>Action, Drama, Suspense</td>\n",
       "      <td>After a man discovers his wife is cheating on ...</td>\n",
       "    </tr>\n",
       "    <tr>\n",
       "      <th>3</th>\n",
       "      <td>s4</td>\n",
       "      <td>Movie</td>\n",
       "      <td>Pink: Staying True</td>\n",
       "      <td>Sonia Anderson</td>\n",
       "      <td>Interviews with: Pink, Adele, Beyoncé, Britney...</td>\n",
       "      <td>United States</td>\n",
       "      <td>March 30, 2021</td>\n",
       "      <td>2014</td>\n",
       "      <td>NaN</td>\n",
       "      <td>69 min</td>\n",
       "      <td>Documentary</td>\n",
       "      <td>Pink breaks the mold once again, bringing her ...</td>\n",
       "    </tr>\n",
       "    <tr>\n",
       "      <th>4</th>\n",
       "      <td>s5</td>\n",
       "      <td>Movie</td>\n",
       "      <td>Monster Maker</td>\n",
       "      <td>Giles Foster</td>\n",
       "      <td>Harry Dean Stanton, Kieran O'Brien, George Cos...</td>\n",
       "      <td>United Kingdom</td>\n",
       "      <td>March 30, 2021</td>\n",
       "      <td>1989</td>\n",
       "      <td>NaN</td>\n",
       "      <td>45 min</td>\n",
       "      <td>Drama, Fantasy</td>\n",
       "      <td>Teenage Matt Banting wants to work with a famo...</td>\n",
       "    </tr>\n",
       "  </tbody>\n",
       "</table>\n",
       "</div>"
      ],
      "text/plain": [
       "  show_id   type                 title        director  \\\n",
       "0      s1  Movie   The Grand Seduction    Don McKellar   \n",
       "1      s2  Movie  Take Care Good Night    Girish Joshi   \n",
       "2      s3  Movie  Secrets of Deception     Josh Webber   \n",
       "3      s4  Movie    Pink: Staying True  Sonia Anderson   \n",
       "4      s5  Movie         Monster Maker    Giles Foster   \n",
       "\n",
       "                                                cast         country  \\\n",
       "0     Brendan Gleeson, Taylor Kitsch, Gordon Pinsent          Canada   \n",
       "1   Mahesh Manjrekar, Abhay Mahajan, Sachin Khedekar           India   \n",
       "2  Tom Sizemore, Lorenzo Lamas, Robert LaSardo, R...   United States   \n",
       "3  Interviews with: Pink, Adele, Beyoncé, Britney...   United States   \n",
       "4  Harry Dean Stanton, Kieran O'Brien, George Cos...  United Kingdom   \n",
       "\n",
       "       date_added  release_year rating duration                listed_in  \\\n",
       "0  March 30, 2021          2014    NaN  113 min            Comedy, Drama   \n",
       "1  March 30, 2021          2018    13+  110 min     Drama, International   \n",
       "2  March 30, 2021          2017    NaN   74 min  Action, Drama, Suspense   \n",
       "3  March 30, 2021          2014    NaN   69 min              Documentary   \n",
       "4  March 30, 2021          1989    NaN   45 min           Drama, Fantasy   \n",
       "\n",
       "                                         description  \n",
       "0  A small fishing village must procure a local d...  \n",
       "1  A Metro Family decides to fight a Cyber Crimin...  \n",
       "2  After a man discovers his wife is cheating on ...  \n",
       "3  Pink breaks the mold once again, bringing her ...  \n",
       "4  Teenage Matt Banting wants to work with a famo...  "
      ]
     },
     "execution_count": 59,
     "metadata": {},
     "output_type": "execute_result"
    }
   ],
   "source": [
    "# Verificando as 5 primeiras linhas do df\n",
    "df_amazon.head()"
   ]
  },
  {
   "cell_type": "code",
   "execution_count": 60,
   "id": "04b61956",
   "metadata": {
    "ExecuteTime": {
     "end_time": "2023-03-20T19:15:48.753251Z",
     "start_time": "2023-03-20T19:15:48.739732Z"
    }
   },
   "outputs": [
    {
     "data": {
      "text/plain": [
       "(9668, 12)"
      ]
     },
     "execution_count": 60,
     "metadata": {},
     "output_type": "execute_result"
    }
   ],
   "source": [
    "# Total linhas e colunas\n",
    "df_amazon.shape"
   ]
  },
  {
   "cell_type": "code",
   "execution_count": 61,
   "id": "5ced93e0",
   "metadata": {
    "ExecuteTime": {
     "end_time": "2023-03-20T19:15:53.961371Z",
     "start_time": "2023-03-20T19:15:53.955749Z"
    }
   },
   "outputs": [
    {
     "data": {
      "text/plain": [
       "Index(['show_id', 'type', 'title', 'director', 'cast', 'country', 'date_added',\n",
       "       'release_year', 'rating', 'duration', 'listed_in', 'description'],\n",
       "      dtype='object')"
      ]
     },
     "execution_count": 61,
     "metadata": {},
     "output_type": "execute_result"
    }
   ],
   "source": [
    "# Verificando as colunas\n",
    "df_amazon.columns"
   ]
  },
  {
   "cell_type": "code",
   "execution_count": 12,
   "id": "640ee482",
   "metadata": {
    "ExecuteTime": {
     "end_time": "2023-03-20T15:00:59.146506Z",
     "start_time": "2023-03-20T15:00:59.100387Z"
    }
   },
   "outputs": [
    {
     "name": "stdout",
     "output_type": "stream",
     "text": [
      "<class 'pandas.core.frame.DataFrame'>\n",
      "RangeIndex: 9668 entries, 0 to 9667\n",
      "Data columns (total 12 columns):\n",
      " #   Column        Non-Null Count  Dtype \n",
      "---  ------        --------------  ----- \n",
      " 0   show_id       9668 non-null   object\n",
      " 1   type          9668 non-null   object\n",
      " 2   title         9668 non-null   object\n",
      " 3   director      7586 non-null   object\n",
      " 4   cast          8435 non-null   object\n",
      " 5   country       672 non-null    object\n",
      " 6   date_added    155 non-null    object\n",
      " 7   release_year  9668 non-null   int64 \n",
      " 8   rating        9331 non-null   object\n",
      " 9   duration      9668 non-null   object\n",
      " 10  listed_in     9668 non-null   object\n",
      " 11  description   9668 non-null   object\n",
      "dtypes: int64(1), object(11)\n",
      "memory usage: 906.5+ KB\n"
     ]
    }
   ],
   "source": [
    "# Verficando os tipos das colunas\n",
    "df_amazon.info()"
   ]
  },
  {
   "cell_type": "code",
   "execution_count": 62,
   "id": "a5032079",
   "metadata": {
    "ExecuteTime": {
     "end_time": "2023-03-20T19:16:02.674637Z",
     "start_time": "2023-03-20T19:16:02.583736Z"
    }
   },
   "outputs": [],
   "source": [
    "df_netflix = pd.read_csv('Data/netflix_titles.csv')"
   ]
  },
  {
   "cell_type": "code",
   "execution_count": 63,
   "id": "b384d66c",
   "metadata": {
    "ExecuteTime": {
     "end_time": "2023-03-20T19:16:05.084980Z",
     "start_time": "2023-03-20T19:16:05.068466Z"
    }
   },
   "outputs": [
    {
     "data": {
      "text/html": [
       "<div>\n",
       "<style scoped>\n",
       "    .dataframe tbody tr th:only-of-type {\n",
       "        vertical-align: middle;\n",
       "    }\n",
       "\n",
       "    .dataframe tbody tr th {\n",
       "        vertical-align: top;\n",
       "    }\n",
       "\n",
       "    .dataframe thead th {\n",
       "        text-align: right;\n",
       "    }\n",
       "</style>\n",
       "<table border=\"1\" class=\"dataframe\">\n",
       "  <thead>\n",
       "    <tr style=\"text-align: right;\">\n",
       "      <th></th>\n",
       "      <th>show_id</th>\n",
       "      <th>type</th>\n",
       "      <th>title</th>\n",
       "      <th>director</th>\n",
       "      <th>cast</th>\n",
       "      <th>country</th>\n",
       "      <th>date_added</th>\n",
       "      <th>release_year</th>\n",
       "      <th>rating</th>\n",
       "      <th>duration</th>\n",
       "      <th>listed_in</th>\n",
       "      <th>description</th>\n",
       "    </tr>\n",
       "  </thead>\n",
       "  <tbody>\n",
       "    <tr>\n",
       "      <th>0</th>\n",
       "      <td>s1</td>\n",
       "      <td>Movie</td>\n",
       "      <td>Dick Johnson Is Dead</td>\n",
       "      <td>Kirsten Johnson</td>\n",
       "      <td>NaN</td>\n",
       "      <td>United States</td>\n",
       "      <td>September 25, 2021</td>\n",
       "      <td>2020</td>\n",
       "      <td>PG-13</td>\n",
       "      <td>90 min</td>\n",
       "      <td>Documentaries</td>\n",
       "      <td>As her father nears the end of his life, filmm...</td>\n",
       "    </tr>\n",
       "    <tr>\n",
       "      <th>1</th>\n",
       "      <td>s2</td>\n",
       "      <td>TV Show</td>\n",
       "      <td>Blood &amp; Water</td>\n",
       "      <td>NaN</td>\n",
       "      <td>Ama Qamata, Khosi Ngema, Gail Mabalane, Thaban...</td>\n",
       "      <td>South Africa</td>\n",
       "      <td>September 24, 2021</td>\n",
       "      <td>2021</td>\n",
       "      <td>TV-MA</td>\n",
       "      <td>2 Seasons</td>\n",
       "      <td>International TV Shows, TV Dramas, TV Mysteries</td>\n",
       "      <td>After crossing paths at a party, a Cape Town t...</td>\n",
       "    </tr>\n",
       "    <tr>\n",
       "      <th>2</th>\n",
       "      <td>s3</td>\n",
       "      <td>TV Show</td>\n",
       "      <td>Ganglands</td>\n",
       "      <td>Julien Leclercq</td>\n",
       "      <td>Sami Bouajila, Tracy Gotoas, Samuel Jouy, Nabi...</td>\n",
       "      <td>NaN</td>\n",
       "      <td>September 24, 2021</td>\n",
       "      <td>2021</td>\n",
       "      <td>TV-MA</td>\n",
       "      <td>1 Season</td>\n",
       "      <td>Crime TV Shows, International TV Shows, TV Act...</td>\n",
       "      <td>To protect his family from a powerful drug lor...</td>\n",
       "    </tr>\n",
       "    <tr>\n",
       "      <th>3</th>\n",
       "      <td>s4</td>\n",
       "      <td>TV Show</td>\n",
       "      <td>Jailbirds New Orleans</td>\n",
       "      <td>NaN</td>\n",
       "      <td>NaN</td>\n",
       "      <td>NaN</td>\n",
       "      <td>September 24, 2021</td>\n",
       "      <td>2021</td>\n",
       "      <td>TV-MA</td>\n",
       "      <td>1 Season</td>\n",
       "      <td>Docuseries, Reality TV</td>\n",
       "      <td>Feuds, flirtations and toilet talk go down amo...</td>\n",
       "    </tr>\n",
       "    <tr>\n",
       "      <th>4</th>\n",
       "      <td>s5</td>\n",
       "      <td>TV Show</td>\n",
       "      <td>Kota Factory</td>\n",
       "      <td>NaN</td>\n",
       "      <td>Mayur More, Jitendra Kumar, Ranjan Raj, Alam K...</td>\n",
       "      <td>India</td>\n",
       "      <td>September 24, 2021</td>\n",
       "      <td>2021</td>\n",
       "      <td>TV-MA</td>\n",
       "      <td>2 Seasons</td>\n",
       "      <td>International TV Shows, Romantic TV Shows, TV ...</td>\n",
       "      <td>In a city of coaching centers known to train I...</td>\n",
       "    </tr>\n",
       "  </tbody>\n",
       "</table>\n",
       "</div>"
      ],
      "text/plain": [
       "  show_id     type                  title         director  \\\n",
       "0      s1    Movie   Dick Johnson Is Dead  Kirsten Johnson   \n",
       "1      s2  TV Show          Blood & Water              NaN   \n",
       "2      s3  TV Show              Ganglands  Julien Leclercq   \n",
       "3      s4  TV Show  Jailbirds New Orleans              NaN   \n",
       "4      s5  TV Show           Kota Factory              NaN   \n",
       "\n",
       "                                                cast        country  \\\n",
       "0                                                NaN  United States   \n",
       "1  Ama Qamata, Khosi Ngema, Gail Mabalane, Thaban...   South Africa   \n",
       "2  Sami Bouajila, Tracy Gotoas, Samuel Jouy, Nabi...            NaN   \n",
       "3                                                NaN            NaN   \n",
       "4  Mayur More, Jitendra Kumar, Ranjan Raj, Alam K...          India   \n",
       "\n",
       "           date_added  release_year rating   duration  \\\n",
       "0  September 25, 2021          2020  PG-13     90 min   \n",
       "1  September 24, 2021          2021  TV-MA  2 Seasons   \n",
       "2  September 24, 2021          2021  TV-MA   1 Season   \n",
       "3  September 24, 2021          2021  TV-MA   1 Season   \n",
       "4  September 24, 2021          2021  TV-MA  2 Seasons   \n",
       "\n",
       "                                           listed_in  \\\n",
       "0                                      Documentaries   \n",
       "1    International TV Shows, TV Dramas, TV Mysteries   \n",
       "2  Crime TV Shows, International TV Shows, TV Act...   \n",
       "3                             Docuseries, Reality TV   \n",
       "4  International TV Shows, Romantic TV Shows, TV ...   \n",
       "\n",
       "                                         description  \n",
       "0  As her father nears the end of his life, filmm...  \n",
       "1  After crossing paths at a party, a Cape Town t...  \n",
       "2  To protect his family from a powerful drug lor...  \n",
       "3  Feuds, flirtations and toilet talk go down amo...  \n",
       "4  In a city of coaching centers known to train I...  "
      ]
     },
     "execution_count": 63,
     "metadata": {},
     "output_type": "execute_result"
    }
   ],
   "source": [
    "# Verificando as 5 primeiras linhas do df\n",
    "df_netflix.head()"
   ]
  },
  {
   "cell_type": "code",
   "execution_count": 64,
   "id": "30eb3e3e",
   "metadata": {
    "ExecuteTime": {
     "end_time": "2023-03-20T19:16:10.531527Z",
     "start_time": "2023-03-20T19:16:10.524016Z"
    }
   },
   "outputs": [
    {
     "data": {
      "text/plain": [
       "(8807, 12)"
      ]
     },
     "execution_count": 64,
     "metadata": {},
     "output_type": "execute_result"
    }
   ],
   "source": [
    "# Total linhas e colunas\n",
    "df_netflix.shape"
   ]
  },
  {
   "cell_type": "code",
   "execution_count": 65,
   "id": "1923b37f",
   "metadata": {
    "ExecuteTime": {
     "end_time": "2023-03-20T19:16:16.354520Z",
     "start_time": "2023-03-20T19:16:16.348010Z"
    }
   },
   "outputs": [
    {
     "data": {
      "text/plain": [
       "Index(['show_id', 'type', 'title', 'director', 'cast', 'country', 'date_added',\n",
       "       'release_year', 'rating', 'duration', 'listed_in', 'description'],\n",
       "      dtype='object')"
      ]
     },
     "execution_count": 65,
     "metadata": {},
     "output_type": "execute_result"
    }
   ],
   "source": [
    "# Verificando as colunas\n",
    "df_netflix.columns"
   ]
  },
  {
   "cell_type": "code",
   "execution_count": 66,
   "id": "d67ca66d",
   "metadata": {
    "ExecuteTime": {
     "end_time": "2023-03-20T19:16:20.815167Z",
     "start_time": "2023-03-20T19:16:20.773730Z"
    }
   },
   "outputs": [
    {
     "name": "stdout",
     "output_type": "stream",
     "text": [
      "<class 'pandas.core.frame.DataFrame'>\n",
      "RangeIndex: 8807 entries, 0 to 8806\n",
      "Data columns (total 12 columns):\n",
      " #   Column        Non-Null Count  Dtype \n",
      "---  ------        --------------  ----- \n",
      " 0   show_id       8807 non-null   object\n",
      " 1   type          8807 non-null   object\n",
      " 2   title         8807 non-null   object\n",
      " 3   director      6173 non-null   object\n",
      " 4   cast          7982 non-null   object\n",
      " 5   country       7976 non-null   object\n",
      " 6   date_added    8797 non-null   object\n",
      " 7   release_year  8807 non-null   int64 \n",
      " 8   rating        8803 non-null   object\n",
      " 9   duration      8804 non-null   object\n",
      " 10  listed_in     8807 non-null   object\n",
      " 11  description   8807 non-null   object\n",
      "dtypes: int64(1), object(11)\n",
      "memory usage: 825.8+ KB\n"
     ]
    }
   ],
   "source": [
    "# Verficando os tipos das colunas\n",
    "df_netflix.info()"
   ]
  },
  {
   "cell_type": "markdown",
   "id": "f3a1f2d2",
   "metadata": {},
   "source": [
    "#  Mesclando os df_netflix e df_amazon"
   ]
  },
  {
   "cell_type": "code",
   "execution_count": 380,
   "id": "2506dba3",
   "metadata": {
    "ExecuteTime": {
     "end_time": "2023-03-21T02:49:36.773718Z",
     "start_time": "2023-03-21T02:49:36.739362Z"
    }
   },
   "outputs": [],
   "source": [
    "# Juntando os df\n",
    "df = pd.merge(df_amazon, df_netflix, how='outer', on='show_id', suffixes=('_amazon', '_netflix'))"
   ]
  },
  {
   "cell_type": "code",
   "execution_count": 200,
   "id": "c58a195d",
   "metadata": {
    "ExecuteTime": {
     "end_time": "2023-03-20T21:32:23.022035Z",
     "start_time": "2023-03-20T21:32:22.986695Z"
    }
   },
   "outputs": [
    {
     "data": {
      "text/html": [
       "<div>\n",
       "<style scoped>\n",
       "    .dataframe tbody tr th:only-of-type {\n",
       "        vertical-align: middle;\n",
       "    }\n",
       "\n",
       "    .dataframe tbody tr th {\n",
       "        vertical-align: top;\n",
       "    }\n",
       "\n",
       "    .dataframe thead th {\n",
       "        text-align: right;\n",
       "    }\n",
       "</style>\n",
       "<table border=\"1\" class=\"dataframe\">\n",
       "  <thead>\n",
       "    <tr style=\"text-align: right;\">\n",
       "      <th></th>\n",
       "      <th>show_id</th>\n",
       "      <th>type_amazon</th>\n",
       "      <th>title_amazon</th>\n",
       "      <th>director_amazon</th>\n",
       "      <th>cast_amazon</th>\n",
       "      <th>country_amazon</th>\n",
       "      <th>date_added_amazon</th>\n",
       "      <th>release_year_amazon</th>\n",
       "      <th>rating_amazon</th>\n",
       "      <th>duration_amazon</th>\n",
       "      <th>...</th>\n",
       "      <th>title_netflix</th>\n",
       "      <th>director_netflix</th>\n",
       "      <th>cast_netflix</th>\n",
       "      <th>country_netflix</th>\n",
       "      <th>date_added_netflix</th>\n",
       "      <th>release_year_netflix</th>\n",
       "      <th>rating_netflix</th>\n",
       "      <th>duration_netflix</th>\n",
       "      <th>listed_in_netflix</th>\n",
       "      <th>description_netflix</th>\n",
       "    </tr>\n",
       "  </thead>\n",
       "  <tbody>\n",
       "    <tr>\n",
       "      <th>0</th>\n",
       "      <td>s1</td>\n",
       "      <td>Movie</td>\n",
       "      <td>The Grand Seduction</td>\n",
       "      <td>Don McKellar</td>\n",
       "      <td>Brendan Gleeson, Taylor Kitsch, Gordon Pinsent</td>\n",
       "      <td>Canada</td>\n",
       "      <td>March 30, 2021</td>\n",
       "      <td>2014</td>\n",
       "      <td>NaN</td>\n",
       "      <td>113 min</td>\n",
       "      <td>...</td>\n",
       "      <td>Dick Johnson Is Dead</td>\n",
       "      <td>Kirsten Johnson</td>\n",
       "      <td>NaN</td>\n",
       "      <td>United States</td>\n",
       "      <td>September 25, 2021</td>\n",
       "      <td>2020.0</td>\n",
       "      <td>PG-13</td>\n",
       "      <td>90 min</td>\n",
       "      <td>Documentaries</td>\n",
       "      <td>As her father nears the end of his life, filmm...</td>\n",
       "    </tr>\n",
       "    <tr>\n",
       "      <th>1</th>\n",
       "      <td>s2</td>\n",
       "      <td>Movie</td>\n",
       "      <td>Take Care Good Night</td>\n",
       "      <td>Girish Joshi</td>\n",
       "      <td>Mahesh Manjrekar, Abhay Mahajan, Sachin Khedekar</td>\n",
       "      <td>India</td>\n",
       "      <td>March 30, 2021</td>\n",
       "      <td>2018</td>\n",
       "      <td>13+</td>\n",
       "      <td>110 min</td>\n",
       "      <td>...</td>\n",
       "      <td>Blood &amp; Water</td>\n",
       "      <td>NaN</td>\n",
       "      <td>Ama Qamata, Khosi Ngema, Gail Mabalane, Thaban...</td>\n",
       "      <td>South Africa</td>\n",
       "      <td>September 24, 2021</td>\n",
       "      <td>2021.0</td>\n",
       "      <td>TV-MA</td>\n",
       "      <td>2 Seasons</td>\n",
       "      <td>International TV Shows, TV Dramas, TV Mysteries</td>\n",
       "      <td>After crossing paths at a party, a Cape Town t...</td>\n",
       "    </tr>\n",
       "    <tr>\n",
       "      <th>2</th>\n",
       "      <td>s3</td>\n",
       "      <td>Movie</td>\n",
       "      <td>Secrets of Deception</td>\n",
       "      <td>Josh Webber</td>\n",
       "      <td>Tom Sizemore, Lorenzo Lamas, Robert LaSardo, R...</td>\n",
       "      <td>United States</td>\n",
       "      <td>March 30, 2021</td>\n",
       "      <td>2017</td>\n",
       "      <td>NaN</td>\n",
       "      <td>74 min</td>\n",
       "      <td>...</td>\n",
       "      <td>Ganglands</td>\n",
       "      <td>Julien Leclercq</td>\n",
       "      <td>Sami Bouajila, Tracy Gotoas, Samuel Jouy, Nabi...</td>\n",
       "      <td>NaN</td>\n",
       "      <td>September 24, 2021</td>\n",
       "      <td>2021.0</td>\n",
       "      <td>TV-MA</td>\n",
       "      <td>1 Season</td>\n",
       "      <td>Crime TV Shows, International TV Shows, TV Act...</td>\n",
       "      <td>To protect his family from a powerful drug lor...</td>\n",
       "    </tr>\n",
       "    <tr>\n",
       "      <th>3</th>\n",
       "      <td>s4</td>\n",
       "      <td>Movie</td>\n",
       "      <td>Pink: Staying True</td>\n",
       "      <td>Sonia Anderson</td>\n",
       "      <td>Interviews with: Pink, Adele, Beyoncé, Britney...</td>\n",
       "      <td>United States</td>\n",
       "      <td>March 30, 2021</td>\n",
       "      <td>2014</td>\n",
       "      <td>NaN</td>\n",
       "      <td>69 min</td>\n",
       "      <td>...</td>\n",
       "      <td>Jailbirds New Orleans</td>\n",
       "      <td>NaN</td>\n",
       "      <td>NaN</td>\n",
       "      <td>NaN</td>\n",
       "      <td>September 24, 2021</td>\n",
       "      <td>2021.0</td>\n",
       "      <td>TV-MA</td>\n",
       "      <td>1 Season</td>\n",
       "      <td>Docuseries, Reality TV</td>\n",
       "      <td>Feuds, flirtations and toilet talk go down amo...</td>\n",
       "    </tr>\n",
       "    <tr>\n",
       "      <th>4</th>\n",
       "      <td>s5</td>\n",
       "      <td>Movie</td>\n",
       "      <td>Monster Maker</td>\n",
       "      <td>Giles Foster</td>\n",
       "      <td>Harry Dean Stanton, Kieran O'Brien, George Cos...</td>\n",
       "      <td>United Kingdom</td>\n",
       "      <td>March 30, 2021</td>\n",
       "      <td>1989</td>\n",
       "      <td>NaN</td>\n",
       "      <td>45 min</td>\n",
       "      <td>...</td>\n",
       "      <td>Kota Factory</td>\n",
       "      <td>NaN</td>\n",
       "      <td>Mayur More, Jitendra Kumar, Ranjan Raj, Alam K...</td>\n",
       "      <td>India</td>\n",
       "      <td>September 24, 2021</td>\n",
       "      <td>2021.0</td>\n",
       "      <td>TV-MA</td>\n",
       "      <td>2 Seasons</td>\n",
       "      <td>International TV Shows, Romantic TV Shows, TV ...</td>\n",
       "      <td>In a city of coaching centers known to train I...</td>\n",
       "    </tr>\n",
       "  </tbody>\n",
       "</table>\n",
       "<p>5 rows × 23 columns</p>\n",
       "</div>"
      ],
      "text/plain": [
       "  show_id type_amazon          title_amazon director_amazon  \\\n",
       "0      s1       Movie   The Grand Seduction    Don McKellar   \n",
       "1      s2       Movie  Take Care Good Night    Girish Joshi   \n",
       "2      s3       Movie  Secrets of Deception     Josh Webber   \n",
       "3      s4       Movie    Pink: Staying True  Sonia Anderson   \n",
       "4      s5       Movie         Monster Maker    Giles Foster   \n",
       "\n",
       "                                         cast_amazon  country_amazon  \\\n",
       "0     Brendan Gleeson, Taylor Kitsch, Gordon Pinsent          Canada   \n",
       "1   Mahesh Manjrekar, Abhay Mahajan, Sachin Khedekar           India   \n",
       "2  Tom Sizemore, Lorenzo Lamas, Robert LaSardo, R...   United States   \n",
       "3  Interviews with: Pink, Adele, Beyoncé, Britney...   United States   \n",
       "4  Harry Dean Stanton, Kieran O'Brien, George Cos...  United Kingdom   \n",
       "\n",
       "  date_added_amazon  release_year_amazon rating_amazon duration_amazon  ...  \\\n",
       "0    March 30, 2021                 2014           NaN         113 min  ...   \n",
       "1    March 30, 2021                 2018           13+         110 min  ...   \n",
       "2    March 30, 2021                 2017           NaN          74 min  ...   \n",
       "3    March 30, 2021                 2014           NaN          69 min  ...   \n",
       "4    March 30, 2021                 1989           NaN          45 min  ...   \n",
       "\n",
       "           title_netflix director_netflix  \\\n",
       "0   Dick Johnson Is Dead  Kirsten Johnson   \n",
       "1          Blood & Water              NaN   \n",
       "2              Ganglands  Julien Leclercq   \n",
       "3  Jailbirds New Orleans              NaN   \n",
       "4           Kota Factory              NaN   \n",
       "\n",
       "                                        cast_netflix country_netflix  \\\n",
       "0                                                NaN   United States   \n",
       "1  Ama Qamata, Khosi Ngema, Gail Mabalane, Thaban...    South Africa   \n",
       "2  Sami Bouajila, Tracy Gotoas, Samuel Jouy, Nabi...             NaN   \n",
       "3                                                NaN             NaN   \n",
       "4  Mayur More, Jitendra Kumar, Ranjan Raj, Alam K...           India   \n",
       "\n",
       "   date_added_netflix release_year_netflix rating_netflix duration_netflix  \\\n",
       "0  September 25, 2021               2020.0          PG-13           90 min   \n",
       "1  September 24, 2021               2021.0          TV-MA        2 Seasons   \n",
       "2  September 24, 2021               2021.0          TV-MA         1 Season   \n",
       "3  September 24, 2021               2021.0          TV-MA         1 Season   \n",
       "4  September 24, 2021               2021.0          TV-MA        2 Seasons   \n",
       "\n",
       "                                   listed_in_netflix  \\\n",
       "0                                      Documentaries   \n",
       "1    International TV Shows, TV Dramas, TV Mysteries   \n",
       "2  Crime TV Shows, International TV Shows, TV Act...   \n",
       "3                             Docuseries, Reality TV   \n",
       "4  International TV Shows, Romantic TV Shows, TV ...   \n",
       "\n",
       "                                 description_netflix  \n",
       "0  As her father nears the end of his life, filmm...  \n",
       "1  After crossing paths at a party, a Cape Town t...  \n",
       "2  To protect his family from a powerful drug lor...  \n",
       "3  Feuds, flirtations and toilet talk go down amo...  \n",
       "4  In a city of coaching centers known to train I...  \n",
       "\n",
       "[5 rows x 23 columns]"
      ]
     },
     "execution_count": 200,
     "metadata": {},
     "output_type": "execute_result"
    }
   ],
   "source": [
    "# Verificando as 5 primeiras linhas do df\n",
    "df.head()"
   ]
  },
  {
   "cell_type": "code",
   "execution_count": 212,
   "id": "a1e6c4ac",
   "metadata": {
    "ExecuteTime": {
     "end_time": "2023-03-20T21:33:49.506773Z",
     "start_time": "2023-03-20T21:33:49.489903Z"
    }
   },
   "outputs": [
    {
     "data": {
      "text/plain": [
       "(9668, 23)"
      ]
     },
     "execution_count": 212,
     "metadata": {},
     "output_type": "execute_result"
    }
   ],
   "source": [
    "# Total linhas e colunas\n",
    "df.shape"
   ]
  },
  {
   "cell_type": "markdown",
   "id": "1bb76f19",
   "metadata": {},
   "source": [
    "#  Top 10 atores/atrizes considerando todos os dados;"
   ]
  },
  {
   "cell_type": "code",
   "execution_count": 381,
   "id": "2a2c63fd",
   "metadata": {
    "ExecuteTime": {
     "end_time": "2023-03-21T02:49:41.375323Z",
     "start_time": "2023-03-21T02:49:41.371317Z"
    }
   },
   "outputs": [],
   "source": [
    "# Separando base para filtrar os top 10 atores / atrizes\n",
    "df_top10 = df"
   ]
  },
  {
   "cell_type": "code",
   "execution_count": 382,
   "id": "1fce54c3",
   "metadata": {
    "ExecuteTime": {
     "end_time": "2023-03-21T02:49:50.738986Z",
     "start_time": "2023-03-21T02:49:50.618193Z"
    }
   },
   "outputs": [],
   "source": [
    "# Separando individualmente os nomes dos atores/ atrizes Amazon\n",
    "df_top10['cast_amazon'] =  df_top10['cast_amazon'].str.split(', ')\n",
    "df_top10 = df_top10.explode('cast_amazon')"
   ]
  },
  {
   "cell_type": "code",
   "execution_count": 383,
   "id": "3fbe688b",
   "metadata": {
    "ExecuteTime": {
     "end_time": "2023-03-21T02:49:54.716875Z",
     "start_time": "2023-03-21T02:49:53.451304Z"
    }
   },
   "outputs": [],
   "source": [
    "# Separando individualmente os nomes dos atores/ atrizes Netflix\n",
    "df_top10['cast_netflix'] =  df_top10['cast_netflix'].str.split(', ')\n",
    "df_top10 = df_top10.explode('cast_netflix')"
   ]
  },
  {
   "cell_type": "code",
   "execution_count": 409,
   "id": "ebe869f4",
   "metadata": {
    "ExecuteTime": {
     "end_time": "2023-03-21T02:58:12.015102Z",
     "start_time": "2023-03-21T02:58:12.002175Z"
    }
   },
   "outputs": [
    {
     "data": {
      "text/plain": [
       "(307032, 23)"
      ]
     },
     "execution_count": 409,
     "metadata": {},
     "output_type": "execute_result"
    }
   ],
   "source": [
    "df_top10.shape"
   ]
  },
  {
   "cell_type": "code",
   "execution_count": 384,
   "id": "a4fbdeca",
   "metadata": {
    "ExecuteTime": {
     "end_time": "2023-03-21T02:49:56.604652Z",
     "start_time": "2023-03-21T02:49:56.569479Z"
    }
   },
   "outputs": [],
   "source": [
    "# Contagem dos nomes dos atores/ atrizes Amazon\n",
    "df_top10_amazon = df_top10['cast_amazon'].value_counts()"
   ]
  },
  {
   "cell_type": "code",
   "execution_count": 406,
   "id": "5a797b0a",
   "metadata": {
    "ExecuteTime": {
     "end_time": "2023-03-21T02:57:03.645320Z",
     "start_time": "2023-03-21T02:57:03.634748Z"
    }
   },
   "outputs": [
    {
     "data": {
      "text/plain": [
       "Maggie Binkley        386\n",
       "1                     227\n",
       "Roy Rogers            213\n",
       "Gene Autry            185\n",
       "Anne-Marie Newland    182\n",
       "Danny Trejo           177\n",
       "Erin Webbs            175\n",
       "Grace Tamayo          165\n",
       "Anjali                165\n",
       "Prakash Raj           164\n",
       "Name: cast_amazon, dtype: int64"
      ]
     },
     "execution_count": 406,
     "metadata": {},
     "output_type": "execute_result"
    }
   ],
   "source": [
    "df_top10_amazon.head(10)"
   ]
  },
  {
   "cell_type": "code",
   "execution_count": 410,
   "id": "ee7512c4",
   "metadata": {
    "ExecuteTime": {
     "end_time": "2023-03-21T02:59:26.376468Z",
     "start_time": "2023-03-21T02:59:26.298584Z"
    }
   },
   "outputs": [],
   "source": [
    "# Contagem dos nomes dos atores/ atrizes Netflix\n",
    "df_top10_netflix = df_top10['cast_netflix'].value_counts()"
   ]
  },
  {
   "cell_type": "code",
   "execution_count": 411,
   "id": "8a3c9357",
   "metadata": {
    "ExecuteTime": {
     "end_time": "2023-03-21T02:59:28.758737Z",
     "start_time": "2023-03-21T02:59:28.747344Z"
    }
   },
   "outputs": [
    {
     "data": {
      "text/plain": [
       "Anupam Kher         218\n",
       "Amitabh Bachchan    181\n",
       "Julie Tejwani       167\n",
       "Rupa Bhimani        163\n",
       "Yuki Kaji           161\n",
       "Shah Rukh Khan      159\n",
       "Tara Strong         159\n",
       "Akshay Kumar        153\n",
       "Takahiro Sakurai    146\n",
       "Gulshan Grover      145\n",
       "Name: cast_netflix, dtype: int64"
      ]
     },
     "execution_count": 411,
     "metadata": {},
     "output_type": "execute_result"
    }
   ],
   "source": [
    "df_top10_netflix.head(10)"
   ]
  },
  {
   "cell_type": "code",
   "execution_count": 413,
   "id": "3476b2f2",
   "metadata": {
    "ExecuteTime": {
     "end_time": "2023-03-21T03:00:25.523007Z",
     "start_time": "2023-03-21T03:00:25.466771Z"
    }
   },
   "outputs": [
    {
     "data": {
      "text/html": [
       "<div>\n",
       "<style scoped>\n",
       "    .dataframe tbody tr th:only-of-type {\n",
       "        vertical-align: middle;\n",
       "    }\n",
       "\n",
       "    .dataframe tbody tr th {\n",
       "        vertical-align: top;\n",
       "    }\n",
       "\n",
       "    .dataframe thead th {\n",
       "        text-align: right;\n",
       "    }\n",
       "</style>\n",
       "<table border=\"1\" class=\"dataframe\">\n",
       "  <thead>\n",
       "    <tr style=\"text-align: right;\">\n",
       "      <th></th>\n",
       "      <th>cast_netflix</th>\n",
       "      <th>cast_amazon</th>\n",
       "    </tr>\n",
       "  </thead>\n",
       "  <tbody>\n",
       "    <tr>\n",
       "      <th>Anupam Kher</th>\n",
       "      <td>218.0</td>\n",
       "      <td>83.0</td>\n",
       "    </tr>\n",
       "    <tr>\n",
       "      <th>Amitabh Bachchan</th>\n",
       "      <td>181.0</td>\n",
       "      <td>150.0</td>\n",
       "    </tr>\n",
       "    <tr>\n",
       "      <th>Julie Tejwani</th>\n",
       "      <td>167.0</td>\n",
       "      <td>NaN</td>\n",
       "    </tr>\n",
       "    <tr>\n",
       "      <th>Rupa Bhimani</th>\n",
       "      <td>163.0</td>\n",
       "      <td>NaN</td>\n",
       "    </tr>\n",
       "    <tr>\n",
       "      <th>Yuki Kaji</th>\n",
       "      <td>161.0</td>\n",
       "      <td>4.0</td>\n",
       "    </tr>\n",
       "    <tr>\n",
       "      <th>Shah Rukh Khan</th>\n",
       "      <td>159.0</td>\n",
       "      <td>97.0</td>\n",
       "    </tr>\n",
       "    <tr>\n",
       "      <th>Tara Strong</th>\n",
       "      <td>159.0</td>\n",
       "      <td>34.0</td>\n",
       "    </tr>\n",
       "    <tr>\n",
       "      <th>Akshay Kumar</th>\n",
       "      <td>153.0</td>\n",
       "      <td>81.0</td>\n",
       "    </tr>\n",
       "    <tr>\n",
       "      <th>Takahiro Sakurai</th>\n",
       "      <td>146.0</td>\n",
       "      <td>1.0</td>\n",
       "    </tr>\n",
       "    <tr>\n",
       "      <th>Gulshan Grover</th>\n",
       "      <td>145.0</td>\n",
       "      <td>39.0</td>\n",
       "    </tr>\n",
       "  </tbody>\n",
       "</table>\n",
       "</div>"
      ],
      "text/plain": [
       "                  cast_netflix  cast_amazon\n",
       "Anupam Kher              218.0         83.0\n",
       "Amitabh Bachchan         181.0        150.0\n",
       "Julie Tejwani            167.0          NaN\n",
       "Rupa Bhimani             163.0          NaN\n",
       "Yuki Kaji                161.0          4.0\n",
       "Shah Rukh Khan           159.0         97.0\n",
       "Tara Strong              159.0         34.0\n",
       "Akshay Kumar             153.0         81.0\n",
       "Takahiro Sakurai         146.0          1.0\n",
       "Gulshan Grover           145.0         39.0"
      ]
     },
     "execution_count": 413,
     "metadata": {},
     "output_type": "execute_result"
    }
   ],
   "source": [
    "#1- Top 10 atores/atrizes considerando todos os dados;\n",
    "\n",
    "top_10_final = pd.concat([pd.Series(df_top10_netflix), pd.Series(df_top10_amazon)], axis = 1, sort=False)\n",
    "top_10_final.head(10)"
   ]
  },
  {
   "cell_type": "markdown",
   "id": "32a711d3",
   "metadata": {
    "ExecuteTime": {
     "end_time": "2023-03-21T03:03:05.852810Z",
     "start_time": "2023-03-21T03:03:05.842813Z"
    }
   },
   "source": [
    "# Top 5 países produtores de conteúdos considerando todos os dados e comparando as duas plataformas;"
   ]
  },
  {
   "cell_type": "code",
   "execution_count": 461,
   "id": "ade5736c",
   "metadata": {
    "ExecuteTime": {
     "end_time": "2023-03-21T04:22:07.707183Z",
     "start_time": "2023-03-21T04:22:07.670741Z"
    }
   },
   "outputs": [
    {
     "data": {
      "text/html": [
       "<div>\n",
       "<style scoped>\n",
       "    .dataframe tbody tr th:only-of-type {\n",
       "        vertical-align: middle;\n",
       "    }\n",
       "\n",
       "    .dataframe tbody tr th {\n",
       "        vertical-align: top;\n",
       "    }\n",
       "\n",
       "    .dataframe thead th {\n",
       "        text-align: right;\n",
       "    }\n",
       "</style>\n",
       "<table border=\"1\" class=\"dataframe\">\n",
       "  <thead>\n",
       "    <tr style=\"text-align: right;\">\n",
       "      <th></th>\n",
       "      <th>show_id</th>\n",
       "      <th>type_amazon</th>\n",
       "      <th>title_amazon</th>\n",
       "      <th>director_amazon</th>\n",
       "      <th>cast_amazon</th>\n",
       "      <th>country_amazon</th>\n",
       "      <th>date_added_amazon</th>\n",
       "      <th>release_year_amazon</th>\n",
       "      <th>rating_amazon</th>\n",
       "      <th>duration_amazon</th>\n",
       "      <th>...</th>\n",
       "      <th>director_netflix</th>\n",
       "      <th>cast_netflix</th>\n",
       "      <th>country_netflix</th>\n",
       "      <th>date_added_netflix</th>\n",
       "      <th>release_year_netflix</th>\n",
       "      <th>rating_netflix</th>\n",
       "      <th>duration_netflix</th>\n",
       "      <th>listed_in_netflix</th>\n",
       "      <th>description_netflix</th>\n",
       "      <th>mes</th>\n",
       "    </tr>\n",
       "  </thead>\n",
       "  <tbody>\n",
       "    <tr>\n",
       "      <th>0</th>\n",
       "      <td>s1</td>\n",
       "      <td>Movie</td>\n",
       "      <td>The Grand Seduction</td>\n",
       "      <td>Don McKellar</td>\n",
       "      <td>[Brendan Gleeson, Taylor Kitsch, Gordon Pinsent]</td>\n",
       "      <td>Canada</td>\n",
       "      <td>March 30, 2021</td>\n",
       "      <td>2014</td>\n",
       "      <td>NaN</td>\n",
       "      <td>113 min</td>\n",
       "      <td>...</td>\n",
       "      <td>Kirsten Johnson</td>\n",
       "      <td>NaN</td>\n",
       "      <td>United States</td>\n",
       "      <td>2021-09-25</td>\n",
       "      <td>2020.0</td>\n",
       "      <td>PG-13</td>\n",
       "      <td>90 min</td>\n",
       "      <td>Documentaries</td>\n",
       "      <td>As her father nears the end of his life, filmm...</td>\n",
       "      <td>9.0</td>\n",
       "    </tr>\n",
       "    <tr>\n",
       "      <th>1</th>\n",
       "      <td>s2</td>\n",
       "      <td>Movie</td>\n",
       "      <td>Take Care Good Night</td>\n",
       "      <td>Girish Joshi</td>\n",
       "      <td>[Mahesh Manjrekar, Abhay Mahajan, Sachin Khede...</td>\n",
       "      <td>India</td>\n",
       "      <td>March 30, 2021</td>\n",
       "      <td>2018</td>\n",
       "      <td>13+</td>\n",
       "      <td>110 min</td>\n",
       "      <td>...</td>\n",
       "      <td>NaN</td>\n",
       "      <td>Ama Qamata, Khosi Ngema, Gail Mabalane, Thaban...</td>\n",
       "      <td>South Africa</td>\n",
       "      <td>2021-09-24</td>\n",
       "      <td>2021.0</td>\n",
       "      <td>TV-MA</td>\n",
       "      <td>2 Seasons</td>\n",
       "      <td>International TV Shows, TV Dramas, TV Mysteries</td>\n",
       "      <td>After crossing paths at a party, a Cape Town t...</td>\n",
       "      <td>9.0</td>\n",
       "    </tr>\n",
       "    <tr>\n",
       "      <th>2</th>\n",
       "      <td>s3</td>\n",
       "      <td>Movie</td>\n",
       "      <td>Secrets of Deception</td>\n",
       "      <td>Josh Webber</td>\n",
       "      <td>[Tom Sizemore, Lorenzo Lamas, Robert LaSardo, ...</td>\n",
       "      <td>United States</td>\n",
       "      <td>March 30, 2021</td>\n",
       "      <td>2017</td>\n",
       "      <td>NaN</td>\n",
       "      <td>74 min</td>\n",
       "      <td>...</td>\n",
       "      <td>Julien Leclercq</td>\n",
       "      <td>Sami Bouajila, Tracy Gotoas, Samuel Jouy, Nabi...</td>\n",
       "      <td>NaN</td>\n",
       "      <td>2021-09-24</td>\n",
       "      <td>2021.0</td>\n",
       "      <td>TV-MA</td>\n",
       "      <td>1 Season</td>\n",
       "      <td>Crime TV Shows, International TV Shows, TV Act...</td>\n",
       "      <td>To protect his family from a powerful drug lor...</td>\n",
       "      <td>9.0</td>\n",
       "    </tr>\n",
       "    <tr>\n",
       "      <th>3</th>\n",
       "      <td>s4</td>\n",
       "      <td>Movie</td>\n",
       "      <td>Pink: Staying True</td>\n",
       "      <td>Sonia Anderson</td>\n",
       "      <td>[Interviews with: Pink, Adele, Beyoncé, Britne...</td>\n",
       "      <td>United States</td>\n",
       "      <td>March 30, 2021</td>\n",
       "      <td>2014</td>\n",
       "      <td>NaN</td>\n",
       "      <td>69 min</td>\n",
       "      <td>...</td>\n",
       "      <td>NaN</td>\n",
       "      <td>NaN</td>\n",
       "      <td>NaN</td>\n",
       "      <td>2021-09-24</td>\n",
       "      <td>2021.0</td>\n",
       "      <td>TV-MA</td>\n",
       "      <td>1 Season</td>\n",
       "      <td>Docuseries, Reality TV</td>\n",
       "      <td>Feuds, flirtations and toilet talk go down amo...</td>\n",
       "      <td>9.0</td>\n",
       "    </tr>\n",
       "    <tr>\n",
       "      <th>4</th>\n",
       "      <td>s5</td>\n",
       "      <td>Movie</td>\n",
       "      <td>Monster Maker</td>\n",
       "      <td>Giles Foster</td>\n",
       "      <td>[Harry Dean Stanton, Kieran O'Brien, George Co...</td>\n",
       "      <td>United Kingdom</td>\n",
       "      <td>March 30, 2021</td>\n",
       "      <td>1989</td>\n",
       "      <td>NaN</td>\n",
       "      <td>45 min</td>\n",
       "      <td>...</td>\n",
       "      <td>NaN</td>\n",
       "      <td>Mayur More, Jitendra Kumar, Ranjan Raj, Alam K...</td>\n",
       "      <td>India</td>\n",
       "      <td>2021-09-24</td>\n",
       "      <td>2021.0</td>\n",
       "      <td>TV-MA</td>\n",
       "      <td>2 Seasons</td>\n",
       "      <td>International TV Shows, Romantic TV Shows, TV ...</td>\n",
       "      <td>In a city of coaching centers known to train I...</td>\n",
       "      <td>9.0</td>\n",
       "    </tr>\n",
       "  </tbody>\n",
       "</table>\n",
       "<p>5 rows × 24 columns</p>\n",
       "</div>"
      ],
      "text/plain": [
       "  show_id type_amazon          title_amazon director_amazon  \\\n",
       "0      s1       Movie   The Grand Seduction    Don McKellar   \n",
       "1      s2       Movie  Take Care Good Night    Girish Joshi   \n",
       "2      s3       Movie  Secrets of Deception     Josh Webber   \n",
       "3      s4       Movie    Pink: Staying True  Sonia Anderson   \n",
       "4      s5       Movie         Monster Maker    Giles Foster   \n",
       "\n",
       "                                         cast_amazon  country_amazon  \\\n",
       "0   [Brendan Gleeson, Taylor Kitsch, Gordon Pinsent]          Canada   \n",
       "1  [Mahesh Manjrekar, Abhay Mahajan, Sachin Khede...           India   \n",
       "2  [Tom Sizemore, Lorenzo Lamas, Robert LaSardo, ...   United States   \n",
       "3  [Interviews with: Pink, Adele, Beyoncé, Britne...   United States   \n",
       "4  [Harry Dean Stanton, Kieran O'Brien, George Co...  United Kingdom   \n",
       "\n",
       "  date_added_amazon  release_year_amazon rating_amazon duration_amazon  ...  \\\n",
       "0    March 30, 2021                 2014           NaN         113 min  ...   \n",
       "1    March 30, 2021                 2018           13+         110 min  ...   \n",
       "2    March 30, 2021                 2017           NaN          74 min  ...   \n",
       "3    March 30, 2021                 2014           NaN          69 min  ...   \n",
       "4    March 30, 2021                 1989           NaN          45 min  ...   \n",
       "\n",
       "  director_netflix                                       cast_netflix  \\\n",
       "0  Kirsten Johnson                                                NaN   \n",
       "1              NaN  Ama Qamata, Khosi Ngema, Gail Mabalane, Thaban...   \n",
       "2  Julien Leclercq  Sami Bouajila, Tracy Gotoas, Samuel Jouy, Nabi...   \n",
       "3              NaN                                                NaN   \n",
       "4              NaN  Mayur More, Jitendra Kumar, Ranjan Raj, Alam K...   \n",
       "\n",
       "  country_netflix date_added_netflix release_year_netflix rating_netflix  \\\n",
       "0   United States         2021-09-25               2020.0          PG-13   \n",
       "1    South Africa         2021-09-24               2021.0          TV-MA   \n",
       "2             NaN         2021-09-24               2021.0          TV-MA   \n",
       "3             NaN         2021-09-24               2021.0          TV-MA   \n",
       "4           India         2021-09-24               2021.0          TV-MA   \n",
       "\n",
       "  duration_netflix                                  listed_in_netflix  \\\n",
       "0           90 min                                      Documentaries   \n",
       "1        2 Seasons    International TV Shows, TV Dramas, TV Mysteries   \n",
       "2         1 Season  Crime TV Shows, International TV Shows, TV Act...   \n",
       "3         1 Season                             Docuseries, Reality TV   \n",
       "4        2 Seasons  International TV Shows, Romantic TV Shows, TV ...   \n",
       "\n",
       "                                 description_netflix  mes  \n",
       "0  As her father nears the end of his life, filmm...  9.0  \n",
       "1  After crossing paths at a party, a Cape Town t...  9.0  \n",
       "2  To protect his family from a powerful drug lor...  9.0  \n",
       "3  Feuds, flirtations and toilet talk go down amo...  9.0  \n",
       "4  In a city of coaching centers known to train I...  9.0  \n",
       "\n",
       "[5 rows x 24 columns]"
      ]
     },
     "execution_count": 461,
     "metadata": {},
     "output_type": "execute_result"
    }
   ],
   "source": [
    "# Separando base para filtrar os top 5 países\n",
    "df_pais_5 = df\n",
    "df_pais_5.head()"
   ]
  },
  {
   "cell_type": "code",
   "execution_count": 426,
   "id": "48ccdfd1",
   "metadata": {
    "ExecuteTime": {
     "end_time": "2023-03-21T03:16:35.339882Z",
     "start_time": "2023-03-21T03:16:35.323102Z"
    }
   },
   "outputs": [
    {
     "data": {
      "text/plain": [
       "United States                            253\n",
       "India                                    229\n",
       "United Kingdom                            28\n",
       "Canada                                    16\n",
       "United Kingdom, United States             12\n",
       "                                        ... \n",
       "United States, Germany, Brazil, Italy      1\n",
       "South Africa                               1\n",
       "Australia, United States, Germany          1\n",
       "Germany, Austria, United States            1\n",
       "Italy, Spain                               1\n",
       "Name: country_amazon, Length: 86, dtype: int64"
      ]
     },
     "execution_count": 426,
     "metadata": {},
     "output_type": "execute_result"
    }
   ],
   "source": [
    "# Contando os paises com mais filmes na plataforma Amazon\n",
    "df_5_amazon = df_pais_5['country_amazon'].value_counts()\n",
    "df_5_amazon"
   ]
  },
  {
   "cell_type": "code",
   "execution_count": 427,
   "id": "d78746ae",
   "metadata": {
    "ExecuteTime": {
     "end_time": "2023-03-21T03:16:50.366377Z",
     "start_time": "2023-03-21T03:16:50.347627Z"
    }
   },
   "outputs": [
    {
     "data": {
      "text/plain": [
       "United States                             2818\n",
       "India                                      972\n",
       "United Kingdom                             419\n",
       "Japan                                      245\n",
       "South Korea                                199\n",
       "                                          ... \n",
       "Romania, Bulgaria, Hungary                   1\n",
       "Uruguay, Guatemala                           1\n",
       "France, Senegal, Belgium                     1\n",
       "Mexico, United States, Spain, Colombia       1\n",
       "United Arab Emirates, Jordan                 1\n",
       "Name: country_netflix, Length: 748, dtype: int64"
      ]
     },
     "execution_count": 427,
     "metadata": {},
     "output_type": "execute_result"
    }
   ],
   "source": [
    "# Contando os paises com mais filmes na plataforma Netflix\n",
    "df_5_netflix = df_pais_5['country_netflix'].value_counts()\n",
    "df_5_netflix"
   ]
  },
  {
   "cell_type": "code",
   "execution_count": 431,
   "id": "208dfe18",
   "metadata": {
    "ExecuteTime": {
     "end_time": "2023-03-21T03:17:56.457694Z",
     "start_time": "2023-03-21T03:17:56.438795Z"
    }
   },
   "outputs": [
    {
     "data": {
      "text/html": [
       "<div>\n",
       "<style scoped>\n",
       "    .dataframe tbody tr th:only-of-type {\n",
       "        vertical-align: middle;\n",
       "    }\n",
       "\n",
       "    .dataframe tbody tr th {\n",
       "        vertical-align: top;\n",
       "    }\n",
       "\n",
       "    .dataframe thead th {\n",
       "        text-align: right;\n",
       "    }\n",
       "</style>\n",
       "<table border=\"1\" class=\"dataframe\">\n",
       "  <thead>\n",
       "    <tr style=\"text-align: right;\">\n",
       "      <th></th>\n",
       "      <th>country_netflix</th>\n",
       "      <th>country_amazon</th>\n",
       "    </tr>\n",
       "  </thead>\n",
       "  <tbody>\n",
       "    <tr>\n",
       "      <th>United States</th>\n",
       "      <td>2818.0</td>\n",
       "      <td>253.0</td>\n",
       "    </tr>\n",
       "    <tr>\n",
       "      <th>India</th>\n",
       "      <td>972.0</td>\n",
       "      <td>229.0</td>\n",
       "    </tr>\n",
       "    <tr>\n",
       "      <th>United Kingdom</th>\n",
       "      <td>419.0</td>\n",
       "      <td>28.0</td>\n",
       "    </tr>\n",
       "    <tr>\n",
       "      <th>Japan</th>\n",
       "      <td>245.0</td>\n",
       "      <td>2.0</td>\n",
       "    </tr>\n",
       "    <tr>\n",
       "      <th>South Korea</th>\n",
       "      <td>199.0</td>\n",
       "      <td>NaN</td>\n",
       "    </tr>\n",
       "  </tbody>\n",
       "</table>\n",
       "</div>"
      ],
      "text/plain": [
       "                country_netflix  country_amazon\n",
       "United States            2818.0           253.0\n",
       "India                     972.0           229.0\n",
       "United Kingdom            419.0            28.0\n",
       "Japan                     245.0             2.0\n",
       "South Korea               199.0             NaN"
      ]
     },
     "execution_count": 431,
     "metadata": {},
     "output_type": "execute_result"
    }
   ],
   "source": [
    "# Top 5 paises com mais filmes nas 2 plataformas\n",
    "\n",
    "top_5_paises = pd.concat([pd.Series(df_5_netflix), pd.Series(df_5_amazon)], axis=1)\n",
    "top_5_paises.head()"
   ]
  },
  {
   "cell_type": "markdown",
   "id": "ecc8aafb",
   "metadata": {
    "ExecuteTime": {
     "end_time": "2023-03-21T03:45:07.045369Z",
     "start_time": "2023-03-21T03:45:07.036213Z"
    }
   },
   "source": [
    "# Mês no qual há mais adições de filmes na plataforma Netflix;"
   ]
  },
  {
   "cell_type": "code",
   "execution_count": 433,
   "id": "65edc7ed",
   "metadata": {
    "ExecuteTime": {
     "end_time": "2023-03-21T03:47:20.354087Z",
     "start_time": "2023-03-21T03:47:20.346697Z"
    }
   },
   "outputs": [],
   "source": [
    "# Separando base para filtrar o mês com mais filmes adicionados na Netflix\n",
    "df_mes = df"
   ]
  },
  {
   "cell_type": "code",
   "execution_count": 436,
   "id": "9f3967be",
   "metadata": {
    "ExecuteTime": {
     "end_time": "2023-03-21T03:52:06.106672Z",
     "start_time": "2023-03-21T03:52:05.931552Z"
    }
   },
   "outputs": [],
   "source": [
    "# Convertendo a coluna data para datetime\n",
    "df_mes['date_added_netflix'] = pd.to_datetime(df_mes['date_added_netflix'])"
   ]
  },
  {
   "cell_type": "code",
   "execution_count": 438,
   "id": "8df5c6c0",
   "metadata": {
    "ExecuteTime": {
     "end_time": "2023-03-21T03:52:35.518866Z",
     "start_time": "2023-03-21T03:52:35.506863Z"
    }
   },
   "outputs": [
    {
     "data": {
      "text/plain": [
       "2020-01-01    110\n",
       "2019-11-01     91\n",
       "2018-03-01     75\n",
       "2019-12-31     74\n",
       "2018-10-01     71\n",
       "             ... \n",
       "2017-02-21      1\n",
       "2017-02-07      1\n",
       "2017-01-29      1\n",
       "2017-01-25      1\n",
       "2020-01-11      1\n",
       "Name: date_added_netflix, Length: 1714, dtype: int64"
      ]
     },
     "execution_count": 438,
     "metadata": {},
     "output_type": "execute_result"
    }
   ],
   "source": [
    "# Contando o valores\n",
    "df_mes['date_added_netflix'].value_counts()"
   ]
  },
  {
   "cell_type": "code",
   "execution_count": 439,
   "id": "480250ec",
   "metadata": {
    "ExecuteTime": {
     "end_time": "2023-03-21T03:54:16.789823Z",
     "start_time": "2023-03-21T03:54:16.778856Z"
    }
   },
   "outputs": [],
   "source": [
    "# Criando uma nova coluna somente com a informaçao mês\n",
    "df_mes['mes'] = df_mes['date_added_netflix'].dt.month"
   ]
  },
  {
   "cell_type": "code",
   "execution_count": 443,
   "id": "82106706",
   "metadata": {
    "ExecuteTime": {
     "end_time": "2023-03-21T03:56:51.551786Z",
     "start_time": "2023-03-21T03:56:51.539839Z"
    }
   },
   "outputs": [
    {
     "data": {
      "text/plain": [
       "7.0    827\n",
       "Name: mes, dtype: int64"
      ]
     },
     "execution_count": 443,
     "metadata": {},
     "output_type": "execute_result"
    }
   ],
   "source": [
    "# Contando os filmes adicionados por mês\n",
    "df_mes['mes'].value_counts().head(1)"
   ]
  },
  {
   "cell_type": "code",
   "execution_count": 444,
   "id": "7aa44604",
   "metadata": {
    "ExecuteTime": {
     "end_time": "2023-03-21T03:58:43.006900Z",
     "start_time": "2023-03-21T03:58:42.994619Z"
    }
   },
   "outputs": [
    {
     "name": "stdout",
     "output_type": "stream",
     "text": [
      "Julho foi o mês que teve mais filmes adicionados na plataforma Netflix.\n"
     ]
    }
   ],
   "source": [
    "print('Julho foi o mês que teve mais filmes adicionados na plataforma Netflix.')"
   ]
  },
  {
   "cell_type": "markdown",
   "id": "6817a5d7",
   "metadata": {},
   "source": [
    "#  Quantidade de filmes listados como comédia"
   ]
  },
  {
   "cell_type": "code",
   "execution_count": 445,
   "id": "89fbc86c",
   "metadata": {
    "ExecuteTime": {
     "end_time": "2023-03-21T04:01:59.829275Z",
     "start_time": "2023-03-21T04:01:59.817041Z"
    }
   },
   "outputs": [],
   "source": [
    "# Separando base para filtrar os filmes de comédia\n",
    "df_comedia = df"
   ]
  },
  {
   "cell_type": "code",
   "execution_count": 453,
   "id": "d197ee89",
   "metadata": {
    "ExecuteTime": {
     "end_time": "2023-03-21T04:05:59.625254Z",
     "start_time": "2023-03-21T04:05:59.612050Z"
    }
   },
   "outputs": [
    {
     "data": {
      "text/plain": [
       "Drama                                                                            986\n",
       "Comedy                                                                           536\n",
       "Drama, Suspense                                                                  399\n",
       "Comedy, Drama                                                                    377\n",
       "Animation, Kids                                                                  356\n",
       "                                                                                ... \n",
       "Arts, Entertainment, and Culture, Music Videos and Concerts, Special Interest      1\n",
       "Arts, Entertainment, and Culture, Comedy, Military and War                         1\n",
       "Comedy, Faith and Spirituality, Kids                                               1\n",
       "Arts, Entertainment, and Culture, Fantasy, Kids                                    1\n",
       "Anime, Comedy, Drama                                                               1\n",
       "Name: listed_in_amazon, Length: 518, dtype: int64"
      ]
     },
     "execution_count": 453,
     "metadata": {},
     "output_type": "execute_result"
    }
   ],
   "source": [
    "df_comedia['listed_in_amazon'].value_counts()"
   ]
  },
  {
   "cell_type": "code",
   "execution_count": 452,
   "id": "79ecac9d",
   "metadata": {
    "ExecuteTime": {
     "end_time": "2023-03-21T04:05:41.434321Z",
     "start_time": "2023-03-21T04:05:41.419001Z"
    }
   },
   "outputs": [
    {
     "data": {
      "text/plain": [
       "Dramas, International Movies                          362\n",
       "Documentaries                                         359\n",
       "Stand-Up Comedy                                       334\n",
       "Comedies, Dramas, International Movies                274\n",
       "Dramas, Independent Movies, International Movies      252\n",
       "                                                     ... \n",
       "Kids' TV, TV Action & Adventure, TV Dramas              1\n",
       "TV Comedies, TV Dramas, TV Horror                       1\n",
       "Children & Family Movies, Comedies, LGBTQ Movies        1\n",
       "Kids' TV, Spanish-Language TV Shows, Teen TV Shows      1\n",
       "Cult Movies, Dramas, Thrillers                          1\n",
       "Name: listed_in_netflix, Length: 514, dtype: int64"
      ]
     },
     "execution_count": 452,
     "metadata": {},
     "output_type": "execute_result"
    }
   ],
   "source": [
    "df_comedia['listed_in_netflix'].value_counts()"
   ]
  },
  {
   "cell_type": "code",
   "execution_count": 456,
   "id": "044acd24",
   "metadata": {
    "ExecuteTime": {
     "end_time": "2023-03-21T04:14:12.471250Z",
     "start_time": "2023-03-21T04:14:12.459077Z"
    }
   },
   "outputs": [],
   "source": [
    "# Selecionando oss filmes listados como comédia nas 2 plataformas\n",
    "comedia_total = df_comedia.loc[(df_comedia['listed_in_amazon'] == 'Comedy') | (df_comedia['listed_in_netflix'] == 'Comedies')]"
   ]
  },
  {
   "cell_type": "code",
   "execution_count": 458,
   "id": "7c326e24",
   "metadata": {
    "ExecuteTime": {
     "end_time": "2023-03-21T04:14:33.048981Z",
     "start_time": "2023-03-21T04:14:33.037071Z"
    }
   },
   "outputs": [
    {
     "data": {
      "text/plain": [
       "(640, 24)"
      ]
     },
     "execution_count": 458,
     "metadata": {},
     "output_type": "execute_result"
    }
   ],
   "source": [
    "# Total de linhas apenas dos filmes classificados como comédia\n",
    "comedia_total.shape"
   ]
  },
  {
   "cell_type": "code",
   "execution_count": 459,
   "id": "af0e1d02",
   "metadata": {
    "ExecuteTime": {
     "end_time": "2023-03-21T04:15:53.281645Z",
     "start_time": "2023-03-21T04:15:53.266473Z"
    }
   },
   "outputs": [
    {
     "name": "stdout",
     "output_type": "stream",
     "text": [
      "A quantidade de filmes listados como comédia é de 640 títulos.\n"
     ]
    }
   ],
   "source": [
    "print('A quantidade de filmes listados como comédia é de 640 títulos.')"
   ]
  },
  {
   "cell_type": "markdown",
   "id": "9f3d87a9",
   "metadata": {},
   "source": [
    "# Lista de todos os gêneros de filmes."
   ]
  },
  {
   "cell_type": "code",
   "execution_count": 462,
   "id": "e73d9bad",
   "metadata": {
    "ExecuteTime": {
     "end_time": "2023-03-21T13:51:31.990047Z",
     "start_time": "2023-03-21T13:51:31.968858Z"
    }
   },
   "outputs": [],
   "source": [
    "# Separando base para filtrar os gêneros de filmes\n",
    "df_genero = df"
   ]
  },
  {
   "cell_type": "code",
   "execution_count": 464,
   "id": "aeec3e16",
   "metadata": {
    "ExecuteTime": {
     "end_time": "2023-03-21T13:53:37.702037Z",
     "start_time": "2023-03-21T13:53:37.674420Z"
    }
   },
   "outputs": [
    {
     "data": {
      "text/html": [
       "<div>\n",
       "<style scoped>\n",
       "    .dataframe tbody tr th:only-of-type {\n",
       "        vertical-align: middle;\n",
       "    }\n",
       "\n",
       "    .dataframe tbody tr th {\n",
       "        vertical-align: top;\n",
       "    }\n",
       "\n",
       "    .dataframe thead th {\n",
       "        text-align: right;\n",
       "    }\n",
       "</style>\n",
       "<table border=\"1\" class=\"dataframe\">\n",
       "  <thead>\n",
       "    <tr style=\"text-align: right;\">\n",
       "      <th></th>\n",
       "      <th>show_id</th>\n",
       "      <th>type_amazon</th>\n",
       "      <th>title_amazon</th>\n",
       "      <th>director_amazon</th>\n",
       "      <th>cast_amazon</th>\n",
       "      <th>country_amazon</th>\n",
       "      <th>date_added_amazon</th>\n",
       "      <th>release_year_amazon</th>\n",
       "      <th>rating_amazon</th>\n",
       "      <th>duration_amazon</th>\n",
       "      <th>...</th>\n",
       "      <th>director_netflix</th>\n",
       "      <th>cast_netflix</th>\n",
       "      <th>country_netflix</th>\n",
       "      <th>date_added_netflix</th>\n",
       "      <th>release_year_netflix</th>\n",
       "      <th>rating_netflix</th>\n",
       "      <th>duration_netflix</th>\n",
       "      <th>listed_in_netflix</th>\n",
       "      <th>description_netflix</th>\n",
       "      <th>mes</th>\n",
       "    </tr>\n",
       "  </thead>\n",
       "  <tbody>\n",
       "    <tr>\n",
       "      <th>0</th>\n",
       "      <td>s1</td>\n",
       "      <td>Movie</td>\n",
       "      <td>The Grand Seduction</td>\n",
       "      <td>Don McKellar</td>\n",
       "      <td>[Brendan Gleeson, Taylor Kitsch, Gordon Pinsent]</td>\n",
       "      <td>Canada</td>\n",
       "      <td>March 30, 2021</td>\n",
       "      <td>2014</td>\n",
       "      <td>NaN</td>\n",
       "      <td>113 min</td>\n",
       "      <td>...</td>\n",
       "      <td>Kirsten Johnson</td>\n",
       "      <td>NaN</td>\n",
       "      <td>United States</td>\n",
       "      <td>2021-09-25</td>\n",
       "      <td>2020.0</td>\n",
       "      <td>PG-13</td>\n",
       "      <td>90 min</td>\n",
       "      <td>Documentaries</td>\n",
       "      <td>As her father nears the end of his life, filmm...</td>\n",
       "      <td>9.0</td>\n",
       "    </tr>\n",
       "    <tr>\n",
       "      <th>1</th>\n",
       "      <td>s2</td>\n",
       "      <td>Movie</td>\n",
       "      <td>Take Care Good Night</td>\n",
       "      <td>Girish Joshi</td>\n",
       "      <td>[Mahesh Manjrekar, Abhay Mahajan, Sachin Khede...</td>\n",
       "      <td>India</td>\n",
       "      <td>March 30, 2021</td>\n",
       "      <td>2018</td>\n",
       "      <td>13+</td>\n",
       "      <td>110 min</td>\n",
       "      <td>...</td>\n",
       "      <td>NaN</td>\n",
       "      <td>Ama Qamata, Khosi Ngema, Gail Mabalane, Thaban...</td>\n",
       "      <td>South Africa</td>\n",
       "      <td>2021-09-24</td>\n",
       "      <td>2021.0</td>\n",
       "      <td>TV-MA</td>\n",
       "      <td>2 Seasons</td>\n",
       "      <td>International TV Shows, TV Dramas, TV Mysteries</td>\n",
       "      <td>After crossing paths at a party, a Cape Town t...</td>\n",
       "      <td>9.0</td>\n",
       "    </tr>\n",
       "    <tr>\n",
       "      <th>2</th>\n",
       "      <td>s3</td>\n",
       "      <td>Movie</td>\n",
       "      <td>Secrets of Deception</td>\n",
       "      <td>Josh Webber</td>\n",
       "      <td>[Tom Sizemore, Lorenzo Lamas, Robert LaSardo, ...</td>\n",
       "      <td>United States</td>\n",
       "      <td>March 30, 2021</td>\n",
       "      <td>2017</td>\n",
       "      <td>NaN</td>\n",
       "      <td>74 min</td>\n",
       "      <td>...</td>\n",
       "      <td>Julien Leclercq</td>\n",
       "      <td>Sami Bouajila, Tracy Gotoas, Samuel Jouy, Nabi...</td>\n",
       "      <td>NaN</td>\n",
       "      <td>2021-09-24</td>\n",
       "      <td>2021.0</td>\n",
       "      <td>TV-MA</td>\n",
       "      <td>1 Season</td>\n",
       "      <td>Crime TV Shows, International TV Shows, TV Act...</td>\n",
       "      <td>To protect his family from a powerful drug lor...</td>\n",
       "      <td>9.0</td>\n",
       "    </tr>\n",
       "  </tbody>\n",
       "</table>\n",
       "<p>3 rows × 24 columns</p>\n",
       "</div>"
      ],
      "text/plain": [
       "  show_id type_amazon          title_amazon director_amazon  \\\n",
       "0      s1       Movie   The Grand Seduction    Don McKellar   \n",
       "1      s2       Movie  Take Care Good Night    Girish Joshi   \n",
       "2      s3       Movie  Secrets of Deception     Josh Webber   \n",
       "\n",
       "                                         cast_amazon country_amazon  \\\n",
       "0   [Brendan Gleeson, Taylor Kitsch, Gordon Pinsent]         Canada   \n",
       "1  [Mahesh Manjrekar, Abhay Mahajan, Sachin Khede...          India   \n",
       "2  [Tom Sizemore, Lorenzo Lamas, Robert LaSardo, ...  United States   \n",
       "\n",
       "  date_added_amazon  release_year_amazon rating_amazon duration_amazon  ...  \\\n",
       "0    March 30, 2021                 2014           NaN         113 min  ...   \n",
       "1    March 30, 2021                 2018           13+         110 min  ...   \n",
       "2    March 30, 2021                 2017           NaN          74 min  ...   \n",
       "\n",
       "  director_netflix                                       cast_netflix  \\\n",
       "0  Kirsten Johnson                                                NaN   \n",
       "1              NaN  Ama Qamata, Khosi Ngema, Gail Mabalane, Thaban...   \n",
       "2  Julien Leclercq  Sami Bouajila, Tracy Gotoas, Samuel Jouy, Nabi...   \n",
       "\n",
       "  country_netflix date_added_netflix release_year_netflix rating_netflix  \\\n",
       "0   United States         2021-09-25               2020.0          PG-13   \n",
       "1    South Africa         2021-09-24               2021.0          TV-MA   \n",
       "2             NaN         2021-09-24               2021.0          TV-MA   \n",
       "\n",
       "  duration_netflix                                  listed_in_netflix  \\\n",
       "0           90 min                                      Documentaries   \n",
       "1        2 Seasons    International TV Shows, TV Dramas, TV Mysteries   \n",
       "2         1 Season  Crime TV Shows, International TV Shows, TV Act...   \n",
       "\n",
       "                                 description_netflix  mes  \n",
       "0  As her father nears the end of his life, filmm...  9.0  \n",
       "1  After crossing paths at a party, a Cape Town t...  9.0  \n",
       "2  To protect his family from a powerful drug lor...  9.0  \n",
       "\n",
       "[3 rows x 24 columns]"
      ]
     },
     "execution_count": 464,
     "metadata": {},
     "output_type": "execute_result"
    }
   ],
   "source": [
    "# Lendo as 3 primeiras linhas\n",
    "df_genero.head(3)"
   ]
  },
  {
   "cell_type": "code",
   "execution_count": 468,
   "id": "f34e0701",
   "metadata": {
    "ExecuteTime": {
     "end_time": "2023-03-21T14:02:55.829328Z",
     "start_time": "2023-03-21T14:02:55.802228Z"
    }
   },
   "outputs": [],
   "source": [
    "# Filtrando somente os filmes\n",
    "df_genero = df_genero.loc[(df_genero['type_amazon'] == 'Movie') & (df_genero['type_netflix'] == 'Movie')]"
   ]
  },
  {
   "cell_type": "code",
   "execution_count": 474,
   "id": "f4d311e7",
   "metadata": {
    "ExecuteTime": {
     "end_time": "2023-03-21T14:09:08.423195Z",
     "start_time": "2023-03-21T14:09:08.407704Z"
    }
   },
   "outputs": [],
   "source": [
    "# Selecionando valores únicos em cada categoria\n",
    "df_genero_amazon = df_genero['listed_in_amazon'].unique()\n",
    "df_genero_netflix = df_genero['listed_in_netflix'].unique()"
   ]
  },
  {
   "cell_type": "code",
   "execution_count": 478,
   "id": "9b6218c1",
   "metadata": {
    "ExecuteTime": {
     "end_time": "2023-03-21T14:17:17.894924Z",
     "start_time": "2023-03-21T14:17:17.880110Z"
    }
   },
   "outputs": [
    {
     "name": "stdout",
     "output_type": "stream",
     "text": [
      "['Comedy, Drama', 'Documentary, Special Interest', 'Comedy', 'Drama', 'Horror, Suspense', 'Documentary, Sports', 'Horror, Science Fiction', 'Arts, Entertainment, and Culture, Comedy, Drama', 'Fitness, Special Interest', 'Special Interest', 'Action, Military and War, Western', 'Drama, International', 'Fantasy, Science Fiction, Suspense', 'Suspense', 'Documentary, LGBTQ', 'Documentary', 'Kids', 'Action, Drama', 'Drama, Suspense', 'Action, Drama, Sports', 'Arts, Entertainment, and Culture, Comedy', 'Arts, Entertainment, and Culture, Comedy, Special Interest', 'Arts, Entertainment, and Culture', 'Action, Science Fiction', 'Documentary, Faith and Spirituality, Special Interest', 'Action, Drama, Special Interest', 'Animation, Kids', 'Drama, Young Adult Audience', 'Action, Adventure, Comedy', 'Military and War, Western', 'Action, Comedy, Drama', 'Anime', 'Comedy, International', 'Drama, Romance', 'Drama, Horror, Suspense', 'Action, Suspense', 'Arts, Entertainment, and Culture, Documentary', 'Science Fiction', 'Action, Science Fiction, Suspense', 'Action, Drama, International', 'Drama, Science Fiction, Suspense', 'Action, Documentary, Sports', 'Comedy, Horror', 'Action, Drama, Suspense', 'Music Videos and Concerts', 'Sports', 'Horror', 'Documentary, Science Fiction', 'Arts, Entertainment, and Culture, Documentary, Special Interest', 'Kids, Special Interest', 'Action, Comedy', 'Documentary, Drama, Sports', 'Comedy, Drama, Romance', 'Action, Drama, Kids', 'Drama, Faith and Spirituality, Special Interest', 'Western', 'Action, Drama, Western', 'Action, Adventure, Suspense', 'Documentary, International', 'Action', 'Adventure, Fantasy', 'Action, Romance, Western', 'Documentary, Talk Show and Variety', 'Comedy, Kids', 'Drama, International, Romance', 'Action, Western', 'Drama, Faith and Spirituality, Romance', 'Documentary, Music Videos and Concerts', 'Drama, Military and War', 'Documentary, Kids, Special Interest', 'Drama, Faith and Spirituality', 'Action, Drama, Horror', 'Action, Kids', 'Drama, Sports', 'Documentary, Drama, Special Interest', 'Documentary, International, Special Interest', 'Adventure, Drama', 'Comedy, Western', 'Comedy, Science Fiction', 'Documentary, Horror', 'Comedy, Suspense', 'Anime, Kids', 'Drama, Kids', 'Animation, Anime, Kids', 'Drama, Romance, Suspense', 'Drama, Faith and Spirituality, Suspense', 'Arthouse, Arts, Entertainment, and Culture, Drama', 'Adventure', 'Action, Special Interest', 'Drama, Science Fiction', 'Documentary, Drama', 'Arts, Entertainment, and Culture, Comedy, Romance', 'Action, Kids, Science Fiction', 'Animation, Comedy, Kids', 'Action, Military and War', 'Action, Adventure, Drama', 'Action, Animation, Kids', 'Adventure, Drama, Military and War', 'Comedy, Drama, LGBTQ', 'Action, Adventure', 'Arthouse, Drama, Suspense', 'Comedy, Drama, International', 'Comedy, International, Young Adult Audience', 'Music Videos and Concerts, Special Interest', 'Arts, Entertainment, and Culture, Drama', 'Documentary, Special Interest, Suspense', 'Animation, Documentary, Kids', 'Animation, Kids, Sports', 'Arthouse, Drama, Romance', 'Action, Young Adult Audience', 'Drama, Faith and Spirituality, Kids', 'Adventure, Animation, Kids', 'Adventure, Drama, Western', 'Arts, Entertainment, and Culture, Comedy, Military and War', 'Drama, Horror', 'Fantasy, Kids', 'Arts, Entertainment, and Culture, Drama, Western', 'Comedy, Drama, Suspense', 'Kids, Science Fiction', 'Adventure, Comedy, Kids', 'Drama, LGBTQ', 'Fantasy, Science Fiction', 'Arthouse, Comedy', 'Documentary, Special Interest, Sports', 'Arts, Entertainment, and Culture, Comedy, Documentary', 'Adventure, Drama, Suspense', 'Action, Comedy, Horror', 'Action, Horror, Science Fiction', 'Drama, Kids, Romance', 'Action, Adventure, International', 'Action, Military and War, Suspense', 'Action, International', 'Horror, Science Fiction, Suspense', 'Adventure, Drama, Faith and Spirituality', 'Arts, Entertainment, and Culture, Drama, Kids', 'Comedy, Drama, Special Interest', 'Suspense, Western', 'Comedy, Romance', 'Arthouse, Special Interest', 'Drama, International, Suspense', 'Arthouse, Arts, Entertainment, and Culture, Comedy', 'Action, Adventure, Science Fiction', 'Romance', 'Drama, Horror, Special Interest', 'Comedy, Young Adult Audience', 'LGBTQ, Special Interest', 'Comedy, Drama, Kids', 'Action, Romance', 'LGBTQ, Romance', 'Horror, International', 'Drama, Fantasy, Suspense', 'Romance, Suspense', 'Drama, Historical, International', 'Drama, Fantasy, Science Fiction', 'Action, Documentary', 'Action, Drama, Science Fiction', 'Comedy, LGBTQ, Romance', 'International', 'Action, Documentary, Faith and Spirituality', 'Documentary, Suspense', 'Drama, Special Interest', 'Action, Horror', 'Arts, Entertainment, and Culture, Music Videos and Concerts', 'Arthouse, Drama', 'Action, Adventure, Documentary', 'Action, Arthouse, Arts, Entertainment, and Culture', 'Faith and Spirituality', 'Comedy, LGBTQ', 'Arthouse, Comedy, Drama', 'Adventure, Comedy, Drama', 'Fantasy, Kids, Suspense', 'Arthouse, Comedy, Romance', 'Comedy, Sports', 'Action, Comedy, Fantasy', 'Action, Adventure, Kids', 'Drama, Horror, Science Fiction', 'Comedy, Documentary, Special Interest', 'Action, Special Interest, Sports', 'Arts, Entertainment, and Culture, Comedy, LGBTQ', 'Drama, Western', 'Action, Comedy, LGBTQ', 'Special Interest, Western', 'Kids, Western', 'Comedy, Special Interest', 'Action, Drama, Military and War', 'International, Romance', 'Adventure, Drama, Kids', 'Arts, Entertainment, and Culture, Drama, Young Adult Audience', 'International, Suspense', 'Drama, International, Sports', 'Comedy, Horror, Suspense', 'Comedy, International, Romance', 'Adventure, Comedy', 'Arthouse, Documentary', 'Arts, Entertainment, and Culture, Drama, International', 'Adventure, Documentary, Special Interest', 'Action, Sports', 'Comedy, Drama, Science Fiction', 'Drama, LGBTQ, Young Adult Audience', 'Comedy, Fantasy, Kids', 'Drama, Horror, Young Adult Audience', 'Adventure, Kids, Science Fiction', 'Horror, Suspense, Young Adult Audience', 'Documentary, Drama, Suspense', 'Action, Drama, Romance', 'Historical, Horror, Western', 'Drama, Historical, Suspense', 'Action, Animation, Fantasy', 'Kids, Sports', 'Faith and Spirituality, Special Interest', 'Action, Comedy, Military and War', 'Animation', 'Documentary, LGBTQ, Special Interest', 'Fantasy, Horror, Science Fiction', 'Comedy, Drama, Sports', 'Comedy, Music Videos and Concerts', 'LGBTQ, Romance, Sports', 'Action, Comedy, International', 'Documentary, Kids', 'Action, Fantasy', 'Action, Comedy, Kids', 'Military and War, Special Interest', 'Animation, Kids, Music Videos and Concerts', 'Arts, Entertainment, and Culture, Comedy, Science Fiction', 'Science Fiction, Suspense', 'Adventure, Fantasy, Kids', 'Arts, Entertainment, and Culture, International', 'Action, Horror, Suspense', 'Comedy, Horror, Young Adult Audience', 'Action, International, Science Fiction', 'Fitness', 'Historical', 'Arts, Entertainment, and Culture, Horror, Suspense', 'Comedy, Sports, Young Adult Audience', 'Documentary, Science Fiction, Special Interest', 'Animation, Kids, Special Interest', 'Drama, LGBTQ, Suspense', 'Animation, Comedy, Science Fiction', 'Arts, Entertainment, and Culture, Fantasy, Kids', 'Comedy, International, LGBTQ', 'Adventure, Suspense', 'Action, Drama, Historical', 'Anime, Kids, Science Fiction', 'Action, Drama, Faith and Spirituality', 'Animation, Suspense', 'Drama, Romance, Western', 'Adventure, Western', 'Adventure, Drama, Romance', 'Documentary, Drama, Horror', 'Action, Comedy, Suspense', 'Animation, Music Videos and Concerts', 'Comedy, Kids, LGBTQ', 'Arts, Entertainment, and Culture, LGBTQ, Romance', 'Horror, Romance, Science Fiction', 'Drama, LGBTQ, Romance', 'Drama, Military and War, Suspense', 'Fantasy, Horror', 'Animation, Drama, Science Fiction', 'Comedy, Drama, Young Adult Audience', 'Faith and Spirituality, Music Videos and Concerts', 'Documentary, Faith and Spirituality, Music Videos and Concerts', 'Comedy, Military and War, Suspense', 'Faith and Spirituality, Kids, Special Interest', 'Kids, Young Adult Audience', 'Animation, Drama, Kids', 'Animation, Comedy, Drama', 'Comedy, Kids, Science Fiction', 'Action, Adventure, Faith and Spirituality', 'Arthouse, LGBTQ, Romance', 'Action, Documentary, Special Interest', 'Comedy, Drama, Military and War', 'Documentary, Horror, Special Interest', 'Horror, Young Adult Audience', 'Comedy, Drama, Fantasy', 'Action, Comedy, Documentary', 'Arthouse, Drama, LGBTQ', 'Drama, International, Special Interest', 'Action, Documentary, Drama', 'Drama, Historical', 'Arts, Entertainment, and Culture, Kids', 'Comedy, Unscripted', 'Arts, Entertainment, and Culture, Drama, Science Fiction', 'Arthouse, LGBTQ, Suspense', 'Drama, International, Kids', 'Drama, Horror, Romance', 'Action, Arthouse, Romance', 'Action, Arthouse, Drama', 'Drama, Special Interest, Suspense', 'Arts, Entertainment, and Culture, Kids, Science Fiction', 'Horror, International, Science Fiction', 'Action, Romance, Suspense', 'Arts, Entertainment, and Culture, Comedy, Suspense', 'Action, Adventure, Horror', 'Drama, Suspense, Young Adult Audience', 'Action, Adventure, Special Interest', 'Action, Comedy, Science Fiction', 'Comedy, Fantasy, Young Adult Audience', 'Arthouse, Comedy, LGBTQ', 'Action, Adventure, Animation', 'Arthouse, Comedy, Special Interest', 'Drama, Romance, Science Fiction', 'Animation, Kids, Science Fiction', 'Comedy, Horror, Romance', 'Drama, Kids, Special Interest', 'Animation, Kids, Young Adult Audience', 'Comedy, Romance, Young Adult Audience', 'International, LGBTQ, Suspense', 'Arts, Entertainment, and Culture, LGBTQ', 'Arts, Entertainment, and Culture, Documentary, International', 'Action, Adventure, Fantasy', 'Action, Comedy, Western', 'Comedy, Drama, Music Videos and Concerts', 'Comedy, Drama, Western', 'Arthouse, Young Adult Audience', 'Action, International, Suspense', 'Animation, Comedy', 'Action, International, Romance', 'Arthouse, Horror, Science Fiction', 'Action, Arts, Entertainment, and Culture', 'Arthouse', 'Arthouse, Comedy, Horror', 'Action, Kids, Young Adult Audience', 'Drama, Romance, Special Interest', 'Animation, Horror', 'Horror, Romance, Western', 'Adventure, Kids', 'Arts, Entertainment, and Culture, Comedy, Horror', 'Drama, Horror, Western', 'Arts, Entertainment, and Culture, Young Adult Audience', 'Arthouse, Drama, Horror', 'Horror, Romance', 'Action, Arts, Entertainment, and Culture, Drama', 'Comedy, Documentary', 'Arthouse, Horror', 'Kids, Special Interest, Sports', 'Action, Animation, Drama', 'Animation, Anime', 'Action, Animation, Science Fiction', 'Comedy, Romance, Special Interest', 'Arthouse, Drama, Science Fiction', 'Arthouse, Horror, Suspense', 'Arts, Entertainment, and Culture, Drama, LGBTQ', 'Action, Sports, Suspense', 'Animation, Drama', 'Animation, Special Interest', 'Romance, Suspense, Western', 'Drama, International, Western', 'Comedy, Horror, Science Fiction', 'Arts, Entertainment, and Culture, Comedy, Kids', 'Arts, Entertainment, and Culture, Romance', 'Drama, Science Fiction, Special Interest', 'Arts, Entertainment, and Culture, Comedy, Faith and Spirituality', 'Action, Special Interest, Suspense', 'Romance, Science Fiction, Suspense', 'Romance, Science Fiction', 'Arts, Entertainment, and Culture, Drama, Suspense', 'Arthouse, Arts, Entertainment, and Culture', 'Action, Animation', 'Action, Arts, Entertainment, and Culture, Comedy', 'Fantasy, Suspense', 'Arts, Entertainment, and Culture, Drama, Horror', 'Horror, Western', 'Romance, Western', 'Arthouse, Comedy, International', 'Comedy, Drama, Horror', 'Faith and Spirituality, Kids, Western', 'Adventure, Arthouse, Horror', 'Comedy, Fantasy', 'Arthouse, Horror, Romance', 'Arthouse, Arts, Entertainment, and Culture, Horror', 'Animation, Anime, Romance', 'Military and War', 'Arthouse, Drama, Kids', 'Action, Anime, Drama', 'Documentaries', 'Children & Family Movies', 'Dramas, Independent Movies, International Movies', 'Comedies, Dramas', 'Dramas, International Movies', 'Children & Family Movies, Comedies', 'Documentaries, International Movies', 'Comedies, International Movies', 'Comedies, International Movies, Romantic Movies', 'Action & Adventure, Dramas, International Movies', 'Action & Adventure, Dramas', 'Action & Adventure, Classic Movies, Dramas', 'Action & Adventure, Horror Movies, Thrillers', 'Action & Adventure', 'Dramas, Thrillers', 'Action & Adventure, Anime Features, International Movies', 'Documentaries, International Movies, Sports Movies', 'Comedies, Dramas, International Movies', 'Documentaries, Sports Movies', 'Sci-Fi & Fantasy, Thrillers', 'Dramas, International Movies, Romantic Movies', 'Documentaries, Music & Musicals', 'Dramas, International Movies, Thrillers', 'Action & Adventure, Comedies, Dramas', 'Children & Family Movies, Dramas', 'Comedies, Romantic Movies', 'Comedies, Dramas, Independent Movies', 'Thrillers', 'Action & Adventure, Sci-Fi & Fantasy', 'Dramas, Romantic Movies', 'Classic Movies, Comedies, Dramas', 'Dramas', 'Comedies, Cult Movies', 'Comedies, Music & Musicals', 'Action & Adventure, International Movies', 'Comedies', 'Action & Adventure, Children & Family Movies, Cult Movies', 'Comedies, Dramas, Romantic Movies', 'Comedies, Cult Movies, Sci-Fi & Fantasy', 'Action & Adventure, Comedies', 'Classic Movies, Dramas', 'Action & Adventure, Children & Family Movies, Comedies', 'Documentaries, LGBTQ Movies', 'Action & Adventure, Classic Movies', 'Action & Adventure, Comedies, International Movies', 'Action & Adventure, Horror Movies, International Movies', 'Comedies, International Movies, Music & Musicals', 'Comedies, International Movies, Sci-Fi & Fantasy', 'Action & Adventure, International Movies, Music & Musicals', 'Dramas, International Movies, Music & Musicals', 'Horror Movies, International Movies', 'Dramas, Independent Movies, Romantic Movies', 'Documentaries, LGBTQ Movies, Sports Movies', 'Horror Movies, International Movies, Thrillers', 'Children & Family Movies, Comedies, Music & Musicals', 'International Movies, Thrillers', 'Comedies, Independent Movies', 'Action & Adventure, Anime Features, Children & Family Movies', 'International Movies, Music & Musicals', 'Horror Movies, Independent Movies, International Movies', 'Comedies, Cult Movies, International Movies', 'Classic Movies, Dramas, International Movies', 'Horror Movies', 'Action & Adventure, Horror Movies, Sci-Fi & Fantasy', 'Classic Movies, Comedies, Cult Movies', 'Action & Adventure, Sci-Fi & Fantasy, Thrillers', 'Dramas, Independent Movies', 'Children & Family Movies, Comedies, Dramas', 'Children & Family Movies, Comedies, Sci-Fi & Fantasy', 'Action & Adventure, Dramas, Sci-Fi & Fantasy', 'Action & Adventure, Comedies, Cult Movies', 'Dramas, Independent Movies, Thrillers', 'Children & Family Movies, Sports Movies', 'Anime Features, Children & Family Movies, International Movies', 'Horror Movies, LGBTQ Movies', 'Action & Adventure, Dramas, Romantic Movies', 'Documentaries, International Movies, Music & Musicals', 'Children & Family Movies, Dramas, International Movies', 'Comedies, Documentaries, International Movies', 'International Movies, Romantic Movies, Thrillers', 'Action & Adventure, Cult Movies, International Movies', 'Horror Movies, Sci-Fi & Fantasy', 'Action & Adventure, Thrillers', 'Dramas, Faith & Spirituality, International Movies', 'Action & Adventure, Classic Movies, Comedies', 'Action & Adventure, Comedies, Sports Movies', 'Action & Adventure, Children & Family Movies, Classic Movies', 'Horror Movies, Thrillers', 'Action & Adventure, Romantic Movies', 'Dramas, Romantic Movies, Sci-Fi & Fantasy', 'International Movies, Music & Musicals, Romantic Movies', 'Action & Adventure, Anime Features, Classic Movies', 'Movies', 'Anime Features, Documentaries', 'Comedies, Horror Movies', 'Action & Adventure, Comedies, Sci-Fi & Fantasy', 'Children & Family Movies, Documentaries, International Movies', 'Dramas, Faith & Spirituality, Romantic Movies', 'Comedies, Independent Movies, LGBTQ Movies', 'Action & Adventure, Cult Movies, Sci-Fi & Fantasy', 'Dramas, Sports Movies', 'Action & Adventure, Dramas, Sports Movies', 'Dramas, International Movies, LGBTQ Movies', 'Stand-Up Comedy', 'Children & Family Movies, Dramas, Faith & Spirituality', 'Action & Adventure, Horror Movies', 'Documentaries, International Movies, LGBTQ Movies', 'Dramas, Independent Movies, Sci-Fi & Fantasy', 'Comedies, Independent Movies, International Movies', 'Independent Movies, International Movies, Thrillers', 'Independent Movies, Thrillers', 'Documentaries, Dramas', 'Action & Adventure, Sports Movies', 'Children & Family Movies, Music & Musicals', 'Comedies, Independent Movies, Romantic Movies', 'Horror Movies, Romantic Movies, Sci-Fi & Fantasy', 'Cult Movies, Dramas, Music & Musicals', 'Comedies, International Movies, Sports Movies', 'Horror Movies, Independent Movies', 'Comedies, Dramas, Music & Musicals', 'Comedies, Cult Movies, Music & Musicals', 'Comedies, Romantic Movies, Sports Movies', 'Children & Family Movies, Dramas, Sports Movies', 'Action & Adventure, Dramas, Independent Movies', 'Dramas, LGBTQ Movies', 'Action & Adventure, Dramas, Faith & Spirituality', 'International Movies, Romantic Movies', 'Action & Adventure, Comedies, Independent Movies', 'Music & Musicals', 'Dramas, Music & Musicals', 'Dramas, Independent Movies, Sports Movies', 'Comedies, LGBTQ Movies, Music & Musicals', 'Dramas, International Movies, Sports Movies', 'Comedies, International Movies, LGBTQ Movies', 'Comedies, International Movies, Thrillers', 'Music & Musicals, Romantic Movies', 'Children & Family Movies, Classic Movies, Comedies', 'Comedies, Sports Movies', 'Action & Adventure, Children & Family Movies, Dramas', 'Anime Features, International Movies', 'Dramas, Faith & Spirituality', 'Documentaries, Faith & Spirituality, International Movies', 'LGBTQ Movies, Thrillers', 'Action & Adventure, International Movies, Romantic Movies', 'Children & Family Movies, Dramas, Independent Movies', 'Comedies, Music & Musicals, Romantic Movies', 'Classic Movies, Dramas, Independent Movies', 'Anime Features, Children & Family Movies', 'Children & Family Movies, Documentaries', 'Comedies, Horror Movies, International Movies', 'Action & Adventure, Comedies, Romantic Movies', 'Children & Family Movies, Comedies, International Movies', 'International Movies, Sci-Fi & Fantasy', 'International Movies, Sci-Fi & Fantasy, Thrillers', 'Children & Family Movies, Dramas, Romantic Movies', 'Comedies, Dramas, LGBTQ Movies', 'Action & Adventure, Independent Movies, International Movies', 'Children & Family Movies, Comedies, Sports Movies', 'Action & Adventure, Children & Family Movies, Sci-Fi & Fantasy', 'Independent Movies, Sci-Fi & Fantasy, Thrillers', 'Comedies, Faith & Spirituality, Romantic Movies', 'Action & Adventure, Independent Movies', 'Dramas, International Movies, Sci-Fi & Fantasy', 'Anime Features, Romantic Movies', 'Horror Movies, Sci-Fi & Fantasy, Thrillers', 'Children & Family Movies, Comedies, Romantic Movies', 'Anime Features, International Movies, Romantic Movies', 'International Movies', 'Documentaries, Stand-Up Comedy', 'Children & Family Movies, Comedies, LGBTQ Movies', 'Horror Movies, International Movies, Romantic Movies', 'Action & Adventure, International Movies, Sci-Fi & Fantasy', 'Dramas, Independent Movies, Music & Musicals', 'International Movies, Music & Musicals, Thrillers', 'Comedies, Horror Movies, Independent Movies', 'Children & Family Movies, Sci-Fi & Fantasy', 'Action & Adventure, International Movies, Sports Movies', 'Action & Adventure, Independent Movies, Sci-Fi & Fantasy', 'Horror Movies, LGBTQ Movies, Music & Musicals', 'Comedies, Music & Musicals, Sports Movies', 'Dramas, Sci-Fi & Fantasy, Thrillers', 'International Movies, Romantic Movies, Sci-Fi & Fantasy', 'Dramas, Sci-Fi & Fantasy', 'Music & Musicals, Stand-Up Comedy', 'Horror Movies, Independent Movies, Thrillers', 'Horror Movies, International Movies, Sci-Fi & Fantasy', 'Cult Movies, Horror Movies, Independent Movies', 'Comedies, Documentaries', 'Dramas, Independent Movies, LGBTQ Movies', 'Action & Adventure, Anime Features, Sci-Fi & Fantasy', 'Dramas, Faith & Spirituality, Independent Movies', 'Documentaries, Faith & Spirituality', 'Dramas, Music & Musicals, Romantic Movies', 'Comedies, Dramas, Faith & Spirituality', 'Dramas, Romantic Movies, Sports Movies', 'Comedies, Independent Movies, Music & Musicals', 'Children & Family Movies, Dramas, Music & Musicals', 'Comedies, Cult Movies, Independent Movies', 'Documentaries, Dramas, International Movies', 'Children & Family Movies, Documentaries, Sports Movies', 'Sports Movies', 'Sci-Fi & Fantasy', 'Comedies, LGBTQ Movies', 'Comedies, Independent Movies, Thrillers', 'Classic Movies, Cult Movies, Dramas', 'Action & Adventure, Children & Family Movies, Independent Movies', 'Action & Adventure, Documentaries, International Movies', 'Children & Family Movies, Independent Movies', 'Comedies, Cult Movies, Dramas', 'Classic Movies, Thrillers', 'Documentaries, LGBTQ Movies, Music & Musicals', 'Classic Movies, Dramas, Romantic Movies', 'Cult Movies, Horror Movies', 'Dramas, LGBTQ Movies, Romantic Movies', 'Classic Movies, Cult Movies, Horror Movies', 'Action & Adventure, International Movies, Thrillers', 'Children & Family Movies, Classic Movies', 'Classic Movies, Comedies, International Movies', 'Comedies, Sci-Fi & Fantasy', 'Action & Adventure, Cult Movies, Dramas', 'International Movies, Sports Movies', 'Children & Family Movies, Comedies, Faith & Spirituality', 'Classic Movies, Dramas, Music & Musicals', 'Cult Movies, Horror Movies, Thrillers', 'Action & Adventure, Classic Movies, Sci-Fi & Fantasy', 'Classic Movies, Comedies, Music & Musicals', 'Independent Movies', 'Documentaries, Horror Movies', 'Comedies, Faith & Spirituality, International Movies', 'Dramas, Horror Movies, Sci-Fi & Fantasy', 'Comedies, Cult Movies, Horror Movies', 'Comedies, Cult Movies, Sports Movies', 'Classic Movies, Documentaries', 'Action & Adventure, Faith & Spirituality, Sci-Fi & Fantasy', 'Action & Adventure, Children & Family Movies', 'Action & Adventure, Classic Movies, Cult Movies', 'Anime Features', 'Romantic Movies', 'Action & Adventure, Horror Movies, Independent Movies', 'Action & Adventure, Classic Movies, International Movies', 'Cult Movies, Independent Movies, Thrillers', 'Classic Movies, Cult Movies, Documentaries', 'Classic Movies, Dramas, LGBTQ Movies', 'Classic Movies, Dramas, Sports Movies', 'Action & Adventure, Cult Movies', 'Action & Adventure, Comedies, Music & Musicals', 'Classic Movies, Comedies, Independent Movies', 'Children & Family Movies, Classic Movies, Dramas', 'Dramas, Faith & Spirituality, Sports Movies', 'Classic Movies, Comedies, Romantic Movies', 'Dramas, Horror Movies, Music & Musicals', 'Classic Movies, Independent Movies, Thrillers', 'Children & Family Movies, Faith & Spirituality', 'Classic Movies, Comedies, Sports Movies', 'Comedies, Dramas, Sports Movies', 'Horror Movies, Independent Movies, Sci-Fi & Fantasy', 'Action & Adventure, Romantic Movies, Sci-Fi & Fantasy', 'Comedies, Cult Movies, LGBTQ Movies', 'Comedies, Horror Movies, Sci-Fi & Fantasy', 'Action & Adventure, Comedies, Horror Movies', 'Action & Adventure, Documentaries, Sports Movies', 'International Movies, LGBTQ Movies, Romantic Movies', 'Cult Movies, Dramas, Thrillers']\n"
     ]
    }
   ],
   "source": [
    "# Concatenando os 2 df para gerar a lista total de categorias\n",
    "total_genero = pd.concat([pd.Series(df_genero_amazon), pd.Series(df_genero_netflix)])\n",
    "print(list(total_genero))"
   ]
  },
  {
   "cell_type": "markdown",
   "id": "f729238b",
   "metadata": {},
   "source": [
    "#  A frequência de \"TV Show\" de todos os dados e comparativamente em relação as duas plataformas"
   ]
  },
  {
   "cell_type": "code",
   "execution_count": 479,
   "id": "d8cd697c",
   "metadata": {
    "ExecuteTime": {
     "end_time": "2023-03-21T14:43:47.874255Z",
     "start_time": "2023-03-21T14:43:47.843737Z"
    }
   },
   "outputs": [],
   "source": [
    "# Separando base para filtrar a frequência de TV Show\n",
    "df_tv = df"
   ]
  },
  {
   "cell_type": "code",
   "execution_count": 491,
   "id": "3214ca17",
   "metadata": {
    "ExecuteTime": {
     "end_time": "2023-03-21T14:54:15.454878Z",
     "start_time": "2023-03-21T14:54:15.447894Z"
    }
   },
   "outputs": [
    {
     "name": "stdout",
     "output_type": "stream",
     "text": [
      "O total de frequência de Tv Show na Amazon é: 1854\n"
     ]
    }
   ],
   "source": [
    "# Contando a frequência do Tv Show na Amazon\n",
    "df_tv_amazon = (df_tv['type_amazon'] == 'TV Show').sum()\n",
    "print(f'O total de frequência de Tv Show na Amazon é: {df_tv_amazon}')"
   ]
  },
  {
   "cell_type": "code",
   "execution_count": 492,
   "id": "8d0ba199",
   "metadata": {
    "ExecuteTime": {
     "end_time": "2023-03-21T14:54:55.757397Z",
     "start_time": "2023-03-21T14:54:55.744320Z"
    }
   },
   "outputs": [
    {
     "name": "stdout",
     "output_type": "stream",
     "text": [
      "O total de frequência de Tv Show na Netflix é: 2676\n"
     ]
    }
   ],
   "source": [
    "# Contando a frequência do Tv Show na Netflix\n",
    "df_tv_amazon = (df_tv['type_netflix'] == 'TV Show').sum()\n",
    "print(f'O total de frequência de Tv Show na Netflix é: {df_tv_netflix}')"
   ]
  },
  {
   "cell_type": "code",
   "execution_count": 496,
   "id": "ba433ee1",
   "metadata": {
    "ExecuteTime": {
     "end_time": "2023-03-21T14:58:38.423389Z",
     "start_time": "2023-03-21T14:58:38.409245Z"
    }
   },
   "outputs": [
    {
     "name": "stdout",
     "output_type": "stream",
     "text": [
      "O total de frequência de Tv Show nas duas plataformas é: 4530\n"
     ]
    }
   ],
   "source": [
    "# Total Frequência nas duas plataformas\n",
    "total_frequencia = df_tv_amazon + df_tv_netflix\n",
    "print(f'O total de frequência de Tv Show nas duas plataformas é: {total_frequencia}')"
   ]
  },
  {
   "cell_type": "markdown",
   "id": "55186c33",
   "metadata": {},
   "source": [
    "#  A frequência de \"Movies\" de todos os dados e comparativamente em relação as duas plataformas"
   ]
  },
  {
   "cell_type": "code",
   "execution_count": 497,
   "id": "7e85c5f1",
   "metadata": {
    "ExecuteTime": {
     "end_time": "2023-03-21T17:46:57.239010Z",
     "start_time": "2023-03-21T17:46:57.226039Z"
    }
   },
   "outputs": [],
   "source": [
    "# Separando base para filtrar a frequência de Movies\n",
    "df_movies = df"
   ]
  },
  {
   "cell_type": "code",
   "execution_count": 499,
   "id": "5bc895fd",
   "metadata": {
    "ExecuteTime": {
     "end_time": "2023-03-21T17:48:53.742899Z",
     "start_time": "2023-03-21T17:48:53.722896Z"
    }
   },
   "outputs": [
    {
     "data": {
      "text/html": [
       "<div>\n",
       "<style scoped>\n",
       "    .dataframe tbody tr th:only-of-type {\n",
       "        vertical-align: middle;\n",
       "    }\n",
       "\n",
       "    .dataframe tbody tr th {\n",
       "        vertical-align: top;\n",
       "    }\n",
       "\n",
       "    .dataframe thead th {\n",
       "        text-align: right;\n",
       "    }\n",
       "</style>\n",
       "<table border=\"1\" class=\"dataframe\">\n",
       "  <thead>\n",
       "    <tr style=\"text-align: right;\">\n",
       "      <th></th>\n",
       "      <th>show_id</th>\n",
       "      <th>type_amazon</th>\n",
       "      <th>title_amazon</th>\n",
       "      <th>director_amazon</th>\n",
       "      <th>cast_amazon</th>\n",
       "      <th>country_amazon</th>\n",
       "      <th>date_added_amazon</th>\n",
       "      <th>release_year_amazon</th>\n",
       "      <th>rating_amazon</th>\n",
       "      <th>duration_amazon</th>\n",
       "      <th>...</th>\n",
       "      <th>director_netflix</th>\n",
       "      <th>cast_netflix</th>\n",
       "      <th>country_netflix</th>\n",
       "      <th>date_added_netflix</th>\n",
       "      <th>release_year_netflix</th>\n",
       "      <th>rating_netflix</th>\n",
       "      <th>duration_netflix</th>\n",
       "      <th>listed_in_netflix</th>\n",
       "      <th>description_netflix</th>\n",
       "      <th>mes</th>\n",
       "    </tr>\n",
       "  </thead>\n",
       "  <tbody>\n",
       "    <tr>\n",
       "      <th>0</th>\n",
       "      <td>s1</td>\n",
       "      <td>Movie</td>\n",
       "      <td>The Grand Seduction</td>\n",
       "      <td>Don McKellar</td>\n",
       "      <td>[Brendan Gleeson, Taylor Kitsch, Gordon Pinsent]</td>\n",
       "      <td>Canada</td>\n",
       "      <td>March 30, 2021</td>\n",
       "      <td>2014</td>\n",
       "      <td>NaN</td>\n",
       "      <td>113 min</td>\n",
       "      <td>...</td>\n",
       "      <td>Kirsten Johnson</td>\n",
       "      <td>NaN</td>\n",
       "      <td>United States</td>\n",
       "      <td>2021-09-25</td>\n",
       "      <td>2020.0</td>\n",
       "      <td>PG-13</td>\n",
       "      <td>90 min</td>\n",
       "      <td>Documentaries</td>\n",
       "      <td>As her father nears the end of his life, filmm...</td>\n",
       "      <td>9.0</td>\n",
       "    </tr>\n",
       "    <tr>\n",
       "      <th>1</th>\n",
       "      <td>s2</td>\n",
       "      <td>Movie</td>\n",
       "      <td>Take Care Good Night</td>\n",
       "      <td>Girish Joshi</td>\n",
       "      <td>[Mahesh Manjrekar, Abhay Mahajan, Sachin Khede...</td>\n",
       "      <td>India</td>\n",
       "      <td>March 30, 2021</td>\n",
       "      <td>2018</td>\n",
       "      <td>13+</td>\n",
       "      <td>110 min</td>\n",
       "      <td>...</td>\n",
       "      <td>NaN</td>\n",
       "      <td>Ama Qamata, Khosi Ngema, Gail Mabalane, Thaban...</td>\n",
       "      <td>South Africa</td>\n",
       "      <td>2021-09-24</td>\n",
       "      <td>2021.0</td>\n",
       "      <td>TV-MA</td>\n",
       "      <td>2 Seasons</td>\n",
       "      <td>International TV Shows, TV Dramas, TV Mysteries</td>\n",
       "      <td>After crossing paths at a party, a Cape Town t...</td>\n",
       "      <td>9.0</td>\n",
       "    </tr>\n",
       "  </tbody>\n",
       "</table>\n",
       "<p>2 rows × 24 columns</p>\n",
       "</div>"
      ],
      "text/plain": [
       "  show_id type_amazon          title_amazon director_amazon  \\\n",
       "0      s1       Movie   The Grand Seduction    Don McKellar   \n",
       "1      s2       Movie  Take Care Good Night    Girish Joshi   \n",
       "\n",
       "                                         cast_amazon country_amazon  \\\n",
       "0   [Brendan Gleeson, Taylor Kitsch, Gordon Pinsent]         Canada   \n",
       "1  [Mahesh Manjrekar, Abhay Mahajan, Sachin Khede...          India   \n",
       "\n",
       "  date_added_amazon  release_year_amazon rating_amazon duration_amazon  ...  \\\n",
       "0    March 30, 2021                 2014           NaN         113 min  ...   \n",
       "1    March 30, 2021                 2018           13+         110 min  ...   \n",
       "\n",
       "  director_netflix                                       cast_netflix  \\\n",
       "0  Kirsten Johnson                                                NaN   \n",
       "1              NaN  Ama Qamata, Khosi Ngema, Gail Mabalane, Thaban...   \n",
       "\n",
       "  country_netflix date_added_netflix release_year_netflix rating_netflix  \\\n",
       "0   United States         2021-09-25               2020.0          PG-13   \n",
       "1    South Africa         2021-09-24               2021.0          TV-MA   \n",
       "\n",
       "  duration_netflix                                listed_in_netflix  \\\n",
       "0           90 min                                    Documentaries   \n",
       "1        2 Seasons  International TV Shows, TV Dramas, TV Mysteries   \n",
       "\n",
       "                                 description_netflix  mes  \n",
       "0  As her father nears the end of his life, filmm...  9.0  \n",
       "1  After crossing paths at a party, a Cape Town t...  9.0  \n",
       "\n",
       "[2 rows x 24 columns]"
      ]
     },
     "execution_count": 499,
     "metadata": {},
     "output_type": "execute_result"
    }
   ],
   "source": [
    "df_movies.head(2)"
   ]
  },
  {
   "cell_type": "code",
   "execution_count": 500,
   "id": "341e0bf7",
   "metadata": {
    "ExecuteTime": {
     "end_time": "2023-03-21T17:49:39.294041Z",
     "start_time": "2023-03-21T17:49:39.273674Z"
    }
   },
   "outputs": [
    {
     "name": "stdout",
     "output_type": "stream",
     "text": [
      "O total de frequência de Movie na Amazon é: 7814\n"
     ]
    }
   ],
   "source": [
    "# Contando a frequência de Movies na Amazon\n",
    "df_movie_amazon = (df_movies['type_amazon'] == 'Movie').sum()\n",
    "print(f'O total de frequência de Movie na Amazon é: {df_movie_amazon}')"
   ]
  },
  {
   "cell_type": "code",
   "execution_count": 501,
   "id": "17666357",
   "metadata": {
    "ExecuteTime": {
     "end_time": "2023-03-21T17:50:35.077809Z",
     "start_time": "2023-03-21T17:50:35.057851Z"
    }
   },
   "outputs": [
    {
     "name": "stdout",
     "output_type": "stream",
     "text": [
      "O total de frequência de Movie na Netflix é: 6131\n"
     ]
    }
   ],
   "source": [
    "# Contando a frequência de Movies na Netflix\n",
    "df_movie_netflix = (df_movies['type_netflix'] == 'Movie').sum()\n",
    "print(f'O total de frequência de Movie na Netflix é: {df_movie_netflix}')"
   ]
  },
  {
   "cell_type": "code",
   "execution_count": 504,
   "id": "97cc5e47",
   "metadata": {
    "ExecuteTime": {
     "end_time": "2023-03-21T17:52:41.319052Z",
     "start_time": "2023-03-21T17:52:41.313905Z"
    }
   },
   "outputs": [
    {
     "name": "stdout",
     "output_type": "stream",
     "text": [
      "O total de frequência de Movie nas duas plataformas é: 13945\n"
     ]
    }
   ],
   "source": [
    "# Total Frequência de Movie nas duas plataformas\n",
    "total_frequencia_movie = df_movie_amazon + df_movie_netflix\n",
    "print(f'O total de frequência de Movie nas duas plataformas é: {total_frequencia_movie}')"
   ]
  },
  {
   "cell_type": "code",
   "execution_count": null,
   "id": "fb6c76e3",
   "metadata": {},
   "outputs": [],
   "source": []
  },
  {
   "cell_type": "code",
   "execution_count": null,
   "id": "0b2b5e48",
   "metadata": {},
   "outputs": [],
   "source": [
    "Paulo Choi\n",
    "https://www.linkedin.com/in/paulo-choi/\n",
    "https://github.com/tchepaulo/Data-Challenge-20221121"
   ]
  }
 ],
 "metadata": {
  "kernelspec": {
   "display_name": "Python 3 (ipykernel)",
   "language": "python",
   "name": "python3"
  },
  "language_info": {
   "codemirror_mode": {
    "name": "ipython",
    "version": 3
   },
   "file_extension": ".py",
   "mimetype": "text/x-python",
   "name": "python",
   "nbconvert_exporter": "python",
   "pygments_lexer": "ipython3",
   "version": "3.9.13"
  },
  "toc": {
   "base_numbering": 1,
   "nav_menu": {},
   "number_sections": true,
   "sideBar": true,
   "skip_h1_title": false,
   "title_cell": "Table of Contents",
   "title_sidebar": "Contents",
   "toc_cell": false,
   "toc_position": {},
   "toc_section_display": true,
   "toc_window_display": false
  },
  "varInspector": {
   "cols": {
    "lenName": 16,
    "lenType": 16,
    "lenVar": 40
   },
   "kernels_config": {
    "python": {
     "delete_cmd_postfix": "",
     "delete_cmd_prefix": "del ",
     "library": "var_list.py",
     "varRefreshCmd": "print(var_dic_list())"
    },
    "r": {
     "delete_cmd_postfix": ") ",
     "delete_cmd_prefix": "rm(",
     "library": "var_list.r",
     "varRefreshCmd": "cat(var_dic_list()) "
    }
   },
   "types_to_exclude": [
    "module",
    "function",
    "builtin_function_or_method",
    "instance",
    "_Feature"
   ],
   "window_display": false
  }
 },
 "nbformat": 4,
 "nbformat_minor": 5
}
